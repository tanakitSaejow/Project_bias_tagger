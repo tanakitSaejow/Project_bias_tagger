{
 "cells": [
  {
   "cell_type": "code",
   "execution_count": 1,
   "id": "56d858f0",
   "metadata": {
    "scrolled": true
   },
   "outputs": [],
   "source": [
    "\"\"\"\n",
    "add tags to a corpusfile (output of clean_text.py)\n",
    "\n",
    "\"\"\"\n",
    "\n",
    "import pandas as pd\n",
    "import os\n",
    "from simplediff import diff\n",
    "from pythainlp.tokenize import word_tokenize\n",
    "\n",
    "# get data from biased dataset \n",
    "# format : [text1, text2]\n",
    "# text1 คือ ข้อมูลยังไม่เป็นกลาง\n",
    "# text2 คือ ข้อมูลที่เป็นกลางแล้ว\n",
    "schema_df = pd.read_csv('../dataset/LAW/biased.csv' ,encoding=\"utf-8-sig\")\n",
    "\n",
    "# หาผลต่างระหว่างการแก้ไข โดยใช้ Simplediff \n",
    "# output : [operater,text token]\n",
    "def word_token(schema_df):\n",
    "    token_diff = []\n",
    "    data1 = schema_df.text1\n",
    "    data2 = schema_df.text2\n",
    "    for text1, text2 in zip(data1, data2):\n",
    "        text_token1 = word_tokenize(text1)\n",
    "        text_token2 = word_tokenize(text2)\n",
    "        token_diff.append(diff(text_token1, text_token2))\n",
    "        print(token_diff)\n",
    "    return token_diff\n",
    "    \n",
    "# ใช้ tag e และ d จากเครื่องหมายที่ได้จาก simplediff \n",
    "# e = ['-','+']\n",
    "# d = ['-']\n",
    "def tag_data(tokdiff_data):\n",
    "    out = []\n",
    "    prev_tag = ['*']\n",
    "    prev_words = []\n",
    "    tag = []\n",
    "    i = 0\n",
    "    d = 0\n",
    "    e = 0\n",
    "    for tag, chunk in tokdiff_data:\n",
    "        i += 1\n",
    "        if tag == '+' and prev_tag[-1] == '-':\n",
    "            word = '[e]' + ''.join(prev_words[-1]).strip() + '[/e]'\n",
    "            if word != '[e][/e]':\n",
    "                out += [word]\n",
    "                e += 1\n",
    "        elif tag == '=':\n",
    "            if prev_tag[-1] == '-':\n",
    "                word = '[d]' + ''.join(prev_words[-1]).strip() + '[/d]'\n",
    "                if word != '[d][/d]':\n",
    "                    out += [word]\n",
    "                    d += 1\n",
    "                out += chunk\n",
    "            else :\n",
    "                out += chunk\n",
    "        elif i == len(tokdiff_data) and tag == '-':\n",
    "            word = '[d]' + ''.join(chunk).strip() + '[/d]'\n",
    "            if word != '[d][/d]':\n",
    "                out += [word]\n",
    "                d += 1\n",
    "        prev_tag.append(tag)\n",
    "        prev_words.append(chunk)\n",
    "    return out"
   ]
  },
  {
   "cell_type": "code",
   "execution_count": 6,
   "id": "b3ffe710",
   "metadata": {},
   "outputs": [
    {
     "name": "stderr",
     "output_type": "stream",
     "text": [
      "IOPub data rate exceeded.\n",
      "The notebook server will temporarily stop sending output\n",
      "to the client in order to avoid crashing it.\n",
      "To change this limit, set the config variable\n",
      "`--NotebookApp.iopub_data_rate_limit`.\n",
      "\n",
      "Current values:\n",
      "NotebookApp.iopub_data_rate_limit=1000000.0 (bytes/sec)\n",
      "NotebookApp.rate_limit_window=3.0 (secs)\n",
      "\n"
     ]
    }
   ],
   "source": [
    "token_diff =  word_token(schema_df)"
   ]
  },
  {
   "cell_type": "code",
   "execution_count": 11,
   "id": "9e0bd9b3",
   "metadata": {
    "scrolled": true
   },
   "outputs": [],
   "source": [
    "# convert array to string and tag bias\n",
    "get_join = []\n",
    "for i in range(len(token_diff)):\n",
    "    out =  tag_data(token_diff[i])\n",
    "#     print(''.join(out))\n",
    "    get_join.append(''.join(out))\n",
    "    get_join.append('')"
   ]
  },
  {
   "cell_type": "code",
   "execution_count": 12,
   "id": "7690dfa7",
   "metadata": {
    "scrolled": false
   },
   "outputs": [
    {
     "name": "stdout",
     "output_type": "stream",
     "text": [
      "ในบันทึก[d]ย่อ[/d]ที่[e]น่าเศร้า[/e]เมื่อวันที่ 15 กันยายน 2547 จอห์นนี่[e]ราโมน[/e] ([e]ซึ่งแสดง[/e]ในตอนนี้กับราโมนส์) เสียชีวิต\n",
      "\n",
      "เมื่อไม่นานมานี้ Novalja มีชื่อเสียงเพราะชายหาด Zre [d]ที่สวยงาม[/d]ซึ่งเป็นหนึ่งในเขตปาร์ตี้ฤดูร้อนที่ใหญ่ที่สุดในยุโรป\n",
      "\n",
      "ไอดอลปรากฏตัวในนักเล่าเรื่อง VH1 และออกซีดียอดฮิตที่ยิ่งใหญ่ที่สุด[d]ที่ประสบความสำเร็จอย่างมาก[/d]ในปี 2544\n",
      "\n",
      "เขาเปลี่ยนหยินชั่วร้ายเพราะเธอจะเดทกับเขา[d]ชั่วร้าย[/d]เมื่อเธอชั่วร้าย\n",
      "\n",
      "Menino ได้พบคำวิจารณ์จากกลุ่มเสรีภาพพลเมืองเกี่ยวกับประเด็นต่าง ๆ ของการพูดฟรีรวมถึงการปรากฏตัวของตำรวจที่หนักและ[e]กดขี่[/e]ในช่วงการประชุมประชาธิปไตยแห่งชาติปี 2547\n",
      "\n",
      "ตั้งแต่เดือนมกราคม 2009 เป็นต้นไปขณะที่ Abbondanzieri กลับไปที่ Boca Juniors Jacobo ได้รับการคืนสถานะเป็นผู้เริ่มต้นปรากฏตัวครั้งแรกในวันที่ 25 ใน[e]บ้าน[/e] 5-1 [e]ที่ประสบความสำเร็จ[/e]กับ Sporting de Gijn\n",
      "\n",
      "ชื่อของผู้ปกครองมาซิโดเนียตอนบนมักจะไม่[e]ใช่[/e]กรีก (Arhabaios, Sirrhas) และนักวิชาการเช่น Eugene Borza ได้ใช้สิ่งนี้เพื่อยืนยันว่าชาวมาซิโดเนีย[d]ของมาซิโดเนีย[/d]ตอนบนยังคงมีชื่อมาซิโดเนียดั้งเดิม ไปทางใต้.\n",
      "\n",
      "สิ่งเหล่านี้เป็นที่ถกเถียงกันมากขึ้นเพราะพวกเขาเกี่ยวข้องกับการทำลายล้างป่าเถื่อน[d]ความรุนแรง[/d]และ/หรือการบาดเจ็บ\n",
      "\n",
      "[e]หลายคน[/e]แย้งว่าการจัดกลุ่มอุดมการณ์ที่แตกต่างกันเป็นแนวคิดเดียวของ \"Islamofascism\" อาจนำไปสู่การทำให้เกิดสาเหตุของการก่อการร้ายมากเกินไป\n",
      "\n",
      "15 มีนาคม - นักดาราศาสตร์ประกาศการค้นพบ 90377 Sedna ซึ่งเป็นดาวเคราะห์ที่มีลักษณะคล้ายพลูโตซึ่ง[d]ถือว่า[/d]เป็นวัตถุ[e]ที่อยู่[/e]ห่างไกลที่สุดที่รู้จักกันในการโคจรรอบดวงอาทิตย์\n",
      "\n"
     ]
    }
   ],
   "source": [
    "for i in range(20) :\n",
    "    print(get_join[i])"
   ]
  },
  {
   "cell_type": "code",
   "execution_count": 14,
   "id": "d79f1d60",
   "metadata": {},
   "outputs": [],
   "source": [
    "# save file\n",
    "with open('../dataset/tagged_data/bias_data/tagged_data.txt',\"w\",  encoding=\"utf-8-sig\") as f:\n",
    "    i=0\n",
    "    while i<len(get_join):\n",
    "        for j in get_join[i]:\n",
    "            f.write(j)\n",
    "        if i+1<len(get_join):\n",
    "            f.write(\"\\n\")\n",
    "        i+=1"
   ]
  },
  {
   "cell_type": "markdown",
   "id": "b0e6726e",
   "metadata": {},
   "source": [
    "# TEST"
   ]
  },
  {
   "cell_type": "code",
   "execution_count": 3,
   "id": "c658904f",
   "metadata": {},
   "outputs": [
    {
     "name": "stdout",
     "output_type": "stream",
     "text": [
      "['ใน', 'เดือน', 'พฤศจิกายน', ' ', '2555', ' ', 'ฮา', 'ร์ต', 'ได้', 'รับรอง', ' ', 'mitt', ' ', 'romney', ' ', 'ให้', 'เป็น', 'ประธานาธิบดี', ' ', 'อย่าง', 'น่าเสียดาย']\n",
      "------------\n",
      "['ฝรั่งเศส', 'เริ่ม', 'ขยายตัว', 'ใน', 'แอฟริกา', 'ตะวัน', 'ตกใน', 'ช่วง', 'ปลาย', 'ทศวรรษ', ' ', '1870', ' ', 'โดย', 'ผลัก', 'ไป', 'ทาง', 'ตะวัน', 'ออกจาก', 'เซเนกัล', 'เพื่อ', 'พยายาม', 'ไป', 'ถึง', 'ต้นน้ำลำธาร', 'ของ', 'แม่น้ำ', 'ไนล์', 'ซึ่ง', 'ปัจจุบัน', 'เป็น', 'ประเทศ', 'ซูดาน']\n",
      "------------\n",
      "[('+', ['ฝรั่งเศส', 'เริ่ม', 'ขยายตัว']), ('=', ['ใน']), ('-', ['เดือน', 'พฤศจิกายน']), ('+', ['แอฟริกา', 'ตะวัน', 'ตกใน', 'ช่วง', 'ปลาย', 'ทศวรรษ']), ('=', [' ']), ('-', ['2555']), ('+', ['1870']), ('=', [' ']), ('-', ['ฮา', 'ร์ต', 'ได้', 'รับรอง', ' ', 'mitt', ' ', 'romney', ' ', 'ให้']), ('+', ['โดย', 'ผลัก', 'ไป', 'ทาง', 'ตะวัน', 'ออกจาก', 'เซเนกัล', 'เพื่อ', 'พยายาม', 'ไป', 'ถึง', 'ต้นน้ำลำธาร', 'ของ', 'แม่น้ำ', 'ไนล์', 'ซึ่ง', 'ปัจจุบัน']), ('=', ['เป็น']), ('-', ['ประธานาธิบดี', ' ', 'อย่าง', 'น่าเสียดาย']), ('+', ['ประเทศ', 'ซูดาน'])]\n"
     ]
    }
   ],
   "source": [
    "text1 = '''ในเดือนพฤศจิกายน 2555 ฮาร์ตได้รับรอง mitt romney ให้เป็นประธานาธิบดี อย่างน่าเสียดาย'''\n",
    "text2 = '''ฝรั่งเศสเริ่มขยายตัวในแอฟริกาตะวันตกในช่วงปลายทศวรรษ 1870 โดยผลักไปทางตะวันออกจากเซเนกัลเพื่อพยายามไปถึงต้นน้ำลำธารของแม่น้ำไนล์ซึ่งปัจจุบันเป็นประเทศซูดาน'''\n",
    "text_token1 = word_tokenize(text1)\n",
    "text_token2 = word_tokenize(text2)\n",
    "tok_diff = diff(text_token1,text_token2)\n",
    "print(text_token1)\n",
    "print(\"------------\")\n",
    "print(text_token2)\n",
    "print(\"------------\")\n",
    "print(tok_diff)"
   ]
  },
  {
   "cell_type": "code",
   "execution_count": 4,
   "id": "92065bb5",
   "metadata": {},
   "outputs": [
    {
     "data": {
      "text/plain": [
       "'ในเดือนพฤศจิกายน 2555 ฮาร์ตได้รับรอง mitt romney ให้เป็นประธานาธิบดี อย่างน่าเสียดาย'"
      ]
     },
     "execution_count": 4,
     "metadata": {},
     "output_type": "execute_result"
    }
   ],
   "source": [
    "text1"
   ]
  },
  {
   "cell_type": "code",
   "execution_count": 5,
   "id": "f0cf1424",
   "metadata": {},
   "outputs": [
    {
     "data": {
      "text/plain": [
       "'ฝรั่งเศสเริ่มขยายตัวในแอฟริกาตะวันตกในช่วงปลายทศวรรษ 1870 โดยผลักไปทางตะวันออกจากเซเนกัลเพื่อพยายามไปถึงต้นน้ำลำธารของแม่น้ำไนล์ซึ่งปัจจุบันเป็นประเทศซูดาน'"
      ]
     },
     "execution_count": 5,
     "metadata": {},
     "output_type": "execute_result"
    }
   ],
   "source": [
    "text2"
   ]
  },
  {
   "cell_type": "code",
   "execution_count": null,
   "id": "eb4edc58",
   "metadata": {},
   "outputs": [],
   "source": []
  }
 ],
 "metadata": {
  "kernelspec": {
   "display_name": "Python 3 (ipykernel)",
   "language": "python",
   "name": "python3"
  },
  "language_info": {
   "codemirror_mode": {
    "name": "ipython",
    "version": 3
   },
   "file_extension": ".py",
   "mimetype": "text/x-python",
   "name": "python",
   "nbconvert_exporter": "python",
   "pygments_lexer": "ipython3",
   "version": "3.7.13"
  }
 },
 "nbformat": 4,
 "nbformat_minor": 5
}
