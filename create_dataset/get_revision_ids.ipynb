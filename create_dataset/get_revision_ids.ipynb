{
 "cells": [
  {
   "cell_type": "markdown",
   "id": "40421c31",
   "metadata": {},
   "source": [
    "## Reference\n",
    "   - https://github.com/rpryzant/neutralizing-bias/blob/master/harvest/get_revision_ids.py"
   ]
  },
  {
   "cell_type": "code",
   "execution_count": 2,
   "id": "1fdd1224",
   "metadata": {},
   "outputs": [
    {
     "name": "stderr",
     "output_type": "stream",
     "text": [
      "  1%|▋                                                          | 129149873/11325433847 [07:10<10:21:57, 300030.29it/s]\n"
     ]
    }
   ],
   "source": [
    "\"\"\"\n",
    "download\n",
    "revisions id  from wikipedia.\n",
    "\"\"\"\n",
    "import sys\n",
    "import xml.etree.cElementTree as ET\n",
    "from tqdm import tqdm\n",
    "import re\n",
    "\n",
    "wiki_xml_path = '../dataset/LAW/thwiki-20220401-stub-meta-history.xml'\n",
    "\n",
    "revisions = []\n",
    "\n",
    "class Revision():\n",
    "    def __init__(self):\n",
    "        self.revid = None\n",
    "        self.comment = None\n",
    "        self.timestamp = None     \n",
    "        # negative filter on revisions\n",
    "        self.INVALID_REV_RE = 'revert|undo|undid|robot'   \n",
    "        # NPOV detector. Essentially looks for common pov-related words\n",
    "        #     pov, depov, npov, yespov, attributepov, rmpov, wpov, vpov, neutral\n",
    "        # with certain leading punctuation allowed\n",
    "        self.NPOV_RE = '([- wnv\\/\\\\\\:\\{\\(\\[\\\"\\+\\'\\.\\|\\_\\)\\#\\=\\;\\~](rm)?(attribute)?(yes)?(de)?n?pov)|([- n\\/\\\\\\:\\{\\(\\[\\\"\\+\\'\\.\\|\\_\\)\\#\\;\\~]neutral)|([- n\\/\\\\\\:\\{\\(\\[\\\"\\+\\'\\.\\|\\_\\)\\#\\;\\~]ไม่เป็นกลาง)|([- n\\/\\\\\\:\\{\\(\\[\\\"\\+\\'\\.\\|\\_\\)\\#\\;\\~]เอนเอียง)|([- n\\/\\\\\\:\\{\\(\\[\\\"\\+\\'\\.\\|\\_\\)\\#\\;\\~]อคติ)'\n",
    "\n",
    "    def incomplete(self):\n",
    "        return not self.revid or not self.comment or not self.timestamp\n",
    "\n",
    "    def is_admissible(self):\n",
    "        c_lower = self.comment.lower()\n",
    "\n",
    "\n",
    "        if re.search(self.INVALID_REV_RE, c_lower):\n",
    "            return False\n",
    "        if re.search(self.NPOV_RE, c_lower):\n",
    "            if 'pover' in c_lower: # special case: \"poverty\", \"impovershiment\", etc\n",
    "                return False\n",
    "            return True\n",
    "        return False\n",
    "\n",
    "    def print_out(self):\n",
    "        revisions.append('\\t'.join([self.revid, self.comment, self.timestamp]))\n",
    "\n",
    "SPECIAL_TITLE_RE = \"<title>.*?(talk|user|wikipedia)\\:\"\n",
    "\n",
    "cur_rev = Revision()\n",
    "page_skip = False\n",
    "for line in tqdm(open(wiki_xml_path, encoding=\"utf-8-sig\"), total=11325433847):\n",
    "    line = line.strip()\n",
    "    line_lower = line.lower()\n",
    "    if line == '<page>':\n",
    "        page_skip = False\n",
    "    if re.search(SPECIAL_TITLE_RE, line_lower):\n",
    "        page_skip = True\n",
    "    if page_skip:\n",
    "        continue\n",
    "\n",
    "    if line == '</revision>':\n",
    "        if not cur_rev.incomplete() and cur_rev.is_admissible():\n",
    "            cur_rev.print_out()\n",
    "        cur_rev = Revision()\n",
    "\n",
    "    elif '<id>' in line and cur_rev.revid is None:  # avoid comment id\n",
    "            cur_rev.revid = re.sub('</?[\\w]+>', '', line)\n",
    "    elif '<comment>' in line:\n",
    "        cur_rev.comment = re.sub('</?[\\w]+>', '', line).replace('\\n', ' ').replace('\\t', ' ').replace('\\r', ' ')\n",
    "    elif '<timestamp>' in line:\n",
    "        cur_rev.timestamp = re.sub('</?[\\w]+>', '', line)"
   ]
  },
  {
   "cell_type": "code",
   "execution_count": 3,
   "id": "892671f8",
   "metadata": {},
   "outputs": [],
   "source": [
    "with open('../dataset/LAW/revision1.ids',\"w\",  encoding=\"utf-8-sig\") as f:\n",
    "    i=0\n",
    "    while i<len(revisions):\n",
    "        for j in revisions[i]:\n",
    "            f.write(j)\n",
    "        if i+1<len(revisions):\n",
    "            f.write(\"\\n\")\n",
    "        i+=1"
   ]
  },
  {
   "cell_type": "code",
   "execution_count": null,
   "id": "c588cdca",
   "metadata": {},
   "outputs": [],
   "source": []
  }
 ],
 "metadata": {
  "kernelspec": {
   "display_name": "Python 3 (ipykernel)",
   "language": "python",
   "name": "python3"
  },
  "language_info": {
   "codemirror_mode": {
    "name": "ipython",
    "version": 3
   },
   "file_extension": ".py",
   "mimetype": "text/x-python",
   "name": "python",
   "nbconvert_exporter": "python",
   "pygments_lexer": "ipython3",
   "version": "3.7.13"
  }
 },
 "nbformat": 4,
 "nbformat_minor": 5
}
