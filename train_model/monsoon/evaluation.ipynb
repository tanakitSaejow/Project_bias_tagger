{
 "cells": [
  {
   "cell_type": "code",
   "execution_count": 1,
   "metadata": {},
   "outputs": [],
   "source": [
    "import dill\n",
    "import pandas as pd\n",
    "from sklearn.model_selection import train_test_split"
   ]
  },
  {
   "cell_type": "code",
   "execution_count": 2,
   "metadata": {},
   "outputs": [
    {
     "name": "stdout",
     "output_type": "stream",
     "text": [
      "400\n",
      "100\n"
     ]
    }
   ],
   "source": [
    "path_name = \"../../dataset/data/\"\n",
    "\n",
    "with open(path_name + 'biased-pos.data', 'rb') as file:\n",
    "    datatofile = dill.load(file)\n",
    "\n",
    "tagged_sents = []\n",
    "for data in datatofile:\n",
    "    text_inside = []\n",
    "    for word, pos, label in data:\n",
    "        if word.strip() == '':\n",
    "            text_inside.append(('_', label))\n",
    "        else:\n",
    "            text_inside.append((word, label))\n",
    "    tagged_sents.append(text_inside)\n",
    "\n",
    "train_sents, test_sents = train_test_split(tagged_sents, test_size=0.2, random_state=42)\n",
    "print(len(train_sents))\n",
    "print(len(test_sents))"
   ]
  },
  {
   "cell_type": "code",
   "execution_count": 3,
   "metadata": {},
   "outputs": [],
   "source": [
    "def convert_to_simple_transformer_format(sentences):\n",
    "    sentence_id = []\n",
    "    words = []\n",
    "    labels = []\n",
    "\n",
    "    for idx, sents in enumerate(sentences):\n",
    "        for word, label in sents:\n",
    "            label = label.upper().replace(\"-\", \"_\")\n",
    "            sentence_id.append(idx)\n",
    "            words.append(word)\n",
    "            labels.append(label)\n",
    "    return pd.DataFrame(\n",
    "        {\"sentence_id\": sentence_id, \"words\": words, \"labels\": labels}\n",
    "    )    \n",
    "            \n"
   ]
  },
  {
   "cell_type": "code",
   "execution_count": 4,
   "metadata": {},
   "outputs": [
    {
     "data": {
      "text/html": [
       "<div>\n",
       "<style scoped>\n",
       "    .dataframe tbody tr th:only-of-type {\n",
       "        vertical-align: middle;\n",
       "    }\n",
       "\n",
       "    .dataframe tbody tr th {\n",
       "        vertical-align: top;\n",
       "    }\n",
       "\n",
       "    .dataframe thead th {\n",
       "        text-align: right;\n",
       "    }\n",
       "</style>\n",
       "<table border=\"1\" class=\"dataframe\">\n",
       "  <thead>\n",
       "    <tr style=\"text-align: right;\">\n",
       "      <th></th>\n",
       "      <th>sentence_id</th>\n",
       "      <th>words</th>\n",
       "      <th>labels</th>\n",
       "    </tr>\n",
       "  </thead>\n",
       "  <tbody>\n",
       "    <tr>\n",
       "      <th>0</th>\n",
       "      <td>0</td>\n",
       "      <td>kevin</td>\n",
       "      <td>O</td>\n",
       "    </tr>\n",
       "    <tr>\n",
       "      <th>1</th>\n",
       "      <td>0</td>\n",
       "      <td>_</td>\n",
       "      <td>O</td>\n",
       "    </tr>\n",
       "    <tr>\n",
       "      <th>2</th>\n",
       "      <td>0</td>\n",
       "      <td>mitnick</td>\n",
       "      <td>O</td>\n",
       "    </tr>\n",
       "    <tr>\n",
       "      <th>3</th>\n",
       "      <td>0</td>\n",
       "      <td>_</td>\n",
       "      <td>O</td>\n",
       "    </tr>\n",
       "    <tr>\n",
       "      <th>4</th>\n",
       "      <td>0</td>\n",
       "      <td>เป็น</td>\n",
       "      <td>O</td>\n",
       "    </tr>\n",
       "    <tr>\n",
       "      <th>...</th>\n",
       "      <td>...</td>\n",
       "      <td>...</td>\n",
       "      <td>...</td>\n",
       "    </tr>\n",
       "    <tr>\n",
       "      <th>11054</th>\n",
       "      <td>399</td>\n",
       "      <td>และ</td>\n",
       "      <td>O</td>\n",
       "    </tr>\n",
       "    <tr>\n",
       "      <th>11055</th>\n",
       "      <td>399</td>\n",
       "      <td>ครู</td>\n",
       "      <td>O</td>\n",
       "    </tr>\n",
       "    <tr>\n",
       "      <th>11056</th>\n",
       "      <td>399</td>\n",
       "      <td>สอน</td>\n",
       "      <td>O</td>\n",
       "    </tr>\n",
       "    <tr>\n",
       "      <th>11057</th>\n",
       "      <td>399</td>\n",
       "      <td>ทฤษฎี</td>\n",
       "      <td>O</td>\n",
       "    </tr>\n",
       "    <tr>\n",
       "      <th>11058</th>\n",
       "      <td>399</td>\n",
       "      <td>การเมือง</td>\n",
       "      <td>O</td>\n",
       "    </tr>\n",
       "  </tbody>\n",
       "</table>\n",
       "<p>11059 rows × 3 columns</p>\n",
       "</div>"
      ],
      "text/plain": [
       "       sentence_id     words labels\n",
       "0                0     kevin      O\n",
       "1                0         _      O\n",
       "2                0   mitnick      O\n",
       "3                0         _      O\n",
       "4                0      เป็น      O\n",
       "...            ...       ...    ...\n",
       "11054          399       และ      O\n",
       "11055          399       ครู      O\n",
       "11056          399       สอน      O\n",
       "11057          399     ทฤษฎี      O\n",
       "11058          399  การเมือง      O\n",
       "\n",
       "[11059 rows x 3 columns]"
      ]
     },
     "execution_count": 4,
     "metadata": {},
     "output_type": "execute_result"
    }
   ],
   "source": [
    "train_ = convert_to_simple_transformer_format(train_sents)\n",
    "test_ = convert_to_simple_transformer_format(test_sents)\n",
    "train_"
   ]
  },
  {
   "cell_type": "code",
   "execution_count": 5,
   "metadata": {},
   "outputs": [],
   "source": [
    "import torch\n",
    "from simpletransformers.ner import NERModel, NERArgs\n",
    "\n",
    "_NER_TAGS = [\"O\", \"B_D\", \"B_E\", \"I_D\", \"I_E\"]\n",
    "ner_args = NERArgs()\n",
    "ner_args.max_seq_length = 256\n",
    "test_ner = NERModel(\"bert\", 'outputs/best_model', args=ner_args, use_cuda=torch.cuda.is_available(), labels=_NER_TAGS)"
   ]
  },
  {
   "cell_type": "code",
   "execution_count": 11,
   "metadata": {},
   "outputs": [
    {
     "data": {
      "application/vnd.jupyter.widget-view+json": {
       "model_id": "1a38ecd6c4cd447b83a69db16f77a44a",
       "version_major": 2,
       "version_minor": 0
      },
      "text/plain": [
       "  0%|          | 0/1 [00:00<?, ?it/s]"
      ]
     },
     "metadata": {},
     "output_type": "display_data"
    },
    {
     "data": {
      "application/vnd.jupyter.widget-view+json": {
       "model_id": "228f170cf3ad4ee58646de129877ed2b",
       "version_major": 2,
       "version_minor": 0
      },
      "text/plain": [
       "Running Prediction:   0%|          | 0/1 [00:00<?, ?it/s]"
      ]
     },
     "metadata": {},
     "output_type": "display_data"
    },
    {
     "name": "stdout",
     "output_type": "stream",
     "text": [
      "[{'หลังจาก': 'O'}, {'การ': 'O'}, {'ออกเดินทาง': 'O'}, {'จาก': 'O'}, {'แฮร์': 'O'}, {'วูด': 'O'}, {'_': 'O'}, {'ทัวร์': 'O'}, {'ได้': 'O'}, {'เดิน': 'O'}, {'ไป': 'O'}, {'ตาม': 'O'}, {'หุบเขา': 'O'}, {'ท่าเทียบเรือ': 'O'}, {'ผ่าน': 'O'}, {'ออ': 'O'}, {'ต': 'O'}, {'ลี': 'O'}, {'ย์': 'O'}, {'_': 'O'}, {'เบอร์': 'O'}, {'ลี': 'O'}, {'ย์': 'O'}, {'ใน': 'O'}, {'วอร์': 'O'}, {'เฟ': 'O'}, {'เด': 'O'}, {'ล': 'O'}, {'_': 'O'}, {'และ': 'O'}, {'บ้าน': 'O'}, {'ของ': 'O'}, {'วัว': 'O'}, {'และ': 'O'}, {'ลูก': 'O'}, {'วัว': 'O'}, {'ที่': 'O'}, {'มีชื่อเสียง': 'O'}, {'_': 'O'}, {'อิลค์': 'O'}, {'ลี': 'O'}, {'ย์': 'O'}]\n"
     ]
    }
   ],
   "source": [
    "idx = 1\n",
    "test_pred = (list(map(lambda word_lable: word_lable[0], test_sents[idx])))\n",
    "predictions, raw_outputs = test_ner.predict([test_pred], split_on_space=False)\n",
    "print(predictions[0]) "
   ]
  },
  {
   "cell_type": "code",
   "execution_count": 7,
   "metadata": {},
   "outputs": [
    {
     "data": {
      "application/vnd.jupyter.widget-view+json": {
       "model_id": "c722f1ec10ad4a5891d28848178e9384",
       "version_major": 2,
       "version_minor": 0
      },
      "text/plain": [
       "  0%|          | 0/1 [00:00<?, ?it/s]"
      ]
     },
     "metadata": {},
     "output_type": "display_data"
    },
    {
     "data": {
      "application/vnd.jupyter.widget-view+json": {
       "model_id": "39d6dfe57016470da48e7b70a38d8744",
       "version_major": 2,
       "version_minor": 0
      },
      "text/plain": [
       "Running Prediction:   0%|          | 0/1 [00:00<?, ?it/s]"
      ]
     },
     "metadata": {},
     "output_type": "display_data"
    },
    {
     "name": "stdout",
     "output_type": "stream",
     "text": [
      "[{'ที่นั่น': 'O'}, {'เขา': 'O'}, {'อาศัย': 'O'}, {'อยู่': 'O'}, {'ใน': 'O'}, {'แฟลต': 'O'}, {'ห้อง': 'O'}, {'เดี่ยว': 'O'}, {'ที่': 'O'}, {'ตลาด': 'O'}, {' ': 'O'}, {'anarkali': 'O'}, {'ที่': 'B_D'}, {'มีชื่อเสียง': 'B_E'}, {'ลา': 'O'}, {'ฮอร์': 'O'}]\n"
     ]
    }
   ],
   "source": [
    "from pythainlp.tokenize import word_tokenize\n",
    "\n",
    "text = \"ที่นั่นเขาอาศัยอยู่ในแฟลตห้องเดี่ยวที่ตลาด anarkaliที่มีชื่อเสียงลาฮอร์\"\n",
    "text_token = word_tokenize(text)\n",
    "predictions, raw_outputs = test_ner.predict([text_token], split_on_space=False)\n",
    "print(predictions[0]) "
   ]
  },
  {
   "cell_type": "code",
   "execution_count": 8,
   "metadata": {},
   "outputs": [
    {
     "name": "stdout",
     "output_type": "stream",
     "text": [
      "['O', 'O', 'O', 'O', 'O', 'O', 'O', 'O', 'O', 'O', 'O', 'O', 'O', 'O', 'O', 'O', 'O', 'O', 'O', 'O', 'O', 'O', 'O', 'O', 'O', 'O', 'O', 'O', 'O', 'O', 'O', 'O', 'O', 'O', 'O', 'O', 'O', 'O', 'O', 'O', 'O', 'O']\n"
     ]
    }
   ],
   "source": [
    "# get label test list\n",
    "y_test = []\n",
    "for sent in test_sents:\n",
    "    labels = []\n",
    "    for word, label in sent:\n",
    "        label = label.upper().replace(\"-\", \"_\")\n",
    "        labels.append(label)\n",
    "    y_test.append(labels)\n",
    "    \n",
    "print(y_test[1])\n"
   ]
  },
  {
   "cell_type": "code",
   "execution_count": 9,
   "metadata": {},
   "outputs": [
    {
     "data": {
      "application/vnd.jupyter.widget-view+json": {
       "model_id": "92d3faea41c247909926e086835c9ad6",
       "version_major": 2,
       "version_minor": 0
      },
      "text/plain": [
       "  0%|          | 0/1 [00:00<?, ?it/s]"
      ]
     },
     "metadata": {},
     "output_type": "display_data"
    },
    {
     "data": {
      "application/vnd.jupyter.widget-view+json": {
       "model_id": "29cbe19acf914020a1685a24c28d4296",
       "version_major": 2,
       "version_minor": 0
      },
      "text/plain": [
       "Running Prediction:   0%|          | 0/13 [00:00<?, ?it/s]"
      ]
     },
     "metadata": {},
     "output_type": "display_data"
    },
    {
     "name": "stdout",
     "output_type": "stream",
     "text": [
      "['O', 'O', 'O', 'O', 'O', 'O', 'O', 'O', 'O', 'O', 'O', 'O', 'O', 'O', 'O', 'O', 'O', 'O', 'O', 'O', 'O', 'O', 'O', 'O', 'O', 'O', 'O', 'O', 'O', 'O', 'O', 'O', 'O', 'O', 'O', 'O', 'O', 'O', 'O', 'O', 'O', 'O']\n"
     ]
    }
   ],
   "source": [
    "# get label pred list\n",
    "test_list = []\n",
    "for sent in test_sents:\n",
    "    words = []\n",
    "    for word, label in sent:\n",
    "        words.append(word)\n",
    "    test_list.append(words)\n",
    "\n",
    "predictions, raw_outputs = test_ner.predict(test_list, split_on_space=False)\n",
    "\n",
    "y_pred = []\n",
    "for preds in predictions:\n",
    "    y_pred.append([list(pred.items())[0][1] for pred in preds])\n",
    "\n",
    "print(y_pred[1])"
   ]
  },
  {
   "cell_type": "code",
   "execution_count": 19,
   "metadata": {},
   "outputs": [],
   "source": [
    "y_pred_ = []\n",
    "y_test_ = []\n",
    "for i in range(len(y_test)):\n",
    "    if len(y_pred[i]) != len(y_test[i]):\n",
    "        continue;\n",
    "    y_pred_.append(y_pred[i])\n",
    "    y_test_.append(y_test[i])"
   ]
  },
  {
   "cell_type": "code",
   "execution_count": 20,
   "metadata": {},
   "outputs": [],
   "source": [
    "def convert_format_lable(list_lable):\n",
    "    result = []\n",
    "    for list_ in list_lable:\n",
    "        result.append(list(map(lambda lable: lable.lower().capitalize().replace(\"_\", \"-\"), list_)))\n",
    "    return result\n",
    "\n",
    "y_test_ = convert_format_lable(y_test_)\n",
    "y_pred_ = convert_format_lable(y_pred_)\n",
    "\n"
   ]
  },
  {
   "cell_type": "code",
   "execution_count": 21,
   "metadata": {},
   "outputs": [
    {
     "name": "stdout",
     "output_type": "stream",
     "text": [
      "accuracy 0.9304647160068846\n",
      "              precision    recall  f1-score   support\n",
      "\n",
      "         B-d       0.49      0.31      0.38        80\n",
      "         B-e       0.08      0.04      0.05        27\n",
      "         I-d       0.00      0.00      0.00        79\n",
      "         I-e       0.00      0.00      0.00        18\n",
      "\n",
      "   micro avg       0.41      0.13      0.19       204\n",
      "   macro avg       0.14      0.09      0.11       204\n",
      "weighted avg       0.20      0.13      0.16       204\n",
      " samples avg       0.01      0.01      0.01       204\n",
      "\n"
     ]
    }
   ],
   "source": [
    "from sklearn.metrics import classification_report, confusion_matrix\n",
    "from sklearn.metrics import accuracy_score\n",
    "from sklearn.preprocessing import LabelBinarizer\n",
    "from itertools import chain\n",
    "\n",
    "def pos_classification_report(y_true, y_pred):\n",
    " \n",
    "    lb = LabelBinarizer()\n",
    "    y_true_combined = lb.fit_transform(list(chain.from_iterable(y_true)))\n",
    "    y_pred_combined = lb.transform(list(chain.from_iterable(y_pred)))\n",
    "    print(\"accuracy\",accuracy_score(y_true_combined, y_pred_combined))\n",
    "    tagset = list(sorted(set(lb.classes_)))\n",
    "    del tagset[len(tagset)-1] # del O\n",
    "    class_indices = {cls: idx for idx, cls in enumerate(lb.classes_)}\n",
    "    return classification_report(\n",
    "        y_true_combined,\n",
    "        y_pred_combined,\n",
    "        labels = [class_indices[cls] for cls in tagset if cls!=\"O\"],\n",
    "        target_names = tagset,\n",
    "        zero_division=0\n",
    "    )\n",
    "print(pos_classification_report(y_test_,y_pred_))"
   ]
  },
  {
   "cell_type": "code",
   "execution_count": 22,
   "metadata": {},
   "outputs": [
    {
     "name": "stdout",
     "output_type": "stream",
     "text": [
      "accuracy: 0.9304647160068846\n",
      "              precision    recall  f1-score   support\n",
      "\n",
      "           d       0.10      0.06      0.08        80\n",
      "           e       0.08      0.04      0.05        27\n",
      "\n",
      "   micro avg       0.10      0.06      0.07       107\n",
      "   macro avg       0.09      0.05      0.06       107\n",
      "weighted avg       0.09      0.06      0.07       107\n",
      "\n"
     ]
    }
   ],
   "source": [
    "from seqeval.metrics import accuracy_score\n",
    "from seqeval.metrics import classification_report\n",
    "\n",
    "print(\"accuracy:\" ,accuracy_score(y_test_, y_pred_))\n",
    "print(classification_report(y_test_, y_pred_))"
   ]
  },
  {
   "cell_type": "code",
   "execution_count": null,
   "metadata": {},
   "outputs": [],
   "source": []
  }
 ],
 "metadata": {
  "interpreter": {
   "hash": "018e0a3ac4678c6eee4f5b6012f6866bd583f46fe819b31cdc8524b9233bdcf3"
  },
  "kernelspec": {
   "display_name": "Python 3 (ipykernel)",
   "language": "python",
   "name": "python3"
  },
  "language_info": {
   "codemirror_mode": {
    "name": "ipython",
    "version": 3
   },
   "file_extension": ".py",
   "mimetype": "text/x-python",
   "name": "python",
   "nbconvert_exporter": "python",
   "pygments_lexer": "ipython3",
   "version": "3.7.13"
  }
 },
 "nbformat": 4,
 "nbformat_minor": 2
}
