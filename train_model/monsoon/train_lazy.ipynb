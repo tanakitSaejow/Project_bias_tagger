{
 "cells": [
  {
   "cell_type": "markdown",
   "metadata": {},
   "source": [
    "# Train Lazy"
   ]
  },
  {
   "cell_type": "code",
   "execution_count": 2,
   "metadata": {},
   "outputs": [
    {
     "name": "stderr",
     "output_type": "stream",
     "text": [
      "Some weights of the model checkpoint at monsoon-nlp/bert-base-thai were not used when initializing BertForTokenClassification: ['cls.predictions.transform.LayerNorm.bias', 'cls.predictions.bias', 'cls.predictions.decoder.bias', 'cls.predictions.transform.dense.bias', 'cls.seq_relationship.weight', 'cls.predictions.transform.LayerNorm.weight', 'cls.predictions.decoder.weight', 'cls.seq_relationship.bias', 'cls.predictions.transform.dense.weight']\n",
      "- This IS expected if you are initializing BertForTokenClassification from the checkpoint of a model trained on another task or with another architecture (e.g. initializing a BertForSequenceClassification model from a BertForPreTraining model).\n",
      "- This IS NOT expected if you are initializing BertForTokenClassification from the checkpoint of a model that you expect to be exactly identical (initializing a BertForSequenceClassification model from a BertForSequenceClassification model).\n",
      "Some weights of BertForTokenClassification were not initialized from the model checkpoint at monsoon-nlp/bert-base-thai and are newly initialized: ['classifier.weight', 'classifier.bias']\n",
      "You should probably TRAIN this model on a down-stream task to be able to use it for predictions and inference.\n",
      "C:\\Users\\kitti\\.conda\\envs\\bias_py37\\lib\\site-packages\\transformers\\optimization.py:309: FutureWarning: This implementation of AdamW is deprecated and will be removed in a future version. Use the PyTorch implementation torch.optim.AdamW instead, or set `no_deprecation_warning=True` to disable this warning\n",
      "  FutureWarning,\n"
     ]
    },
    {
     "data": {
      "application/vnd.jupyter.widget-view+json": {
       "model_id": "6913c19a22a74b4da30e259c60e555ed",
       "version_major": 2,
       "version_minor": 0
      },
      "text/plain": [
       "Epoch:   0%|          | 0/100 [00:00<?, ?it/s]"
      ]
     },
     "metadata": {},
     "output_type": "display_data"
    },
    {
     "data": {
      "application/vnd.jupyter.widget-view+json": {
       "model_id": "16123e043fb645b59819d01d52eee22e",
       "version_major": 2,
       "version_minor": 0
      },
      "text/plain": [
       "Running Epoch 0 of 100:   0%|          | 0/13 [00:00<?, ?it/s]"
      ]
     },
     "metadata": {},
     "output_type": "display_data"
    },
    {
     "name": "stderr",
     "output_type": "stream",
     "text": [
      "C:\\Users\\kitti\\.conda\\envs\\bias_py37\\lib\\site-packages\\torch\\optim\\lr_scheduler.py:136: UserWarning: Detected call of `lr_scheduler.step()` before `optimizer.step()`. In PyTorch 1.1.0 and later, you should call them in the opposite order: `optimizer.step()` before `lr_scheduler.step()`.  Failure to do this will result in PyTorch skipping the first value of the learning rate schedule. See more details at https://pytorch.org/docs/stable/optim.html#how-to-adjust-learning-rate\n",
      "  \"https://pytorch.org/docs/stable/optim.html#how-to-adjust-learning-rate\", UserWarning)\n"
     ]
    },
    {
     "data": {
      "application/vnd.jupyter.widget-view+json": {
       "model_id": "1b2dfdace08447a79b8068b3e43b7904",
       "version_major": 2,
       "version_minor": 0
      },
      "text/plain": [
       "Running Evaluation:   0%|          | 0/13 [00:00<?, ?it/s]"
      ]
     },
     "metadata": {},
     "output_type": "display_data"
    },
    {
     "name": "stderr",
     "output_type": "stream",
     "text": [
      "C:\\Users\\kitti\\.conda\\envs\\bias_py37\\lib\\site-packages\\seqeval\\metrics\\sequence_labeling.py:171: UserWarning: B_E seems not to be NE tag.\n",
      "  warnings.warn('{} seems not to be NE tag.'.format(chunk))\n",
      "C:\\Users\\kitti\\.conda\\envs\\bias_py37\\lib\\site-packages\\seqeval\\metrics\\sequence_labeling.py:171: UserWarning: I_E seems not to be NE tag.\n",
      "  warnings.warn('{} seems not to be NE tag.'.format(chunk))\n",
      "C:\\Users\\kitti\\.conda\\envs\\bias_py37\\lib\\site-packages\\seqeval\\metrics\\sequence_labeling.py:171: UserWarning: B_D seems not to be NE tag.\n",
      "  warnings.warn('{} seems not to be NE tag.'.format(chunk))\n",
      "C:\\Users\\kitti\\.conda\\envs\\bias_py37\\lib\\site-packages\\seqeval\\metrics\\sequence_labeling.py:171: UserWarning: I_D seems not to be NE tag.\n",
      "  warnings.warn('{} seems not to be NE tag.'.format(chunk))\n",
      "C:\\Users\\kitti\\.conda\\envs\\bias_py37\\lib\\site-packages\\seqeval\\metrics\\v1.py:57: UndefinedMetricWarning: Precision is ill-defined and being set to 0.0 due to no predicted samples. Use `zero_division` parameter to control this behavior.\n",
      "  _warn_prf(average, modifier, msg_start, len(result))\n"
     ]
    },
    {
     "data": {
      "application/vnd.jupyter.widget-view+json": {
       "model_id": "c4dea4c72b8c4a118a1854db89854f51",
       "version_major": 2,
       "version_minor": 0
      },
      "text/plain": [
       "Running Epoch 1 of 100:   0%|          | 0/13 [00:00<?, ?it/s]"
      ]
     },
     "metadata": {},
     "output_type": "display_data"
    },
    {
     "data": {
      "application/vnd.jupyter.widget-view+json": {
       "model_id": "ae622f2ca07c4dfeb1c637cff60671a6",
       "version_major": 2,
       "version_minor": 0
      },
      "text/plain": [
       "Running Evaluation:   0%|          | 0/13 [00:00<?, ?it/s]"
      ]
     },
     "metadata": {},
     "output_type": "display_data"
    },
    {
     "data": {
      "application/vnd.jupyter.widget-view+json": {
       "model_id": "bc0e6a5933774d3099df272278292059",
       "version_major": 2,
       "version_minor": 0
      },
      "text/plain": [
       "Running Epoch 2 of 100:   0%|          | 0/13 [00:00<?, ?it/s]"
      ]
     },
     "metadata": {},
     "output_type": "display_data"
    },
    {
     "data": {
      "application/vnd.jupyter.widget-view+json": {
       "model_id": "35749441adc24b36a0ea6e537475d8d1",
       "version_major": 2,
       "version_minor": 0
      },
      "text/plain": [
       "Running Evaluation:   0%|          | 0/13 [00:00<?, ?it/s]"
      ]
     },
     "metadata": {},
     "output_type": "display_data"
    },
    {
     "data": {
      "application/vnd.jupyter.widget-view+json": {
       "model_id": "324c379f168346928fb61b2033186487",
       "version_major": 2,
       "version_minor": 0
      },
      "text/plain": [
       "Running Epoch 3 of 100:   0%|          | 0/13 [00:00<?, ?it/s]"
      ]
     },
     "metadata": {},
     "output_type": "display_data"
    },
    {
     "data": {
      "application/vnd.jupyter.widget-view+json": {
       "model_id": "7309a183130a4c88898141b434195a3d",
       "version_major": 2,
       "version_minor": 0
      },
      "text/plain": [
       "Running Evaluation:   0%|          | 0/13 [00:00<?, ?it/s]"
      ]
     },
     "metadata": {},
     "output_type": "display_data"
    },
    {
     "data": {
      "application/vnd.jupyter.widget-view+json": {
       "model_id": "2497c34e020b4d96913097c06bf0ffee",
       "version_major": 2,
       "version_minor": 0
      },
      "text/plain": [
       "Running Epoch 4 of 100:   0%|          | 0/13 [00:00<?, ?it/s]"
      ]
     },
     "metadata": {},
     "output_type": "display_data"
    },
    {
     "data": {
      "application/vnd.jupyter.widget-view+json": {
       "model_id": "385056d3dc474b379f980f8f350be4f2",
       "version_major": 2,
       "version_minor": 0
      },
      "text/plain": [
       "Running Evaluation:   0%|          | 0/13 [00:00<?, ?it/s]"
      ]
     },
     "metadata": {},
     "output_type": "display_data"
    },
    {
     "data": {
      "application/vnd.jupyter.widget-view+json": {
       "model_id": "def849fa6ddb41b3a12c915260377808",
       "version_major": 2,
       "version_minor": 0
      },
      "text/plain": [
       "Running Epoch 5 of 100:   0%|          | 0/13 [00:00<?, ?it/s]"
      ]
     },
     "metadata": {},
     "output_type": "display_data"
    },
    {
     "data": {
      "application/vnd.jupyter.widget-view+json": {
       "model_id": "090c8880e0244a3fa0d2dace34dc9d81",
       "version_major": 2,
       "version_minor": 0
      },
      "text/plain": [
       "Running Evaluation:   0%|          | 0/13 [00:00<?, ?it/s]"
      ]
     },
     "metadata": {},
     "output_type": "display_data"
    },
    {
     "data": {
      "application/vnd.jupyter.widget-view+json": {
       "model_id": "0c8d56437f22415ba524feea7662b4c3",
       "version_major": 2,
       "version_minor": 0
      },
      "text/plain": [
       "Running Epoch 6 of 100:   0%|          | 0/13 [00:00<?, ?it/s]"
      ]
     },
     "metadata": {},
     "output_type": "display_data"
    },
    {
     "data": {
      "application/vnd.jupyter.widget-view+json": {
       "model_id": "3bd5b78490654fc39efa003d118bb386",
       "version_major": 2,
       "version_minor": 0
      },
      "text/plain": [
       "Running Evaluation:   0%|          | 0/13 [00:00<?, ?it/s]"
      ]
     },
     "metadata": {},
     "output_type": "display_data"
    },
    {
     "data": {
      "application/vnd.jupyter.widget-view+json": {
       "model_id": "a4dbd648e6f64bc3abf1a36c4734e2db",
       "version_major": 2,
       "version_minor": 0
      },
      "text/plain": [
       "Running Epoch 7 of 100:   0%|          | 0/13 [00:00<?, ?it/s]"
      ]
     },
     "metadata": {},
     "output_type": "display_data"
    },
    {
     "data": {
      "application/vnd.jupyter.widget-view+json": {
       "model_id": "e294f9d1f3054d199530a63174aee8f1",
       "version_major": 2,
       "version_minor": 0
      },
      "text/plain": [
       "Running Evaluation:   0%|          | 0/13 [00:00<?, ?it/s]"
      ]
     },
     "metadata": {},
     "output_type": "display_data"
    },
    {
     "data": {
      "application/vnd.jupyter.widget-view+json": {
       "model_id": "1c7970ac552e413ca5ca947bb2907ca7",
       "version_major": 2,
       "version_minor": 0
      },
      "text/plain": [
       "Running Epoch 8 of 100:   0%|          | 0/13 [00:00<?, ?it/s]"
      ]
     },
     "metadata": {},
     "output_type": "display_data"
    },
    {
     "data": {
      "application/vnd.jupyter.widget-view+json": {
       "model_id": "4120fc131f254f35a2160fdd97ec7f77",
       "version_major": 2,
       "version_minor": 0
      },
      "text/plain": [
       "Running Evaluation:   0%|          | 0/13 [00:00<?, ?it/s]"
      ]
     },
     "metadata": {},
     "output_type": "display_data"
    },
    {
     "data": {
      "application/vnd.jupyter.widget-view+json": {
       "model_id": "1329e8ccee5b4d18b8b58e78b828fe46",
       "version_major": 2,
       "version_minor": 0
      },
      "text/plain": [
       "Running Epoch 9 of 100:   0%|          | 0/13 [00:00<?, ?it/s]"
      ]
     },
     "metadata": {},
     "output_type": "display_data"
    },
    {
     "data": {
      "application/vnd.jupyter.widget-view+json": {
       "model_id": "c6aad11c1d394e278d4fe9c06adba3bc",
       "version_major": 2,
       "version_minor": 0
      },
      "text/plain": [
       "Running Evaluation:   0%|          | 0/13 [00:00<?, ?it/s]"
      ]
     },
     "metadata": {},
     "output_type": "display_data"
    },
    {
     "data": {
      "application/vnd.jupyter.widget-view+json": {
       "model_id": "c0d2f15d0cc34bd2864d020fad3ef533",
       "version_major": 2,
       "version_minor": 0
      },
      "text/plain": [
       "Running Epoch 10 of 100:   0%|          | 0/13 [00:00<?, ?it/s]"
      ]
     },
     "metadata": {},
     "output_type": "display_data"
    },
    {
     "data": {
      "application/vnd.jupyter.widget-view+json": {
       "model_id": "4b15d54b67e24f6aadf15237cd83d93a",
       "version_major": 2,
       "version_minor": 0
      },
      "text/plain": [
       "Running Evaluation:   0%|          | 0/13 [00:00<?, ?it/s]"
      ]
     },
     "metadata": {},
     "output_type": "display_data"
    },
    {
     "data": {
      "application/vnd.jupyter.widget-view+json": {
       "model_id": "692fb8933b4446048bd1a652acbc4c5d",
       "version_major": 2,
       "version_minor": 0
      },
      "text/plain": [
       "Running Epoch 11 of 100:   0%|          | 0/13 [00:00<?, ?it/s]"
      ]
     },
     "metadata": {},
     "output_type": "display_data"
    },
    {
     "data": {
      "application/vnd.jupyter.widget-view+json": {
       "model_id": "480b4ba775ee4a19ab5dbd34f36473e3",
       "version_major": 2,
       "version_minor": 0
      },
      "text/plain": [
       "Running Evaluation:   0%|          | 0/13 [00:00<?, ?it/s]"
      ]
     },
     "metadata": {},
     "output_type": "display_data"
    },
    {
     "data": {
      "application/vnd.jupyter.widget-view+json": {
       "model_id": "44ab90f49700410d8cef60dcaeadda69",
       "version_major": 2,
       "version_minor": 0
      },
      "text/plain": [
       "Running Epoch 12 of 100:   0%|          | 0/13 [00:00<?, ?it/s]"
      ]
     },
     "metadata": {},
     "output_type": "display_data"
    },
    {
     "data": {
      "application/vnd.jupyter.widget-view+json": {
       "model_id": "1c4444eeeb554fa2b155e87c810a6d76",
       "version_major": 2,
       "version_minor": 0
      },
      "text/plain": [
       "Running Evaluation:   0%|          | 0/13 [00:00<?, ?it/s]"
      ]
     },
     "metadata": {},
     "output_type": "display_data"
    },
    {
     "data": {
      "application/vnd.jupyter.widget-view+json": {
       "model_id": "61ffae93085d4bfdb8655899538dfbe2",
       "version_major": 2,
       "version_minor": 0
      },
      "text/plain": [
       "Running Epoch 13 of 100:   0%|          | 0/13 [00:00<?, ?it/s]"
      ]
     },
     "metadata": {},
     "output_type": "display_data"
    },
    {
     "data": {
      "application/vnd.jupyter.widget-view+json": {
       "model_id": "0276b862dae94f34923d075ca282ae50",
       "version_major": 2,
       "version_minor": 0
      },
      "text/plain": [
       "Running Evaluation:   0%|          | 0/13 [00:00<?, ?it/s]"
      ]
     },
     "metadata": {},
     "output_type": "display_data"
    },
    {
     "data": {
      "application/vnd.jupyter.widget-view+json": {
       "model_id": "3eee917f37f24b62bf4a55405a1de5c8",
       "version_major": 2,
       "version_minor": 0
      },
      "text/plain": [
       "Running Epoch 14 of 100:   0%|          | 0/13 [00:00<?, ?it/s]"
      ]
     },
     "metadata": {},
     "output_type": "display_data"
    },
    {
     "data": {
      "application/vnd.jupyter.widget-view+json": {
       "model_id": "e9cc2e3d021e41deb01a0e34d04abf4e",
       "version_major": 2,
       "version_minor": 0
      },
      "text/plain": [
       "Running Evaluation:   0%|          | 0/13 [00:00<?, ?it/s]"
      ]
     },
     "metadata": {},
     "output_type": "display_data"
    },
    {
     "data": {
      "application/vnd.jupyter.widget-view+json": {
       "model_id": "c619f35199d4485db4ea50e1c250ef94",
       "version_major": 2,
       "version_minor": 0
      },
      "text/plain": [
       "Running Epoch 15 of 100:   0%|          | 0/13 [00:00<?, ?it/s]"
      ]
     },
     "metadata": {},
     "output_type": "display_data"
    },
    {
     "data": {
      "application/vnd.jupyter.widget-view+json": {
       "model_id": "3b93c33bc9b5452f8aaea3e8cdd40518",
       "version_major": 2,
       "version_minor": 0
      },
      "text/plain": [
       "Running Evaluation:   0%|          | 0/13 [00:00<?, ?it/s]"
      ]
     },
     "metadata": {},
     "output_type": "display_data"
    },
    {
     "data": {
      "application/vnd.jupyter.widget-view+json": {
       "model_id": "82a494bce1824eca8c32abccc5aa0da7",
       "version_major": 2,
       "version_minor": 0
      },
      "text/plain": [
       "Running Epoch 16 of 100:   0%|          | 0/13 [00:00<?, ?it/s]"
      ]
     },
     "metadata": {},
     "output_type": "display_data"
    },
    {
     "data": {
      "application/vnd.jupyter.widget-view+json": {
       "model_id": "db6c9bc11b6243269df92beb38ebf0cd",
       "version_major": 2,
       "version_minor": 0
      },
      "text/plain": [
       "Running Evaluation:   0%|          | 0/13 [00:00<?, ?it/s]"
      ]
     },
     "metadata": {},
     "output_type": "display_data"
    },
    {
     "data": {
      "application/vnd.jupyter.widget-view+json": {
       "model_id": "d701edfb5203414db79cc9203a3983f7",
       "version_major": 2,
       "version_minor": 0
      },
      "text/plain": [
       "Running Epoch 17 of 100:   0%|          | 0/13 [00:00<?, ?it/s]"
      ]
     },
     "metadata": {},
     "output_type": "display_data"
    },
    {
     "data": {
      "application/vnd.jupyter.widget-view+json": {
       "model_id": "84caa704ab5743f79a1849f88c09bc56",
       "version_major": 2,
       "version_minor": 0
      },
      "text/plain": [
       "Running Evaluation:   0%|          | 0/13 [00:00<?, ?it/s]"
      ]
     },
     "metadata": {},
     "output_type": "display_data"
    },
    {
     "data": {
      "application/vnd.jupyter.widget-view+json": {
       "model_id": "0381ef2c9dfe4ae48e9e84b4475f4588",
       "version_major": 2,
       "version_minor": 0
      },
      "text/plain": [
       "Running Epoch 18 of 100:   0%|          | 0/13 [00:00<?, ?it/s]"
      ]
     },
     "metadata": {},
     "output_type": "display_data"
    },
    {
     "data": {
      "application/vnd.jupyter.widget-view+json": {
       "model_id": "a224746191ac411db822671b299fc6ad",
       "version_major": 2,
       "version_minor": 0
      },
      "text/plain": [
       "Running Evaluation:   0%|          | 0/13 [00:00<?, ?it/s]"
      ]
     },
     "metadata": {},
     "output_type": "display_data"
    },
    {
     "data": {
      "application/vnd.jupyter.widget-view+json": {
       "model_id": "d896ef9ac4f248cdb85f23415b1e8d29",
       "version_major": 2,
       "version_minor": 0
      },
      "text/plain": [
       "Running Epoch 19 of 100:   0%|          | 0/13 [00:00<?, ?it/s]"
      ]
     },
     "metadata": {},
     "output_type": "display_data"
    },
    {
     "data": {
      "application/vnd.jupyter.widget-view+json": {
       "model_id": "750b1a862fef4c71b5cf7bb2bb229973",
       "version_major": 2,
       "version_minor": 0
      },
      "text/plain": [
       "Running Evaluation:   0%|          | 0/13 [00:00<?, ?it/s]"
      ]
     },
     "metadata": {},
     "output_type": "display_data"
    },
    {
     "data": {
      "application/vnd.jupyter.widget-view+json": {
       "model_id": "1d2f22f27ad2481197ea9e580d6260b6",
       "version_major": 2,
       "version_minor": 0
      },
      "text/plain": [
       "Running Epoch 20 of 100:   0%|          | 0/13 [00:00<?, ?it/s]"
      ]
     },
     "metadata": {},
     "output_type": "display_data"
    },
    {
     "data": {
      "application/vnd.jupyter.widget-view+json": {
       "model_id": "e9b39c01d7d74f148566d81ef6a213f2",
       "version_major": 2,
       "version_minor": 0
      },
      "text/plain": [
       "Running Evaluation:   0%|          | 0/13 [00:00<?, ?it/s]"
      ]
     },
     "metadata": {},
     "output_type": "display_data"
    },
    {
     "data": {
      "application/vnd.jupyter.widget-view+json": {
       "model_id": "5a1eebda46be46d8b11a5d740d559e2a",
       "version_major": 2,
       "version_minor": 0
      },
      "text/plain": [
       "Running Epoch 21 of 100:   0%|          | 0/13 [00:00<?, ?it/s]"
      ]
     },
     "metadata": {},
     "output_type": "display_data"
    },
    {
     "data": {
      "application/vnd.jupyter.widget-view+json": {
       "model_id": "2794070afe304639a8317e188be31318",
       "version_major": 2,
       "version_minor": 0
      },
      "text/plain": [
       "Running Evaluation:   0%|          | 0/13 [00:00<?, ?it/s]"
      ]
     },
     "metadata": {},
     "output_type": "display_data"
    },
    {
     "data": {
      "application/vnd.jupyter.widget-view+json": {
       "model_id": "2ee447a34549461692656c0c92a07253",
       "version_major": 2,
       "version_minor": 0
      },
      "text/plain": [
       "Running Epoch 22 of 100:   0%|          | 0/13 [00:00<?, ?it/s]"
      ]
     },
     "metadata": {},
     "output_type": "display_data"
    },
    {
     "data": {
      "application/vnd.jupyter.widget-view+json": {
       "model_id": "4ac7c44848e84ceb8c4f4f122809c78f",
       "version_major": 2,
       "version_minor": 0
      },
      "text/plain": [
       "Running Evaluation:   0%|          | 0/13 [00:00<?, ?it/s]"
      ]
     },
     "metadata": {},
     "output_type": "display_data"
    },
    {
     "data": {
      "application/vnd.jupyter.widget-view+json": {
       "model_id": "23659847077f41f8b3ae42c8851bf0ec",
       "version_major": 2,
       "version_minor": 0
      },
      "text/plain": [
       "Running Epoch 23 of 100:   0%|          | 0/13 [00:00<?, ?it/s]"
      ]
     },
     "metadata": {},
     "output_type": "display_data"
    },
    {
     "data": {
      "application/vnd.jupyter.widget-view+json": {
       "model_id": "0017d53384204f60bbc76631b2ede135",
       "version_major": 2,
       "version_minor": 0
      },
      "text/plain": [
       "Running Evaluation:   0%|          | 0/13 [00:00<?, ?it/s]"
      ]
     },
     "metadata": {},
     "output_type": "display_data"
    },
    {
     "data": {
      "application/vnd.jupyter.widget-view+json": {
       "model_id": "adb25388620a4fe889011bcb10283866",
       "version_major": 2,
       "version_minor": 0
      },
      "text/plain": [
       "Running Epoch 24 of 100:   0%|          | 0/13 [00:00<?, ?it/s]"
      ]
     },
     "metadata": {},
     "output_type": "display_data"
    },
    {
     "data": {
      "application/vnd.jupyter.widget-view+json": {
       "model_id": "26e747bacb8a4b6f84f28f5dfe400177",
       "version_major": 2,
       "version_minor": 0
      },
      "text/plain": [
       "Running Evaluation:   0%|          | 0/13 [00:00<?, ?it/s]"
      ]
     },
     "metadata": {},
     "output_type": "display_data"
    },
    {
     "data": {
      "application/vnd.jupyter.widget-view+json": {
       "model_id": "5d61e514280644e096c96fa5447693e5",
       "version_major": 2,
       "version_minor": 0
      },
      "text/plain": [
       "Running Epoch 25 of 100:   0%|          | 0/13 [00:00<?, ?it/s]"
      ]
     },
     "metadata": {},
     "output_type": "display_data"
    },
    {
     "data": {
      "application/vnd.jupyter.widget-view+json": {
       "model_id": "f91aa62924f74bdeacec543993b209f8",
       "version_major": 2,
       "version_minor": 0
      },
      "text/plain": [
       "Running Evaluation:   0%|          | 0/13 [00:00<?, ?it/s]"
      ]
     },
     "metadata": {},
     "output_type": "display_data"
    },
    {
     "data": {
      "application/vnd.jupyter.widget-view+json": {
       "model_id": "93997f4efbd24902838b3a011ae451a5",
       "version_major": 2,
       "version_minor": 0
      },
      "text/plain": [
       "Running Epoch 26 of 100:   0%|          | 0/13 [00:00<?, ?it/s]"
      ]
     },
     "metadata": {},
     "output_type": "display_data"
    },
    {
     "data": {
      "application/vnd.jupyter.widget-view+json": {
       "model_id": "e4cae36562f8459fa15dac492b96aac7",
       "version_major": 2,
       "version_minor": 0
      },
      "text/plain": [
       "Running Evaluation:   0%|          | 0/13 [00:00<?, ?it/s]"
      ]
     },
     "metadata": {},
     "output_type": "display_data"
    },
    {
     "data": {
      "application/vnd.jupyter.widget-view+json": {
       "model_id": "a1036650a233445cb8a0a0d2f8abccf1",
       "version_major": 2,
       "version_minor": 0
      },
      "text/plain": [
       "Running Epoch 27 of 100:   0%|          | 0/13 [00:00<?, ?it/s]"
      ]
     },
     "metadata": {},
     "output_type": "display_data"
    },
    {
     "data": {
      "application/vnd.jupyter.widget-view+json": {
       "model_id": "d046b3acc60f457dadd5a429452f58d7",
       "version_major": 2,
       "version_minor": 0
      },
      "text/plain": [
       "Running Evaluation:   0%|          | 0/13 [00:00<?, ?it/s]"
      ]
     },
     "metadata": {},
     "output_type": "display_data"
    },
    {
     "data": {
      "application/vnd.jupyter.widget-view+json": {
       "model_id": "5a2cc3e814044f9bae8ad9970cb9b83c",
       "version_major": 2,
       "version_minor": 0
      },
      "text/plain": [
       "Running Epoch 28 of 100:   0%|          | 0/13 [00:00<?, ?it/s]"
      ]
     },
     "metadata": {},
     "output_type": "display_data"
    },
    {
     "data": {
      "application/vnd.jupyter.widget-view+json": {
       "model_id": "8018f2efe34746258c22d0ae538c4e9b",
       "version_major": 2,
       "version_minor": 0
      },
      "text/plain": [
       "Running Evaluation:   0%|          | 0/13 [00:00<?, ?it/s]"
      ]
     },
     "metadata": {},
     "output_type": "display_data"
    },
    {
     "data": {
      "application/vnd.jupyter.widget-view+json": {
       "model_id": "fefd7ebef514401b8e04fa8f9dcda488",
       "version_major": 2,
       "version_minor": 0
      },
      "text/plain": [
       "Running Epoch 29 of 100:   0%|          | 0/13 [00:00<?, ?it/s]"
      ]
     },
     "metadata": {},
     "output_type": "display_data"
    },
    {
     "data": {
      "application/vnd.jupyter.widget-view+json": {
       "model_id": "b9b326a5d5f54269928eed84a856920b",
       "version_major": 2,
       "version_minor": 0
      },
      "text/plain": [
       "Running Evaluation:   0%|          | 0/13 [00:00<?, ?it/s]"
      ]
     },
     "metadata": {},
     "output_type": "display_data"
    },
    {
     "data": {
      "application/vnd.jupyter.widget-view+json": {
       "model_id": "1fae0bee6e734830ae6a816235f79f84",
       "version_major": 2,
       "version_minor": 0
      },
      "text/plain": [
       "Running Epoch 30 of 100:   0%|          | 0/13 [00:00<?, ?it/s]"
      ]
     },
     "metadata": {},
     "output_type": "display_data"
    },
    {
     "data": {
      "application/vnd.jupyter.widget-view+json": {
       "model_id": "2209519335aa49bdace0a71ef17cda81",
       "version_major": 2,
       "version_minor": 0
      },
      "text/plain": [
       "Running Evaluation:   0%|          | 0/13 [00:00<?, ?it/s]"
      ]
     },
     "metadata": {},
     "output_type": "display_data"
    },
    {
     "data": {
      "application/vnd.jupyter.widget-view+json": {
       "model_id": "409023188e794f589ddf14b68e9b115e",
       "version_major": 2,
       "version_minor": 0
      },
      "text/plain": [
       "Running Epoch 31 of 100:   0%|          | 0/13 [00:00<?, ?it/s]"
      ]
     },
     "metadata": {},
     "output_type": "display_data"
    },
    {
     "data": {
      "application/vnd.jupyter.widget-view+json": {
       "model_id": "ff5c23a42e7e46b3aab4587b4575a468",
       "version_major": 2,
       "version_minor": 0
      },
      "text/plain": [
       "Running Evaluation:   0%|          | 0/13 [00:00<?, ?it/s]"
      ]
     },
     "metadata": {},
     "output_type": "display_data"
    },
    {
     "data": {
      "application/vnd.jupyter.widget-view+json": {
       "model_id": "a6b55b5b7a0c45d2b27867b4bdd92500",
       "version_major": 2,
       "version_minor": 0
      },
      "text/plain": [
       "Running Epoch 32 of 100:   0%|          | 0/13 [00:00<?, ?it/s]"
      ]
     },
     "metadata": {},
     "output_type": "display_data"
    },
    {
     "data": {
      "application/vnd.jupyter.widget-view+json": {
       "model_id": "9cf8c340d3ad471a9f89253f97a47a63",
       "version_major": 2,
       "version_minor": 0
      },
      "text/plain": [
       "Running Evaluation:   0%|          | 0/13 [00:00<?, ?it/s]"
      ]
     },
     "metadata": {},
     "output_type": "display_data"
    },
    {
     "data": {
      "application/vnd.jupyter.widget-view+json": {
       "model_id": "561b46bbafb749c18731528f6dbe5d0f",
       "version_major": 2,
       "version_minor": 0
      },
      "text/plain": [
       "Running Epoch 33 of 100:   0%|          | 0/13 [00:00<?, ?it/s]"
      ]
     },
     "metadata": {},
     "output_type": "display_data"
    },
    {
     "data": {
      "application/vnd.jupyter.widget-view+json": {
       "model_id": "ce6b57f65b0347a28522371915d2016e",
       "version_major": 2,
       "version_minor": 0
      },
      "text/plain": [
       "Running Evaluation:   0%|          | 0/13 [00:00<?, ?it/s]"
      ]
     },
     "metadata": {},
     "output_type": "display_data"
    },
    {
     "data": {
      "application/vnd.jupyter.widget-view+json": {
       "model_id": "e3df0a365c3545f9b1943f55dab8c79e",
       "version_major": 2,
       "version_minor": 0
      },
      "text/plain": [
       "Running Epoch 34 of 100:   0%|          | 0/13 [00:00<?, ?it/s]"
      ]
     },
     "metadata": {},
     "output_type": "display_data"
    },
    {
     "data": {
      "application/vnd.jupyter.widget-view+json": {
       "model_id": "3cba773267a84d33b09ec42855e37a6f",
       "version_major": 2,
       "version_minor": 0
      },
      "text/plain": [
       "Running Evaluation:   0%|          | 0/13 [00:00<?, ?it/s]"
      ]
     },
     "metadata": {},
     "output_type": "display_data"
    },
    {
     "data": {
      "application/vnd.jupyter.widget-view+json": {
       "model_id": "173eb7adbe3d4da49eadaf094556e5cc",
       "version_major": 2,
       "version_minor": 0
      },
      "text/plain": [
       "Running Epoch 35 of 100:   0%|          | 0/13 [00:00<?, ?it/s]"
      ]
     },
     "metadata": {},
     "output_type": "display_data"
    },
    {
     "data": {
      "application/vnd.jupyter.widget-view+json": {
       "model_id": "c22a79915c9b4d3c8b349547e075d4ea",
       "version_major": 2,
       "version_minor": 0
      },
      "text/plain": [
       "Running Evaluation:   0%|          | 0/13 [00:00<?, ?it/s]"
      ]
     },
     "metadata": {},
     "output_type": "display_data"
    },
    {
     "data": {
      "application/vnd.jupyter.widget-view+json": {
       "model_id": "141cb288507b4282adfb708afc931817",
       "version_major": 2,
       "version_minor": 0
      },
      "text/plain": [
       "Running Epoch 36 of 100:   0%|          | 0/13 [00:00<?, ?it/s]"
      ]
     },
     "metadata": {},
     "output_type": "display_data"
    },
    {
     "data": {
      "application/vnd.jupyter.widget-view+json": {
       "model_id": "ef6dfb11ec6940e6a8bd1321b11584ae",
       "version_major": 2,
       "version_minor": 0
      },
      "text/plain": [
       "Running Evaluation:   0%|          | 0/13 [00:00<?, ?it/s]"
      ]
     },
     "metadata": {},
     "output_type": "display_data"
    },
    {
     "data": {
      "application/vnd.jupyter.widget-view+json": {
       "model_id": "283348a84e8d4d9eb260426469805c61",
       "version_major": 2,
       "version_minor": 0
      },
      "text/plain": [
       "Running Epoch 37 of 100:   0%|          | 0/13 [00:00<?, ?it/s]"
      ]
     },
     "metadata": {},
     "output_type": "display_data"
    },
    {
     "data": {
      "application/vnd.jupyter.widget-view+json": {
       "model_id": "eb6f6cb808b14a0894c4b3adf512cf28",
       "version_major": 2,
       "version_minor": 0
      },
      "text/plain": [
       "Running Evaluation:   0%|          | 0/13 [00:00<?, ?it/s]"
      ]
     },
     "metadata": {},
     "output_type": "display_data"
    },
    {
     "data": {
      "application/vnd.jupyter.widget-view+json": {
       "model_id": "0bbdd50e14904944988f8bc4ac564947",
       "version_major": 2,
       "version_minor": 0
      },
      "text/plain": [
       "Running Epoch 38 of 100:   0%|          | 0/13 [00:00<?, ?it/s]"
      ]
     },
     "metadata": {},
     "output_type": "display_data"
    },
    {
     "data": {
      "application/vnd.jupyter.widget-view+json": {
       "model_id": "540bba431de84ea6861e44abb1adfb6b",
       "version_major": 2,
       "version_minor": 0
      },
      "text/plain": [
       "Running Evaluation:   0%|          | 0/13 [00:00<?, ?it/s]"
      ]
     },
     "metadata": {},
     "output_type": "display_data"
    },
    {
     "data": {
      "application/vnd.jupyter.widget-view+json": {
       "model_id": "a5239d5ba7dc4872ad1e83d59d535435",
       "version_major": 2,
       "version_minor": 0
      },
      "text/plain": [
       "Running Epoch 39 of 100:   0%|          | 0/13 [00:00<?, ?it/s]"
      ]
     },
     "metadata": {},
     "output_type": "display_data"
    },
    {
     "data": {
      "application/vnd.jupyter.widget-view+json": {
       "model_id": "86f1b176832d49d7a13c56a3c2cc35ab",
       "version_major": 2,
       "version_minor": 0
      },
      "text/plain": [
       "Running Evaluation:   0%|          | 0/13 [00:00<?, ?it/s]"
      ]
     },
     "metadata": {},
     "output_type": "display_data"
    },
    {
     "data": {
      "application/vnd.jupyter.widget-view+json": {
       "model_id": "dfac3a10d7a04c478b467d4e48d8b6b0",
       "version_major": 2,
       "version_minor": 0
      },
      "text/plain": [
       "Running Epoch 40 of 100:   0%|          | 0/13 [00:00<?, ?it/s]"
      ]
     },
     "metadata": {},
     "output_type": "display_data"
    },
    {
     "data": {
      "application/vnd.jupyter.widget-view+json": {
       "model_id": "d7abaa5931b7404592a9223a25edd4de",
       "version_major": 2,
       "version_minor": 0
      },
      "text/plain": [
       "Running Evaluation:   0%|          | 0/13 [00:00<?, ?it/s]"
      ]
     },
     "metadata": {},
     "output_type": "display_data"
    },
    {
     "data": {
      "application/vnd.jupyter.widget-view+json": {
       "model_id": "31d8dbeabe5c4fddbfa548ec3dfaeb66",
       "version_major": 2,
       "version_minor": 0
      },
      "text/plain": [
       "Running Epoch 41 of 100:   0%|          | 0/13 [00:00<?, ?it/s]"
      ]
     },
     "metadata": {},
     "output_type": "display_data"
    },
    {
     "data": {
      "application/vnd.jupyter.widget-view+json": {
       "model_id": "626221f7da4041d49a1a35d09a14193e",
       "version_major": 2,
       "version_minor": 0
      },
      "text/plain": [
       "Running Evaluation:   0%|          | 0/13 [00:00<?, ?it/s]"
      ]
     },
     "metadata": {},
     "output_type": "display_data"
    },
    {
     "data": {
      "application/vnd.jupyter.widget-view+json": {
       "model_id": "0dc4e6271acf48548e132381d25b3553",
       "version_major": 2,
       "version_minor": 0
      },
      "text/plain": [
       "Running Epoch 42 of 100:   0%|          | 0/13 [00:00<?, ?it/s]"
      ]
     },
     "metadata": {},
     "output_type": "display_data"
    },
    {
     "data": {
      "application/vnd.jupyter.widget-view+json": {
       "model_id": "7877533ff01249e09f3b49550cbbed16",
       "version_major": 2,
       "version_minor": 0
      },
      "text/plain": [
       "Running Evaluation:   0%|          | 0/13 [00:00<?, ?it/s]"
      ]
     },
     "metadata": {},
     "output_type": "display_data"
    },
    {
     "data": {
      "application/vnd.jupyter.widget-view+json": {
       "model_id": "de0b10e87d1e44ed81f1bb56aa04f7ec",
       "version_major": 2,
       "version_minor": 0
      },
      "text/plain": [
       "Running Epoch 43 of 100:   0%|          | 0/13 [00:00<?, ?it/s]"
      ]
     },
     "metadata": {},
     "output_type": "display_data"
    },
    {
     "data": {
      "application/vnd.jupyter.widget-view+json": {
       "model_id": "24bbbff8c2c948398eb8b9d42b560ceb",
       "version_major": 2,
       "version_minor": 0
      },
      "text/plain": [
       "Running Evaluation:   0%|          | 0/13 [00:00<?, ?it/s]"
      ]
     },
     "metadata": {},
     "output_type": "display_data"
    },
    {
     "data": {
      "application/vnd.jupyter.widget-view+json": {
       "model_id": "da3b74f5ae3d4d5483a59173701baea3",
       "version_major": 2,
       "version_minor": 0
      },
      "text/plain": [
       "Running Epoch 44 of 100:   0%|          | 0/13 [00:00<?, ?it/s]"
      ]
     },
     "metadata": {},
     "output_type": "display_data"
    },
    {
     "data": {
      "application/vnd.jupyter.widget-view+json": {
       "model_id": "4c687f1db044420e85d6955177744072",
       "version_major": 2,
       "version_minor": 0
      },
      "text/plain": [
       "Running Evaluation:   0%|          | 0/13 [00:00<?, ?it/s]"
      ]
     },
     "metadata": {},
     "output_type": "display_data"
    },
    {
     "data": {
      "application/vnd.jupyter.widget-view+json": {
       "model_id": "12afcd3bfc7e4caabcaca0baa302b90a",
       "version_major": 2,
       "version_minor": 0
      },
      "text/plain": [
       "Running Epoch 45 of 100:   0%|          | 0/13 [00:00<?, ?it/s]"
      ]
     },
     "metadata": {},
     "output_type": "display_data"
    },
    {
     "data": {
      "application/vnd.jupyter.widget-view+json": {
       "model_id": "6c6f7d0c38ca4789bed8987346166e61",
       "version_major": 2,
       "version_minor": 0
      },
      "text/plain": [
       "Running Evaluation:   0%|          | 0/13 [00:00<?, ?it/s]"
      ]
     },
     "metadata": {},
     "output_type": "display_data"
    },
    {
     "data": {
      "application/vnd.jupyter.widget-view+json": {
       "model_id": "ea78ed8f20c54c8b955d20c019b048fa",
       "version_major": 2,
       "version_minor": 0
      },
      "text/plain": [
       "Running Epoch 46 of 100:   0%|          | 0/13 [00:00<?, ?it/s]"
      ]
     },
     "metadata": {},
     "output_type": "display_data"
    },
    {
     "data": {
      "application/vnd.jupyter.widget-view+json": {
       "model_id": "1af9d1a5e25f4f79a1c9c81b307eca6f",
       "version_major": 2,
       "version_minor": 0
      },
      "text/plain": [
       "Running Evaluation:   0%|          | 0/13 [00:00<?, ?it/s]"
      ]
     },
     "metadata": {},
     "output_type": "display_data"
    },
    {
     "data": {
      "application/vnd.jupyter.widget-view+json": {
       "model_id": "6164f4e9660d486b8d48ec58f63eb14b",
       "version_major": 2,
       "version_minor": 0
      },
      "text/plain": [
       "Running Epoch 47 of 100:   0%|          | 0/13 [00:00<?, ?it/s]"
      ]
     },
     "metadata": {},
     "output_type": "display_data"
    },
    {
     "data": {
      "application/vnd.jupyter.widget-view+json": {
       "model_id": "a49286dc0ee44c779c02a3e76462c9f9",
       "version_major": 2,
       "version_minor": 0
      },
      "text/plain": [
       "Running Evaluation:   0%|          | 0/13 [00:00<?, ?it/s]"
      ]
     },
     "metadata": {},
     "output_type": "display_data"
    },
    {
     "data": {
      "application/vnd.jupyter.widget-view+json": {
       "model_id": "ecd2b3c96e4f4820aba4ba697e3b7afe",
       "version_major": 2,
       "version_minor": 0
      },
      "text/plain": [
       "Running Epoch 48 of 100:   0%|          | 0/13 [00:00<?, ?it/s]"
      ]
     },
     "metadata": {},
     "output_type": "display_data"
    },
    {
     "data": {
      "application/vnd.jupyter.widget-view+json": {
       "model_id": "dc17b757b5f5469c8ea8d3c995c992ff",
       "version_major": 2,
       "version_minor": 0
      },
      "text/plain": [
       "Running Evaluation:   0%|          | 0/13 [00:00<?, ?it/s]"
      ]
     },
     "metadata": {},
     "output_type": "display_data"
    },
    {
     "data": {
      "application/vnd.jupyter.widget-view+json": {
       "model_id": "b5197451868a4b7387dab71c00ba86e7",
       "version_major": 2,
       "version_minor": 0
      },
      "text/plain": [
       "Running Epoch 49 of 100:   0%|          | 0/13 [00:00<?, ?it/s]"
      ]
     },
     "metadata": {},
     "output_type": "display_data"
    },
    {
     "data": {
      "application/vnd.jupyter.widget-view+json": {
       "model_id": "38093a38a25e48578d281fe39cee4e75",
       "version_major": 2,
       "version_minor": 0
      },
      "text/plain": [
       "Running Evaluation:   0%|          | 0/13 [00:00<?, ?it/s]"
      ]
     },
     "metadata": {},
     "output_type": "display_data"
    },
    {
     "data": {
      "application/vnd.jupyter.widget-view+json": {
       "model_id": "e0767b39de1e41dd9f44dd81f990a7de",
       "version_major": 2,
       "version_minor": 0
      },
      "text/plain": [
       "Running Epoch 50 of 100:   0%|          | 0/13 [00:00<?, ?it/s]"
      ]
     },
     "metadata": {},
     "output_type": "display_data"
    },
    {
     "data": {
      "application/vnd.jupyter.widget-view+json": {
       "model_id": "e23cd460f4484b30857517f3231817c7",
       "version_major": 2,
       "version_minor": 0
      },
      "text/plain": [
       "Running Evaluation:   0%|          | 0/13 [00:00<?, ?it/s]"
      ]
     },
     "metadata": {},
     "output_type": "display_data"
    },
    {
     "data": {
      "application/vnd.jupyter.widget-view+json": {
       "model_id": "339a0a7486c3490a91b65f1dbd41bd8e",
       "version_major": 2,
       "version_minor": 0
      },
      "text/plain": [
       "Running Epoch 51 of 100:   0%|          | 0/13 [00:00<?, ?it/s]"
      ]
     },
     "metadata": {},
     "output_type": "display_data"
    },
    {
     "data": {
      "application/vnd.jupyter.widget-view+json": {
       "model_id": "e233c919b610435d977e205ce3227105",
       "version_major": 2,
       "version_minor": 0
      },
      "text/plain": [
       "Running Evaluation:   0%|          | 0/13 [00:00<?, ?it/s]"
      ]
     },
     "metadata": {},
     "output_type": "display_data"
    },
    {
     "data": {
      "application/vnd.jupyter.widget-view+json": {
       "model_id": "df4f3ae47e4046f983da6f51cce65398",
       "version_major": 2,
       "version_minor": 0
      },
      "text/plain": [
       "Running Epoch 52 of 100:   0%|          | 0/13 [00:00<?, ?it/s]"
      ]
     },
     "metadata": {},
     "output_type": "display_data"
    },
    {
     "data": {
      "application/vnd.jupyter.widget-view+json": {
       "model_id": "403f5bd1d77b4a5baf042a96084a072f",
       "version_major": 2,
       "version_minor": 0
      },
      "text/plain": [
       "Running Evaluation:   0%|          | 0/13 [00:00<?, ?it/s]"
      ]
     },
     "metadata": {},
     "output_type": "display_data"
    },
    {
     "data": {
      "application/vnd.jupyter.widget-view+json": {
       "model_id": "e98daf212e2c4f27965e79367d3efc7a",
       "version_major": 2,
       "version_minor": 0
      },
      "text/plain": [
       "Running Epoch 53 of 100:   0%|          | 0/13 [00:00<?, ?it/s]"
      ]
     },
     "metadata": {},
     "output_type": "display_data"
    },
    {
     "data": {
      "application/vnd.jupyter.widget-view+json": {
       "model_id": "2678a85f6c1645ffb09764a491aab26d",
       "version_major": 2,
       "version_minor": 0
      },
      "text/plain": [
       "Running Evaluation:   0%|          | 0/13 [00:00<?, ?it/s]"
      ]
     },
     "metadata": {},
     "output_type": "display_data"
    },
    {
     "data": {
      "application/vnd.jupyter.widget-view+json": {
       "model_id": "5e0712c7b3fd43f181a713ea35213d00",
       "version_major": 2,
       "version_minor": 0
      },
      "text/plain": [
       "Running Epoch 54 of 100:   0%|          | 0/13 [00:00<?, ?it/s]"
      ]
     },
     "metadata": {},
     "output_type": "display_data"
    },
    {
     "data": {
      "application/vnd.jupyter.widget-view+json": {
       "model_id": "7dea4ddafa734564bcf98175f2a8ce36",
       "version_major": 2,
       "version_minor": 0
      },
      "text/plain": [
       "Running Evaluation:   0%|          | 0/13 [00:00<?, ?it/s]"
      ]
     },
     "metadata": {},
     "output_type": "display_data"
    },
    {
     "data": {
      "application/vnd.jupyter.widget-view+json": {
       "model_id": "20e0d28b3e4643a68eb80eae8b2278aa",
       "version_major": 2,
       "version_minor": 0
      },
      "text/plain": [
       "Running Epoch 55 of 100:   0%|          | 0/13 [00:00<?, ?it/s]"
      ]
     },
     "metadata": {},
     "output_type": "display_data"
    },
    {
     "data": {
      "application/vnd.jupyter.widget-view+json": {
       "model_id": "b414c1f42cd34b759ad1f4defa2ae643",
       "version_major": 2,
       "version_minor": 0
      },
      "text/plain": [
       "Running Evaluation:   0%|          | 0/13 [00:00<?, ?it/s]"
      ]
     },
     "metadata": {},
     "output_type": "display_data"
    },
    {
     "data": {
      "application/vnd.jupyter.widget-view+json": {
       "model_id": "d2514c28db99459d9d65e12bb553ef48",
       "version_major": 2,
       "version_minor": 0
      },
      "text/plain": [
       "Running Epoch 56 of 100:   0%|          | 0/13 [00:00<?, ?it/s]"
      ]
     },
     "metadata": {},
     "output_type": "display_data"
    },
    {
     "data": {
      "application/vnd.jupyter.widget-view+json": {
       "model_id": "df6c6a8cda024707b889bb79a6d65f0f",
       "version_major": 2,
       "version_minor": 0
      },
      "text/plain": [
       "Running Evaluation:   0%|          | 0/13 [00:00<?, ?it/s]"
      ]
     },
     "metadata": {},
     "output_type": "display_data"
    },
    {
     "data": {
      "application/vnd.jupyter.widget-view+json": {
       "model_id": "51a0752fddf94cccb3aeffa7d1b32e70",
       "version_major": 2,
       "version_minor": 0
      },
      "text/plain": [
       "Running Epoch 57 of 100:   0%|          | 0/13 [00:00<?, ?it/s]"
      ]
     },
     "metadata": {},
     "output_type": "display_data"
    },
    {
     "data": {
      "application/vnd.jupyter.widget-view+json": {
       "model_id": "692c3be6bd0d408b9ec1a6d416792008",
       "version_major": 2,
       "version_minor": 0
      },
      "text/plain": [
       "Running Evaluation:   0%|          | 0/13 [00:00<?, ?it/s]"
      ]
     },
     "metadata": {},
     "output_type": "display_data"
    },
    {
     "data": {
      "application/vnd.jupyter.widget-view+json": {
       "model_id": "3cbee05e2478418ab126260fc98e2fbc",
       "version_major": 2,
       "version_minor": 0
      },
      "text/plain": [
       "Running Epoch 58 of 100:   0%|          | 0/13 [00:00<?, ?it/s]"
      ]
     },
     "metadata": {},
     "output_type": "display_data"
    },
    {
     "data": {
      "application/vnd.jupyter.widget-view+json": {
       "model_id": "4482c6b6f9d046749e290075f717c412",
       "version_major": 2,
       "version_minor": 0
      },
      "text/plain": [
       "Running Evaluation:   0%|          | 0/13 [00:00<?, ?it/s]"
      ]
     },
     "metadata": {},
     "output_type": "display_data"
    },
    {
     "data": {
      "application/vnd.jupyter.widget-view+json": {
       "model_id": "ccb250a923c448a6a765f02e4557d542",
       "version_major": 2,
       "version_minor": 0
      },
      "text/plain": [
       "Running Epoch 59 of 100:   0%|          | 0/13 [00:00<?, ?it/s]"
      ]
     },
     "metadata": {},
     "output_type": "display_data"
    },
    {
     "data": {
      "application/vnd.jupyter.widget-view+json": {
       "model_id": "2c8577aaf6d44747921a1a410bf6fe9b",
       "version_major": 2,
       "version_minor": 0
      },
      "text/plain": [
       "Running Evaluation:   0%|          | 0/13 [00:00<?, ?it/s]"
      ]
     },
     "metadata": {},
     "output_type": "display_data"
    },
    {
     "data": {
      "application/vnd.jupyter.widget-view+json": {
       "model_id": "a1161839677e4bbfb6390b61fcd77b33",
       "version_major": 2,
       "version_minor": 0
      },
      "text/plain": [
       "Running Epoch 60 of 100:   0%|          | 0/13 [00:00<?, ?it/s]"
      ]
     },
     "metadata": {},
     "output_type": "display_data"
    },
    {
     "data": {
      "application/vnd.jupyter.widget-view+json": {
       "model_id": "5f922a162a1c4466b797234db945eab6",
       "version_major": 2,
       "version_minor": 0
      },
      "text/plain": [
       "Running Evaluation:   0%|          | 0/13 [00:00<?, ?it/s]"
      ]
     },
     "metadata": {},
     "output_type": "display_data"
    },
    {
     "data": {
      "application/vnd.jupyter.widget-view+json": {
       "model_id": "37650c30138746449e345ac91f27cd3f",
       "version_major": 2,
       "version_minor": 0
      },
      "text/plain": [
       "Running Epoch 61 of 100:   0%|          | 0/13 [00:00<?, ?it/s]"
      ]
     },
     "metadata": {},
     "output_type": "display_data"
    },
    {
     "data": {
      "application/vnd.jupyter.widget-view+json": {
       "model_id": "d32eb972cf654568b1107e5263de319c",
       "version_major": 2,
       "version_minor": 0
      },
      "text/plain": [
       "Running Evaluation:   0%|          | 0/13 [00:00<?, ?it/s]"
      ]
     },
     "metadata": {},
     "output_type": "display_data"
    },
    {
     "data": {
      "application/vnd.jupyter.widget-view+json": {
       "model_id": "8f733d4141c84eec89145e4e397da46f",
       "version_major": 2,
       "version_minor": 0
      },
      "text/plain": [
       "Running Epoch 62 of 100:   0%|          | 0/13 [00:00<?, ?it/s]"
      ]
     },
     "metadata": {},
     "output_type": "display_data"
    },
    {
     "data": {
      "application/vnd.jupyter.widget-view+json": {
       "model_id": "ed44c3ef009240d394b2a187fd993e42",
       "version_major": 2,
       "version_minor": 0
      },
      "text/plain": [
       "Running Evaluation:   0%|          | 0/13 [00:00<?, ?it/s]"
      ]
     },
     "metadata": {},
     "output_type": "display_data"
    },
    {
     "data": {
      "application/vnd.jupyter.widget-view+json": {
       "model_id": "4c2388b4283c4375bd25d7b9ba697c8a",
       "version_major": 2,
       "version_minor": 0
      },
      "text/plain": [
       "Running Epoch 63 of 100:   0%|          | 0/13 [00:00<?, ?it/s]"
      ]
     },
     "metadata": {},
     "output_type": "display_data"
    },
    {
     "data": {
      "application/vnd.jupyter.widget-view+json": {
       "model_id": "6b4c24c7999d43088d0c7ad63aaddd4e",
       "version_major": 2,
       "version_minor": 0
      },
      "text/plain": [
       "Running Evaluation:   0%|          | 0/13 [00:00<?, ?it/s]"
      ]
     },
     "metadata": {},
     "output_type": "display_data"
    },
    {
     "data": {
      "application/vnd.jupyter.widget-view+json": {
       "model_id": "233f244af98641fb8a8534fc542b9e3a",
       "version_major": 2,
       "version_minor": 0
      },
      "text/plain": [
       "Running Epoch 64 of 100:   0%|          | 0/13 [00:00<?, ?it/s]"
      ]
     },
     "metadata": {},
     "output_type": "display_data"
    },
    {
     "data": {
      "application/vnd.jupyter.widget-view+json": {
       "model_id": "eaeb39ee7ac34cd3938915c0bf3ef9d0",
       "version_major": 2,
       "version_minor": 0
      },
      "text/plain": [
       "Running Evaluation:   0%|          | 0/13 [00:00<?, ?it/s]"
      ]
     },
     "metadata": {},
     "output_type": "display_data"
    },
    {
     "data": {
      "application/vnd.jupyter.widget-view+json": {
       "model_id": "32f8d63501f045b2a64f5dd00bf7933c",
       "version_major": 2,
       "version_minor": 0
      },
      "text/plain": [
       "Running Epoch 65 of 100:   0%|          | 0/13 [00:00<?, ?it/s]"
      ]
     },
     "metadata": {},
     "output_type": "display_data"
    },
    {
     "data": {
      "application/vnd.jupyter.widget-view+json": {
       "model_id": "5f71a606807d45e89b270d76a4cc45ef",
       "version_major": 2,
       "version_minor": 0
      },
      "text/plain": [
       "Running Evaluation:   0%|          | 0/13 [00:00<?, ?it/s]"
      ]
     },
     "metadata": {},
     "output_type": "display_data"
    },
    {
     "data": {
      "application/vnd.jupyter.widget-view+json": {
       "model_id": "acb194fbee464ee9bfd76bcfc9c7d228",
       "version_major": 2,
       "version_minor": 0
      },
      "text/plain": [
       "Running Epoch 66 of 100:   0%|          | 0/13 [00:00<?, ?it/s]"
      ]
     },
     "metadata": {},
     "output_type": "display_data"
    },
    {
     "data": {
      "application/vnd.jupyter.widget-view+json": {
       "model_id": "214d944d110b4a068afb62cd2c794dbe",
       "version_major": 2,
       "version_minor": 0
      },
      "text/plain": [
       "Running Evaluation:   0%|          | 0/13 [00:00<?, ?it/s]"
      ]
     },
     "metadata": {},
     "output_type": "display_data"
    },
    {
     "data": {
      "application/vnd.jupyter.widget-view+json": {
       "model_id": "a6252b1918e346f08677357d0d0a9ec1",
       "version_major": 2,
       "version_minor": 0
      },
      "text/plain": [
       "Running Epoch 67 of 100:   0%|          | 0/13 [00:00<?, ?it/s]"
      ]
     },
     "metadata": {},
     "output_type": "display_data"
    },
    {
     "data": {
      "application/vnd.jupyter.widget-view+json": {
       "model_id": "0ceaaa232e494370a46fb41365d2600b",
       "version_major": 2,
       "version_minor": 0
      },
      "text/plain": [
       "Running Evaluation:   0%|          | 0/13 [00:00<?, ?it/s]"
      ]
     },
     "metadata": {},
     "output_type": "display_data"
    },
    {
     "data": {
      "application/vnd.jupyter.widget-view+json": {
       "model_id": "979456481c0f4f4e96a5f43bb1be295a",
       "version_major": 2,
       "version_minor": 0
      },
      "text/plain": [
       "Running Epoch 68 of 100:   0%|          | 0/13 [00:00<?, ?it/s]"
      ]
     },
     "metadata": {},
     "output_type": "display_data"
    },
    {
     "data": {
      "application/vnd.jupyter.widget-view+json": {
       "model_id": "81cea883442f46fe930cc676e1f8039a",
       "version_major": 2,
       "version_minor": 0
      },
      "text/plain": [
       "Running Evaluation:   0%|          | 0/13 [00:00<?, ?it/s]"
      ]
     },
     "metadata": {},
     "output_type": "display_data"
    },
    {
     "data": {
      "application/vnd.jupyter.widget-view+json": {
       "model_id": "fccff6fbdd2648ad9ea206858d79cc03",
       "version_major": 2,
       "version_minor": 0
      },
      "text/plain": [
       "Running Epoch 69 of 100:   0%|          | 0/13 [00:00<?, ?it/s]"
      ]
     },
     "metadata": {},
     "output_type": "display_data"
    },
    {
     "data": {
      "application/vnd.jupyter.widget-view+json": {
       "model_id": "da432666e002408faecbdd50e1edf92c",
       "version_major": 2,
       "version_minor": 0
      },
      "text/plain": [
       "Running Evaluation:   0%|          | 0/13 [00:00<?, ?it/s]"
      ]
     },
     "metadata": {},
     "output_type": "display_data"
    },
    {
     "data": {
      "application/vnd.jupyter.widget-view+json": {
       "model_id": "860ceda5b89e4e858c38f38e4a2d2880",
       "version_major": 2,
       "version_minor": 0
      },
      "text/plain": [
       "Running Epoch 70 of 100:   0%|          | 0/13 [00:00<?, ?it/s]"
      ]
     },
     "metadata": {},
     "output_type": "display_data"
    },
    {
     "data": {
      "application/vnd.jupyter.widget-view+json": {
       "model_id": "a27c5ba8a74e488eb062089d365adf4b",
       "version_major": 2,
       "version_minor": 0
      },
      "text/plain": [
       "Running Evaluation:   0%|          | 0/13 [00:00<?, ?it/s]"
      ]
     },
     "metadata": {},
     "output_type": "display_data"
    },
    {
     "data": {
      "application/vnd.jupyter.widget-view+json": {
       "model_id": "1a258eeed3624a2499aa19e9dd97a767",
       "version_major": 2,
       "version_minor": 0
      },
      "text/plain": [
       "Running Epoch 71 of 100:   0%|          | 0/13 [00:00<?, ?it/s]"
      ]
     },
     "metadata": {},
     "output_type": "display_data"
    },
    {
     "data": {
      "application/vnd.jupyter.widget-view+json": {
       "model_id": "ba6c0919f0ba42f69af79b17ef11c7e3",
       "version_major": 2,
       "version_minor": 0
      },
      "text/plain": [
       "Running Evaluation:   0%|          | 0/13 [00:00<?, ?it/s]"
      ]
     },
     "metadata": {},
     "output_type": "display_data"
    },
    {
     "data": {
      "application/vnd.jupyter.widget-view+json": {
       "model_id": "c948b49c20c6425999380dbfe88087ed",
       "version_major": 2,
       "version_minor": 0
      },
      "text/plain": [
       "Running Epoch 72 of 100:   0%|          | 0/13 [00:00<?, ?it/s]"
      ]
     },
     "metadata": {},
     "output_type": "display_data"
    },
    {
     "data": {
      "application/vnd.jupyter.widget-view+json": {
       "model_id": "3c5a070fccfe49ecab9790e52c449776",
       "version_major": 2,
       "version_minor": 0
      },
      "text/plain": [
       "Running Evaluation:   0%|          | 0/13 [00:00<?, ?it/s]"
      ]
     },
     "metadata": {},
     "output_type": "display_data"
    },
    {
     "data": {
      "application/vnd.jupyter.widget-view+json": {
       "model_id": "c47723fb81ad4c1bae53a781f1668e9e",
       "version_major": 2,
       "version_minor": 0
      },
      "text/plain": [
       "Running Epoch 73 of 100:   0%|          | 0/13 [00:00<?, ?it/s]"
      ]
     },
     "metadata": {},
     "output_type": "display_data"
    },
    {
     "data": {
      "application/vnd.jupyter.widget-view+json": {
       "model_id": "f404006bd65c4d2da9e2a5defe0bafcc",
       "version_major": 2,
       "version_minor": 0
      },
      "text/plain": [
       "Running Evaluation:   0%|          | 0/13 [00:00<?, ?it/s]"
      ]
     },
     "metadata": {},
     "output_type": "display_data"
    },
    {
     "data": {
      "application/vnd.jupyter.widget-view+json": {
       "model_id": "b40986d21cbc4ec88f02ae8799fdb088",
       "version_major": 2,
       "version_minor": 0
      },
      "text/plain": [
       "Running Epoch 74 of 100:   0%|          | 0/13 [00:00<?, ?it/s]"
      ]
     },
     "metadata": {},
     "output_type": "display_data"
    },
    {
     "data": {
      "application/vnd.jupyter.widget-view+json": {
       "model_id": "86e3f9257301445fb520c15f78a1f855",
       "version_major": 2,
       "version_minor": 0
      },
      "text/plain": [
       "Running Evaluation:   0%|          | 0/13 [00:00<?, ?it/s]"
      ]
     },
     "metadata": {},
     "output_type": "display_data"
    },
    {
     "data": {
      "application/vnd.jupyter.widget-view+json": {
       "model_id": "e2945e1f7521450e9e7fb2b9ee50b0dc",
       "version_major": 2,
       "version_minor": 0
      },
      "text/plain": [
       "Running Epoch 75 of 100:   0%|          | 0/13 [00:00<?, ?it/s]"
      ]
     },
     "metadata": {},
     "output_type": "display_data"
    },
    {
     "data": {
      "application/vnd.jupyter.widget-view+json": {
       "model_id": "d7bf2dd5c3ce4f52bb88cda3487447ec",
       "version_major": 2,
       "version_minor": 0
      },
      "text/plain": [
       "Running Evaluation:   0%|          | 0/13 [00:00<?, ?it/s]"
      ]
     },
     "metadata": {},
     "output_type": "display_data"
    },
    {
     "data": {
      "application/vnd.jupyter.widget-view+json": {
       "model_id": "477ec4552a254b71bc91db13c2ff85ca",
       "version_major": 2,
       "version_minor": 0
      },
      "text/plain": [
       "Running Epoch 76 of 100:   0%|          | 0/13 [00:00<?, ?it/s]"
      ]
     },
     "metadata": {},
     "output_type": "display_data"
    },
    {
     "data": {
      "application/vnd.jupyter.widget-view+json": {
       "model_id": "ea547021c6ec4fb299e4b0b4632cd948",
       "version_major": 2,
       "version_minor": 0
      },
      "text/plain": [
       "Running Evaluation:   0%|          | 0/13 [00:00<?, ?it/s]"
      ]
     },
     "metadata": {},
     "output_type": "display_data"
    },
    {
     "data": {
      "application/vnd.jupyter.widget-view+json": {
       "model_id": "e4f6b14e3ca24278bb0299b19e86d0e5",
       "version_major": 2,
       "version_minor": 0
      },
      "text/plain": [
       "Running Epoch 77 of 100:   0%|          | 0/13 [00:00<?, ?it/s]"
      ]
     },
     "metadata": {},
     "output_type": "display_data"
    },
    {
     "data": {
      "application/vnd.jupyter.widget-view+json": {
       "model_id": "fa200a63d6fd4bd5ab662ff0908e4bc9",
       "version_major": 2,
       "version_minor": 0
      },
      "text/plain": [
       "Running Evaluation:   0%|          | 0/13 [00:00<?, ?it/s]"
      ]
     },
     "metadata": {},
     "output_type": "display_data"
    },
    {
     "data": {
      "application/vnd.jupyter.widget-view+json": {
       "model_id": "ce698774794f4d849e7f5474e582e625",
       "version_major": 2,
       "version_minor": 0
      },
      "text/plain": [
       "Running Epoch 78 of 100:   0%|          | 0/13 [00:00<?, ?it/s]"
      ]
     },
     "metadata": {},
     "output_type": "display_data"
    },
    {
     "data": {
      "application/vnd.jupyter.widget-view+json": {
       "model_id": "8dd2bc1a1fa24fadb1687d24619d3b86",
       "version_major": 2,
       "version_minor": 0
      },
      "text/plain": [
       "Running Evaluation:   0%|          | 0/13 [00:00<?, ?it/s]"
      ]
     },
     "metadata": {},
     "output_type": "display_data"
    },
    {
     "data": {
      "application/vnd.jupyter.widget-view+json": {
       "model_id": "cbeb3000ff94400192102eafabe941c8",
       "version_major": 2,
       "version_minor": 0
      },
      "text/plain": [
       "Running Epoch 79 of 100:   0%|          | 0/13 [00:00<?, ?it/s]"
      ]
     },
     "metadata": {},
     "output_type": "display_data"
    },
    {
     "data": {
      "application/vnd.jupyter.widget-view+json": {
       "model_id": "fcd788b79e4049539ff3b6e9c3fe6079",
       "version_major": 2,
       "version_minor": 0
      },
      "text/plain": [
       "Running Evaluation:   0%|          | 0/13 [00:00<?, ?it/s]"
      ]
     },
     "metadata": {},
     "output_type": "display_data"
    },
    {
     "data": {
      "application/vnd.jupyter.widget-view+json": {
       "model_id": "9a65a17c73774309a8d95974756428c2",
       "version_major": 2,
       "version_minor": 0
      },
      "text/plain": [
       "Running Epoch 80 of 100:   0%|          | 0/13 [00:00<?, ?it/s]"
      ]
     },
     "metadata": {},
     "output_type": "display_data"
    },
    {
     "data": {
      "application/vnd.jupyter.widget-view+json": {
       "model_id": "501d77283c2e43e9857ccf8b65a4be1e",
       "version_major": 2,
       "version_minor": 0
      },
      "text/plain": [
       "Running Evaluation:   0%|          | 0/13 [00:00<?, ?it/s]"
      ]
     },
     "metadata": {},
     "output_type": "display_data"
    },
    {
     "data": {
      "application/vnd.jupyter.widget-view+json": {
       "model_id": "b93ee93b24964b00a01acef48fb2a780",
       "version_major": 2,
       "version_minor": 0
      },
      "text/plain": [
       "Running Epoch 81 of 100:   0%|          | 0/13 [00:00<?, ?it/s]"
      ]
     },
     "metadata": {},
     "output_type": "display_data"
    },
    {
     "data": {
      "application/vnd.jupyter.widget-view+json": {
       "model_id": "4a5712749fc243d5922b74274787d74d",
       "version_major": 2,
       "version_minor": 0
      },
      "text/plain": [
       "Running Evaluation:   0%|          | 0/13 [00:00<?, ?it/s]"
      ]
     },
     "metadata": {},
     "output_type": "display_data"
    },
    {
     "data": {
      "application/vnd.jupyter.widget-view+json": {
       "model_id": "cda3a60ad9a54a59ae0fe06a5176c75c",
       "version_major": 2,
       "version_minor": 0
      },
      "text/plain": [
       "Running Epoch 82 of 100:   0%|          | 0/13 [00:00<?, ?it/s]"
      ]
     },
     "metadata": {},
     "output_type": "display_data"
    },
    {
     "data": {
      "application/vnd.jupyter.widget-view+json": {
       "model_id": "980210a840cb4050945dfc6b875fbe78",
       "version_major": 2,
       "version_minor": 0
      },
      "text/plain": [
       "Running Evaluation:   0%|          | 0/13 [00:00<?, ?it/s]"
      ]
     },
     "metadata": {},
     "output_type": "display_data"
    },
    {
     "data": {
      "application/vnd.jupyter.widget-view+json": {
       "model_id": "14748599050b45e1a966b03e54f8dac7",
       "version_major": 2,
       "version_minor": 0
      },
      "text/plain": [
       "Running Epoch 83 of 100:   0%|          | 0/13 [00:00<?, ?it/s]"
      ]
     },
     "metadata": {},
     "output_type": "display_data"
    },
    {
     "data": {
      "application/vnd.jupyter.widget-view+json": {
       "model_id": "f09941d0845c46ad9b8737cc1170f5a8",
       "version_major": 2,
       "version_minor": 0
      },
      "text/plain": [
       "Running Evaluation:   0%|          | 0/13 [00:00<?, ?it/s]"
      ]
     },
     "metadata": {},
     "output_type": "display_data"
    },
    {
     "data": {
      "application/vnd.jupyter.widget-view+json": {
       "model_id": "3277838c8105409ca7f1139c1a7a6abb",
       "version_major": 2,
       "version_minor": 0
      },
      "text/plain": [
       "Running Epoch 84 of 100:   0%|          | 0/13 [00:00<?, ?it/s]"
      ]
     },
     "metadata": {},
     "output_type": "display_data"
    },
    {
     "data": {
      "application/vnd.jupyter.widget-view+json": {
       "model_id": "0fa909e3d8e34a0e8e38869d87ceaac3",
       "version_major": 2,
       "version_minor": 0
      },
      "text/plain": [
       "Running Evaluation:   0%|          | 0/13 [00:00<?, ?it/s]"
      ]
     },
     "metadata": {},
     "output_type": "display_data"
    },
    {
     "data": {
      "application/vnd.jupyter.widget-view+json": {
       "model_id": "55e016047f2b402fba28aed7ec78fd54",
       "version_major": 2,
       "version_minor": 0
      },
      "text/plain": [
       "Running Epoch 85 of 100:   0%|          | 0/13 [00:00<?, ?it/s]"
      ]
     },
     "metadata": {},
     "output_type": "display_data"
    },
    {
     "data": {
      "application/vnd.jupyter.widget-view+json": {
       "model_id": "ce6221cc32ea4a95977c93d8c1c893b0",
       "version_major": 2,
       "version_minor": 0
      },
      "text/plain": [
       "Running Evaluation:   0%|          | 0/13 [00:00<?, ?it/s]"
      ]
     },
     "metadata": {},
     "output_type": "display_data"
    },
    {
     "data": {
      "application/vnd.jupyter.widget-view+json": {
       "model_id": "e8c2a956bb82440a8861285d3e053073",
       "version_major": 2,
       "version_minor": 0
      },
      "text/plain": [
       "Running Epoch 86 of 100:   0%|          | 0/13 [00:00<?, ?it/s]"
      ]
     },
     "metadata": {},
     "output_type": "display_data"
    },
    {
     "data": {
      "application/vnd.jupyter.widget-view+json": {
       "model_id": "fcac50a835424accb2d88c8c55644cd6",
       "version_major": 2,
       "version_minor": 0
      },
      "text/plain": [
       "Running Evaluation:   0%|          | 0/13 [00:00<?, ?it/s]"
      ]
     },
     "metadata": {},
     "output_type": "display_data"
    },
    {
     "data": {
      "application/vnd.jupyter.widget-view+json": {
       "model_id": "bbadfbab5603481986502af809d5d180",
       "version_major": 2,
       "version_minor": 0
      },
      "text/plain": [
       "Running Epoch 87 of 100:   0%|          | 0/13 [00:00<?, ?it/s]"
      ]
     },
     "metadata": {},
     "output_type": "display_data"
    },
    {
     "data": {
      "application/vnd.jupyter.widget-view+json": {
       "model_id": "fb3a4017ea304ec082ef1f596d4574e3",
       "version_major": 2,
       "version_minor": 0
      },
      "text/plain": [
       "Running Evaluation:   0%|          | 0/13 [00:00<?, ?it/s]"
      ]
     },
     "metadata": {},
     "output_type": "display_data"
    },
    {
     "data": {
      "application/vnd.jupyter.widget-view+json": {
       "model_id": "da479985f4b44fac9423c1cbc1238dfb",
       "version_major": 2,
       "version_minor": 0
      },
      "text/plain": [
       "Running Epoch 88 of 100:   0%|          | 0/13 [00:00<?, ?it/s]"
      ]
     },
     "metadata": {},
     "output_type": "display_data"
    },
    {
     "data": {
      "application/vnd.jupyter.widget-view+json": {
       "model_id": "f8c434c98ca74b04afd166db755bb75b",
       "version_major": 2,
       "version_minor": 0
      },
      "text/plain": [
       "Running Evaluation:   0%|          | 0/13 [00:00<?, ?it/s]"
      ]
     },
     "metadata": {},
     "output_type": "display_data"
    },
    {
     "data": {
      "application/vnd.jupyter.widget-view+json": {
       "model_id": "2a3f1cce4fd74702a2969337ec982d36",
       "version_major": 2,
       "version_minor": 0
      },
      "text/plain": [
       "Running Epoch 89 of 100:   0%|          | 0/13 [00:00<?, ?it/s]"
      ]
     },
     "metadata": {},
     "output_type": "display_data"
    },
    {
     "data": {
      "application/vnd.jupyter.widget-view+json": {
       "model_id": "901346e2f33e470780c9cc51b7d8629b",
       "version_major": 2,
       "version_minor": 0
      },
      "text/plain": [
       "Running Evaluation:   0%|          | 0/13 [00:00<?, ?it/s]"
      ]
     },
     "metadata": {},
     "output_type": "display_data"
    },
    {
     "data": {
      "application/vnd.jupyter.widget-view+json": {
       "model_id": "bb9ad408fc7241d587ed5f8eaa1c44f9",
       "version_major": 2,
       "version_minor": 0
      },
      "text/plain": [
       "Running Epoch 90 of 100:   0%|          | 0/13 [00:00<?, ?it/s]"
      ]
     },
     "metadata": {},
     "output_type": "display_data"
    },
    {
     "data": {
      "application/vnd.jupyter.widget-view+json": {
       "model_id": "5dba95da39fc4d36a0d1243926041996",
       "version_major": 2,
       "version_minor": 0
      },
      "text/plain": [
       "Running Evaluation:   0%|          | 0/13 [00:00<?, ?it/s]"
      ]
     },
     "metadata": {},
     "output_type": "display_data"
    },
    {
     "data": {
      "application/vnd.jupyter.widget-view+json": {
       "model_id": "d34cba0038e94046aa370ae5f5e8443d",
       "version_major": 2,
       "version_minor": 0
      },
      "text/plain": [
       "Running Epoch 91 of 100:   0%|          | 0/13 [00:00<?, ?it/s]"
      ]
     },
     "metadata": {},
     "output_type": "display_data"
    },
    {
     "data": {
      "application/vnd.jupyter.widget-view+json": {
       "model_id": "e1174645ab17477faf628dd5159f5da9",
       "version_major": 2,
       "version_minor": 0
      },
      "text/plain": [
       "Running Evaluation:   0%|          | 0/13 [00:00<?, ?it/s]"
      ]
     },
     "metadata": {},
     "output_type": "display_data"
    },
    {
     "data": {
      "application/vnd.jupyter.widget-view+json": {
       "model_id": "2ec398d48bc747d59cb06ae580cede99",
       "version_major": 2,
       "version_minor": 0
      },
      "text/plain": [
       "Running Epoch 92 of 100:   0%|          | 0/13 [00:00<?, ?it/s]"
      ]
     },
     "metadata": {},
     "output_type": "display_data"
    },
    {
     "data": {
      "application/vnd.jupyter.widget-view+json": {
       "model_id": "209849d745714f919eef993bc58a60ec",
       "version_major": 2,
       "version_minor": 0
      },
      "text/plain": [
       "Running Evaluation:   0%|          | 0/13 [00:00<?, ?it/s]"
      ]
     },
     "metadata": {},
     "output_type": "display_data"
    },
    {
     "data": {
      "application/vnd.jupyter.widget-view+json": {
       "model_id": "1cb7a90ca07d498dbf3a36b5208d4843",
       "version_major": 2,
       "version_minor": 0
      },
      "text/plain": [
       "Running Epoch 93 of 100:   0%|          | 0/13 [00:00<?, ?it/s]"
      ]
     },
     "metadata": {},
     "output_type": "display_data"
    },
    {
     "data": {
      "application/vnd.jupyter.widget-view+json": {
       "model_id": "e7e3349d12aa4ebe9753a2de72a72248",
       "version_major": 2,
       "version_minor": 0
      },
      "text/plain": [
       "Running Evaluation:   0%|          | 0/13 [00:00<?, ?it/s]"
      ]
     },
     "metadata": {},
     "output_type": "display_data"
    },
    {
     "data": {
      "application/vnd.jupyter.widget-view+json": {
       "model_id": "48578b2b7f1e473881534ab31a40fc59",
       "version_major": 2,
       "version_minor": 0
      },
      "text/plain": [
       "Running Epoch 94 of 100:   0%|          | 0/13 [00:00<?, ?it/s]"
      ]
     },
     "metadata": {},
     "output_type": "display_data"
    },
    {
     "data": {
      "application/vnd.jupyter.widget-view+json": {
       "model_id": "5578d311821e4dcebd67358e5574b298",
       "version_major": 2,
       "version_minor": 0
      },
      "text/plain": [
       "Running Evaluation:   0%|          | 0/13 [00:00<?, ?it/s]"
      ]
     },
     "metadata": {},
     "output_type": "display_data"
    },
    {
     "data": {
      "application/vnd.jupyter.widget-view+json": {
       "model_id": "b00d4f0b1cec493093532375b682ac8e",
       "version_major": 2,
       "version_minor": 0
      },
      "text/plain": [
       "Running Epoch 95 of 100:   0%|          | 0/13 [00:00<?, ?it/s]"
      ]
     },
     "metadata": {},
     "output_type": "display_data"
    },
    {
     "data": {
      "application/vnd.jupyter.widget-view+json": {
       "model_id": "5ff82edd99324972b9cba352128674db",
       "version_major": 2,
       "version_minor": 0
      },
      "text/plain": [
       "Running Evaluation:   0%|          | 0/13 [00:00<?, ?it/s]"
      ]
     },
     "metadata": {},
     "output_type": "display_data"
    },
    {
     "data": {
      "application/vnd.jupyter.widget-view+json": {
       "model_id": "10f453fbaeb04b94ae528b8690a10dd7",
       "version_major": 2,
       "version_minor": 0
      },
      "text/plain": [
       "Running Epoch 96 of 100:   0%|          | 0/13 [00:00<?, ?it/s]"
      ]
     },
     "metadata": {},
     "output_type": "display_data"
    },
    {
     "data": {
      "application/vnd.jupyter.widget-view+json": {
       "model_id": "d3d2e1d175ef4ddba90085b723e36d73",
       "version_major": 2,
       "version_minor": 0
      },
      "text/plain": [
       "Running Evaluation:   0%|          | 0/13 [00:00<?, ?it/s]"
      ]
     },
     "metadata": {},
     "output_type": "display_data"
    },
    {
     "data": {
      "application/vnd.jupyter.widget-view+json": {
       "model_id": "c43efe146933478697674ac1a20700bc",
       "version_major": 2,
       "version_minor": 0
      },
      "text/plain": [
       "Running Epoch 97 of 100:   0%|          | 0/13 [00:00<?, ?it/s]"
      ]
     },
     "metadata": {},
     "output_type": "display_data"
    },
    {
     "data": {
      "application/vnd.jupyter.widget-view+json": {
       "model_id": "2e7a757292ca456bb9f8c3fee42af275",
       "version_major": 2,
       "version_minor": 0
      },
      "text/plain": [
       "Running Evaluation:   0%|          | 0/13 [00:00<?, ?it/s]"
      ]
     },
     "metadata": {},
     "output_type": "display_data"
    },
    {
     "data": {
      "application/vnd.jupyter.widget-view+json": {
       "model_id": "070f15b57d7249c2b7b788065cd356e5",
       "version_major": 2,
       "version_minor": 0
      },
      "text/plain": [
       "Running Epoch 98 of 100:   0%|          | 0/13 [00:00<?, ?it/s]"
      ]
     },
     "metadata": {},
     "output_type": "display_data"
    },
    {
     "data": {
      "application/vnd.jupyter.widget-view+json": {
       "model_id": "26789ca17d8640b39c73a4919fba1152",
       "version_major": 2,
       "version_minor": 0
      },
      "text/plain": [
       "Running Evaluation:   0%|          | 0/13 [00:00<?, ?it/s]"
      ]
     },
     "metadata": {},
     "output_type": "display_data"
    },
    {
     "data": {
      "application/vnd.jupyter.widget-view+json": {
       "model_id": "5639670a566b48a6b6e7f01729de0619",
       "version_major": 2,
       "version_minor": 0
      },
      "text/plain": [
       "Running Epoch 99 of 100:   0%|          | 0/13 [00:00<?, ?it/s]"
      ]
     },
     "metadata": {},
     "output_type": "display_data"
    },
    {
     "data": {
      "application/vnd.jupyter.widget-view+json": {
       "model_id": "35df6239aa054e38925d400b5140e1bc",
       "version_major": 2,
       "version_minor": 0
      },
      "text/plain": [
       "Running Evaluation:   0%|          | 0/13 [00:00<?, ?it/s]"
      ]
     },
     "metadata": {},
     "output_type": "display_data"
    },
    {
     "data": {
      "text/plain": [
       "(1300,\n",
       " defaultdict(list,\n",
       "             {'global_step': [13,\n",
       "               26,\n",
       "               39,\n",
       "               52,\n",
       "               65,\n",
       "               78,\n",
       "               91,\n",
       "               104,\n",
       "               117,\n",
       "               130,\n",
       "               143,\n",
       "               156,\n",
       "               169,\n",
       "               182,\n",
       "               195,\n",
       "               208,\n",
       "               221,\n",
       "               234,\n",
       "               247,\n",
       "               260,\n",
       "               273,\n",
       "               286,\n",
       "               299,\n",
       "               312,\n",
       "               325,\n",
       "               338,\n",
       "               351,\n",
       "               364,\n",
       "               377,\n",
       "               390,\n",
       "               403,\n",
       "               416,\n",
       "               429,\n",
       "               442,\n",
       "               455,\n",
       "               468,\n",
       "               481,\n",
       "               494,\n",
       "               507,\n",
       "               520,\n",
       "               533,\n",
       "               546,\n",
       "               559,\n",
       "               572,\n",
       "               585,\n",
       "               598,\n",
       "               611,\n",
       "               624,\n",
       "               637,\n",
       "               650,\n",
       "               663,\n",
       "               676,\n",
       "               689,\n",
       "               702,\n",
       "               715,\n",
       "               728,\n",
       "               741,\n",
       "               754,\n",
       "               767,\n",
       "               780,\n",
       "               793,\n",
       "               806,\n",
       "               819,\n",
       "               832,\n",
       "               845,\n",
       "               858,\n",
       "               871,\n",
       "               884,\n",
       "               897,\n",
       "               910,\n",
       "               923,\n",
       "               936,\n",
       "               949,\n",
       "               962,\n",
       "               975,\n",
       "               988,\n",
       "               1001,\n",
       "               1014,\n",
       "               1027,\n",
       "               1040,\n",
       "               1053,\n",
       "               1066,\n",
       "               1079,\n",
       "               1092,\n",
       "               1105,\n",
       "               1118,\n",
       "               1131,\n",
       "               1144,\n",
       "               1157,\n",
       "               1170,\n",
       "               1183,\n",
       "               1196,\n",
       "               1209,\n",
       "               1222,\n",
       "               1235,\n",
       "               1248,\n",
       "               1261,\n",
       "               1274,\n",
       "               1287,\n",
       "               1300],\n",
       "              'train_loss': [0.37081655859947205,\n",
       "               0.3611072897911072,\n",
       "               0.2598732113838196,\n",
       "               0.35226795077323914,\n",
       "               0.22701741755008698,\n",
       "               0.2565569579601288,\n",
       "               0.1684674769639969,\n",
       "               0.24115264415740967,\n",
       "               0.15443731844425201,\n",
       "               0.14307940006256104,\n",
       "               0.16537430882453918,\n",
       "               0.1246589720249176,\n",
       "               0.12389183789491653,\n",
       "               0.18918296694755554,\n",
       "               0.14200343191623688,\n",
       "               0.08479432016611099,\n",
       "               0.09998627007007599,\n",
       "               0.10334328562021255,\n",
       "               0.08688212931156158,\n",
       "               0.07467804104089737,\n",
       "               0.0653601661324501,\n",
       "               0.07598765939474106,\n",
       "               0.09298447519540787,\n",
       "               0.06815746426582336,\n",
       "               0.07233480364084244,\n",
       "               0.05475090071558952,\n",
       "               0.03972957283258438,\n",
       "               0.07011224329471588,\n",
       "               0.03342026099562645,\n",
       "               0.03847624361515045,\n",
       "               0.04629743471741676,\n",
       "               0.04942430555820465,\n",
       "               0.03219415619969368,\n",
       "               0.038603294640779495,\n",
       "               0.012904740869998932,\n",
       "               0.03293623402714729,\n",
       "               0.04857340082526207,\n",
       "               0.0061111715622246265,\n",
       "               0.0073915706016123295,\n",
       "               0.030476661399006844,\n",
       "               0.007293496280908585,\n",
       "               0.012427227571606636,\n",
       "               0.01966352015733719,\n",
       "               0.006104809232056141,\n",
       "               0.004909753333777189,\n",
       "               0.0029577866662293673,\n",
       "               0.001500772195868194,\n",
       "               0.0010753402020782232,\n",
       "               0.002812982304021716,\n",
       "               0.001969902543351054,\n",
       "               0.001508056651800871,\n",
       "               0.0015720746014267206,\n",
       "               0.0024442188441753387,\n",
       "               0.0018658488988876343,\n",
       "               0.0007408129167743027,\n",
       "               0.000556838873308152,\n",
       "               0.0008990439237095416,\n",
       "               0.0032118537928909063,\n",
       "               0.00033085834002122283,\n",
       "               0.0005765592795796692,\n",
       "               0.0028682861011475325,\n",
       "               0.0005554886884056032,\n",
       "               0.0026187868788838387,\n",
       "               0.00442378968000412,\n",
       "               0.0012199257034808397,\n",
       "               0.0030963225290179253,\n",
       "               0.0009614657610654831,\n",
       "               0.000288295530481264,\n",
       "               0.004645084030926228,\n",
       "               0.0004267543845344335,\n",
       "               0.0003791750059463084,\n",
       "               0.0007828940870240331,\n",
       "               0.00021690744324587286,\n",
       "               0.0002002545807044953,\n",
       "               0.0013438090682029724,\n",
       "               0.0003137410676572472,\n",
       "               0.00045781134394928813,\n",
       "               0.0016688263276591897,\n",
       "               0.0004955900949425995,\n",
       "               0.0002933975774794817,\n",
       "               0.0003490952658466995,\n",
       "               0.0002638262521941215,\n",
       "               0.00015343923587352037,\n",
       "               0.0003792639181483537,\n",
       "               0.00039815486525185406,\n",
       "               0.00018584275676403195,\n",
       "               6.321973341982812e-05,\n",
       "               0.0004402364429552108,\n",
       "               0.00014824791287537664,\n",
       "               0.00022371958766598254,\n",
       "               0.0021366712171584368,\n",
       "               4.2898864194285125e-05,\n",
       "               0.0001437768223695457,\n",
       "               0.00013778125867247581,\n",
       "               0.007939646020531654,\n",
       "               0.00016052700811997056,\n",
       "               0.0004819099558517337,\n",
       "               0.00015663844533264637,\n",
       "               0.00035479632788337767,\n",
       "               0.0002922072308138013],\n",
       "              'eval_loss': [0.41894394159317017,\n",
       "               0.313423827290535,\n",
       "               0.2830909685446666,\n",
       "               0.28615827514575076,\n",
       "               0.2891062956589919,\n",
       "               0.2836036120469754,\n",
       "               0.28935063114533055,\n",
       "               0.29223154141352725,\n",
       "               0.29523140306656176,\n",
       "               0.31892209557386547,\n",
       "               0.30465130851818967,\n",
       "               0.3387355391795819,\n",
       "               0.3365183954055493,\n",
       "               0.34893728448794437,\n",
       "               0.367031984604322,\n",
       "               0.3674436406447337,\n",
       "               0.3782800974754187,\n",
       "               0.3902201457665517,\n",
       "               0.38348335371567654,\n",
       "               0.39768802317289204,\n",
       "               0.4222600975861916,\n",
       "               0.41689973840346706,\n",
       "               0.4266149619450936,\n",
       "               0.4421248688147618,\n",
       "               0.4545968495882474,\n",
       "               0.46203235250252944,\n",
       "               0.47164149582386017,\n",
       "               0.48150352789805484,\n",
       "               0.4835676825963534,\n",
       "               0.49411276555978334,\n",
       "               0.5024024626383414,\n",
       "               0.5310100248226752,\n",
       "               0.5329579241000689,\n",
       "               0.5382123578053254,\n",
       "               0.5567773729562759,\n",
       "               0.554259751851742,\n",
       "               0.5664704487873957,\n",
       "               0.5974410818173335,\n",
       "               0.5928636055726272,\n",
       "               0.5747121721506119,\n",
       "               0.583010291823974,\n",
       "               0.6280418393703607,\n",
       "               0.6001932804401104,\n",
       "               0.6605205398339492,\n",
       "               0.592980506328436,\n",
       "               0.6200766047606101,\n",
       "               0.6402176400789847,\n",
       "               0.6554413563930072,\n",
       "               0.6790886601576438,\n",
       "               0.6627083627077249,\n",
       "               0.6636949777603149,\n",
       "               0.6901320402438824,\n",
       "               0.705667468217703,\n",
       "               0.6659665153576777,\n",
       "               0.6674347279163507,\n",
       "               0.6816405459092214,\n",
       "               0.6795972115718402,\n",
       "               0.6882067529054788,\n",
       "               0.6837616734779798,\n",
       "               0.6635509901321851,\n",
       "               0.6871425933562793,\n",
       "               0.7520412756846502,\n",
       "               0.7089203080305686,\n",
       "               0.6780104751770313,\n",
       "               0.6589701794661008,\n",
       "               0.6861665088396806,\n",
       "               0.6983415541740564,\n",
       "               0.6943931189867166,\n",
       "               0.686579569027974,\n",
       "               0.680028301018935,\n",
       "               0.6751426401046606,\n",
       "               0.6804994917832888,\n",
       "               0.6779860613437799,\n",
       "               0.695610815515885,\n",
       "               0.6864150900107163,\n",
       "               0.6928074050408143,\n",
       "               0.696339216369849,\n",
       "               0.6862719219464523,\n",
       "               0.704152484352772,\n",
       "               0.6825321442805804,\n",
       "               0.7067061078089935,\n",
       "               0.6982312729725471,\n",
       "               0.6910553104602374,\n",
       "               0.6857835673368894,\n",
       "               0.6812995775387838,\n",
       "               0.6792325056516207,\n",
       "               0.7016555288663278,\n",
       "               0.701583995268895,\n",
       "               0.701698131286181,\n",
       "               0.6969059247236985,\n",
       "               0.6895796438822379,\n",
       "               0.6969909576269296,\n",
       "               0.6963653633227715,\n",
       "               0.6980136908017672,\n",
       "               0.6971078629677112,\n",
       "               0.6891479675586407,\n",
       "               0.6900931734305161,\n",
       "               0.6914333059237554,\n",
       "               0.6921890355073489,\n",
       "               0.692670579140003],\n",
       "              'precision': [0.0,\n",
       "               0.0,\n",
       "               0.0,\n",
       "               0.06569343065693431,\n",
       "               0.0847457627118644,\n",
       "               0.1016949152542373,\n",
       "               0.21212121212121213,\n",
       "               0.14444444444444443,\n",
       "               0.1,\n",
       "               0.11764705882352941,\n",
       "               0.1553398058252427,\n",
       "               0.14705882352941177,\n",
       "               0.13978494623655913,\n",
       "               0.1375,\n",
       "               0.1310344827586207,\n",
       "               0.14285714285714285,\n",
       "               0.12745098039215685,\n",
       "               0.14150943396226415,\n",
       "               0.15306122448979592,\n",
       "               0.14173228346456693,\n",
       "               0.1282051282051282,\n",
       "               0.16981132075471697,\n",
       "               0.16326530612244897,\n",
       "               0.13286713286713286,\n",
       "               0.16304347826086957,\n",
       "               0.16379310344827586,\n",
       "               0.14393939393939395,\n",
       "               0.15748031496062992,\n",
       "               0.1484375,\n",
       "               0.14960629921259844,\n",
       "               0.19310344827586207,\n",
       "               0.14285714285714285,\n",
       "               0.14705882352941177,\n",
       "               0.15,\n",
       "               0.15432098765432098,\n",
       "               0.16312056737588654,\n",
       "               0.16981132075471697,\n",
       "               0.1437125748502994,\n",
       "               0.14814814814814814,\n",
       "               0.17142857142857143,\n",
       "               0.15625,\n",
       "               0.13291139240506328,\n",
       "               0.14705882352941177,\n",
       "               0.13793103448275862,\n",
       "               0.17424242424242425,\n",
       "               0.14482758620689656,\n",
       "               0.15492957746478872,\n",
       "               0.14788732394366197,\n",
       "               0.16167664670658682,\n",
       "               0.16883116883116883,\n",
       "               0.16770186335403728,\n",
       "               0.16470588235294117,\n",
       "               0.16111111111111112,\n",
       "               0.16891891891891891,\n",
       "               0.18543046357615894,\n",
       "               0.14545454545454545,\n",
       "               0.17763157894736842,\n",
       "               0.15789473684210525,\n",
       "               0.1724137931034483,\n",
       "               0.19811320754716982,\n",
       "               0.14935064935064934,\n",
       "               0.13636363636363635,\n",
       "               0.1724137931034483,\n",
       "               0.16770186335403728,\n",
       "               0.18032786885245902,\n",
       "               0.18055555555555555,\n",
       "               0.19444444444444445,\n",
       "               0.1836734693877551,\n",
       "               0.16891891891891891,\n",
       "               0.16556291390728478,\n",
       "               0.19230769230769232,\n",
       "               0.18604651162790697,\n",
       "               0.1935483870967742,\n",
       "               0.17482517482517482,\n",
       "               0.1893939393939394,\n",
       "               0.17985611510791366,\n",
       "               0.16428571428571428,\n",
       "               0.18382352941176472,\n",
       "               0.1895424836601307,\n",
       "               0.15789473684210525,\n",
       "               0.176056338028169,\n",
       "               0.16312056737588654,\n",
       "               0.16058394160583941,\n",
       "               0.176056338028169,\n",
       "               0.18248175182481752,\n",
       "               0.18181818181818182,\n",
       "               0.1643835616438356,\n",
       "               0.14864864864864866,\n",
       "               0.15753424657534246,\n",
       "               0.16312056737588654,\n",
       "               0.16417910447761194,\n",
       "               0.17142857142857143,\n",
       "               0.17391304347826086,\n",
       "               0.16901408450704225,\n",
       "               0.17266187050359713,\n",
       "               0.183206106870229,\n",
       "               0.1791044776119403,\n",
       "               0.17518248175182483,\n",
       "               0.17391304347826086,\n",
       "               0.17391304347826086],\n",
       "              'recall': [0.0,\n",
       "               0.0,\n",
       "               0.0,\n",
       "               0.08333333333333333,\n",
       "               0.09259259259259259,\n",
       "               0.1111111111111111,\n",
       "               0.06481481481481481,\n",
       "               0.12037037037037036,\n",
       "               0.08333333333333333,\n",
       "               0.09259259259259259,\n",
       "               0.14814814814814814,\n",
       "               0.1388888888888889,\n",
       "               0.12037037037037036,\n",
       "               0.10185185185185185,\n",
       "               0.17592592592592593,\n",
       "               0.16666666666666666,\n",
       "               0.12037037037037036,\n",
       "               0.1388888888888889,\n",
       "               0.1388888888888889,\n",
       "               0.16666666666666666,\n",
       "               0.1388888888888889,\n",
       "               0.16666666666666666,\n",
       "               0.14814814814814814,\n",
       "               0.17592592592592593,\n",
       "               0.1388888888888889,\n",
       "               0.17592592592592593,\n",
       "               0.17592592592592593,\n",
       "               0.18518518518518517,\n",
       "               0.17592592592592593,\n",
       "               0.17592592592592593,\n",
       "               0.25925925925925924,\n",
       "               0.18518518518518517,\n",
       "               0.18518518518518517,\n",
       "               0.16666666666666666,\n",
       "               0.23148148148148148,\n",
       "               0.21296296296296297,\n",
       "               0.25,\n",
       "               0.2222222222222222,\n",
       "               0.18518518518518517,\n",
       "               0.2222222222222222,\n",
       "               0.18518518518518517,\n",
       "               0.19444444444444445,\n",
       "               0.23148148148148148,\n",
       "               0.2222222222222222,\n",
       "               0.21296296296296297,\n",
       "               0.19444444444444445,\n",
       "               0.2037037037037037,\n",
       "               0.19444444444444445,\n",
       "               0.25,\n",
       "               0.24074074074074073,\n",
       "               0.25,\n",
       "               0.25925925925925924,\n",
       "               0.26851851851851855,\n",
       "               0.23148148148148148,\n",
       "               0.25925925925925924,\n",
       "               0.2222222222222222,\n",
       "               0.25,\n",
       "               0.2222222222222222,\n",
       "               0.23148148148148148,\n",
       "               0.19444444444444445,\n",
       "               0.21296296296296297,\n",
       "               0.2222222222222222,\n",
       "               0.2777777777777778,\n",
       "               0.25,\n",
       "               0.2037037037037037,\n",
       "               0.24074074074074073,\n",
       "               0.25925925925925924,\n",
       "               0.25,\n",
       "               0.23148148148148148,\n",
       "               0.23148148148148148,\n",
       "               0.23148148148148148,\n",
       "               0.2222222222222222,\n",
       "               0.2222222222222222,\n",
       "               0.23148148148148148,\n",
       "               0.23148148148148148,\n",
       "               0.23148148148148148,\n",
       "               0.21296296296296297,\n",
       "               0.23148148148148148,\n",
       "               0.26851851851851855,\n",
       "               0.19444444444444445,\n",
       "               0.23148148148148148,\n",
       "               0.21296296296296297,\n",
       "               0.2037037037037037,\n",
       "               0.23148148148148148,\n",
       "               0.23148148148148148,\n",
       "               0.2222222222222222,\n",
       "               0.2222222222222222,\n",
       "               0.2037037037037037,\n",
       "               0.21296296296296297,\n",
       "               0.21296296296296297,\n",
       "               0.2037037037037037,\n",
       "               0.2222222222222222,\n",
       "               0.2222222222222222,\n",
       "               0.2222222222222222,\n",
       "               0.2222222222222222,\n",
       "               0.2222222222222222,\n",
       "               0.2222222222222222,\n",
       "               0.2222222222222222,\n",
       "               0.2222222222222222,\n",
       "               0.2222222222222222],\n",
       "              'f1_score': [0.0,\n",
       "               0.0,\n",
       "               0.0,\n",
       "               0.07346938775510203,\n",
       "               0.08849557522123892,\n",
       "               0.10619469026548672,\n",
       "               0.09929078014184398,\n",
       "               0.1313131313131313,\n",
       "               0.0909090909090909,\n",
       "               0.10362694300518134,\n",
       "               0.15165876777251183,\n",
       "               0.14285714285714288,\n",
       "               0.12935323383084577,\n",
       "               0.11702127659574468,\n",
       "               0.15019762845849802,\n",
       "               0.15384615384615383,\n",
       "               0.12380952380952381,\n",
       "               0.14018691588785046,\n",
       "               0.14563106796116507,\n",
       "               0.15319148936170213,\n",
       "               0.13333333333333333,\n",
       "               0.16822429906542055,\n",
       "               0.15533980582524273,\n",
       "               0.15139442231075698,\n",
       "               0.15,\n",
       "               0.16964285714285715,\n",
       "               0.15833333333333335,\n",
       "               0.1702127659574468,\n",
       "               0.16101694915254236,\n",
       "               0.16170212765957448,\n",
       "               0.22134387351778656,\n",
       "               0.16129032258064516,\n",
       "               0.1639344262295082,\n",
       "               0.15789473684210525,\n",
       "               0.18518518518518517,\n",
       "               0.1847389558232932,\n",
       "               0.20224719101123595,\n",
       "               0.17454545454545453,\n",
       "               0.16460905349794236,\n",
       "               0.1935483870967742,\n",
       "               0.1694915254237288,\n",
       "               0.15789473684210523,\n",
       "               0.17985611510791366,\n",
       "               0.1702127659574468,\n",
       "               0.19166666666666668,\n",
       "               0.1660079051383399,\n",
       "               0.176,\n",
       "               0.16799999999999998,\n",
       "               0.19636363636363635,\n",
       "               0.1984732824427481,\n",
       "               0.20074349442379183,\n",
       "               0.20143884892086328,\n",
       "               0.2013888888888889,\n",
       "               0.19531250000000003,\n",
       "               0.21621621621621623,\n",
       "               0.17582417582417584,\n",
       "               0.2076923076923077,\n",
       "               0.18461538461538463,\n",
       "               0.1976284584980237,\n",
       "               0.19626168224299065,\n",
       "               0.17557251908396945,\n",
       "               0.16901408450704225,\n",
       "               0.21276595744680854,\n",
       "               0.20074349442379183,\n",
       "               0.19130434782608696,\n",
       "               0.20634920634920634,\n",
       "               0.2222222222222222,\n",
       "               0.21176470588235297,\n",
       "               0.19531250000000003,\n",
       "               0.19305019305019305,\n",
       "               0.2100840336134454,\n",
       "               0.20253164556962022,\n",
       "               0.20689655172413793,\n",
       "               0.19920318725099603,\n",
       "               0.20833333333333334,\n",
       "               0.20242914979757085,\n",
       "               0.18548387096774194,\n",
       "               0.20491803278688525,\n",
       "               0.2222222222222222,\n",
       "               0.17427385892116182,\n",
       "               0.19999999999999998,\n",
       "               0.1847389558232932,\n",
       "               0.17959183673469387,\n",
       "               0.19999999999999998,\n",
       "               0.2040816326530612,\n",
       "               0.19999999999999998,\n",
       "               0.1889763779527559,\n",
       "               0.171875,\n",
       "               0.1811023622047244,\n",
       "               0.1847389558232932,\n",
       "               0.18181818181818182,\n",
       "               0.1935483870967742,\n",
       "               0.1951219512195122,\n",
       "               0.19199999999999998,\n",
       "               0.194331983805668,\n",
       "               0.200836820083682,\n",
       "               0.1983471074380165,\n",
       "               0.1959183673469388,\n",
       "               0.1951219512195122,\n",
       "               0.1951219512195122]}))"
      ]
     },
     "execution_count": 2,
     "metadata": {},
     "output_type": "execute_result"
    }
   ],
   "source": [
    "\"\"\"\n",
    "The data must be input as a path to a file in the CoNLL format to use lazy loading\n",
    "\n",
    "\"\"\"\n",
    "\n",
    "import torch\n",
    "from simpletransformers.ner import NERModel, NERArgs\n",
    "\n",
    "train_data = \"../../dataset/CoNLL2002-dataset/train_CONLL_BERT.txt\"\n",
    "test_data = \"../../dataset/CoNLL2002-dataset/test_CONLL_BERT.txt\"\n",
    "_NER_TAGS = [\"O\", \"B_D\", \"B_E\", \"I_D\", \"I_E\"]\n",
    "\n",
    "# Configure the model\n",
    "ner_args = NERArgs()\n",
    "ner_args.evaluate_during_training = True\n",
    "ner_args.overwrite_output_dir = True\n",
    "ner_args.train_batch_size = 32\n",
    "ner_args.max_seq_length = 256\n",
    "ner_args.num_train_epochs = 100 #10\n",
    "ner_args.lazy_loading = True\n",
    "ner_args.save_model_every_epoch = False\n",
    "\n",
    "model = NERModel(\n",
    "    \"bert\", \"monsoon-nlp/bert-base-thai\", args=ner_args, use_cuda=torch.cuda.is_available(), labels=_NER_TAGS\n",
    ")\n",
    "\n",
    "# Train the modelk\n",
    "model.train_model(train_data,eval_data=test_data)"
   ]
  },
  {
   "cell_type": "code",
   "execution_count": null,
   "metadata": {},
   "outputs": [],
   "source": []
  }
 ],
 "metadata": {
  "interpreter": {
   "hash": "a6dc3a5d5e5e7987cc7d18355d6f408e2f42f41b0aca7d07c9009e9d98d8dd16"
  },
  "kernelspec": {
   "display_name": "Python 3 (ipykernel)",
   "language": "python",
   "name": "python3"
  },
  "language_info": {
   "codemirror_mode": {
    "name": "ipython",
    "version": 3
   },
   "file_extension": ".py",
   "mimetype": "text/x-python",
   "name": "python",
   "nbconvert_exporter": "python",
   "pygments_lexer": "ipython3",
   "version": "3.7.13"
  }
 },
 "nbformat": 4,
 "nbformat_minor": 2
}
