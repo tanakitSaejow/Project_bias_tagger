{
 "cells": [
  {
   "cell_type": "code",
   "execution_count": 13,
   "metadata": {},
   "outputs": [],
   "source": [
    "import torch\n",
    "from simpletransformers.ner import NERModel, NERArgs\n",
    "\n",
    "_NER_TAGS = [\"O\", \"B_D\", \"B_E\", \"I_D\", \"I_E\"]\n",
    "ner_args = NERArgs()\n",
    "ner_args.max_seq_length = 256\n",
    "\n",
    "test_ner = NERModel(\"bert\", 'outputs/best_model', args=ner_args, use_cuda=torch.cuda.is_available(), labels=_NER_TAGS)"
   ]
  },
  {
   "cell_type": "code",
   "execution_count": 14,
   "metadata": {},
   "outputs": [],
   "source": [
    "def tag_html_format(pred_list):\n",
    "    LIST_TAGS = ['delete', 'edit', 'o']\n",
    "    REPRESEN_TAGS = ['d', 'e', 'O']\n",
    "    text_convert = ''\n",
    "    prev_tag = ''\n",
    "    trigger_tag = False \n",
    "\n",
    "\n",
    "    for word, label in pred_list:\n",
    "        tags = label.split('-')\n",
    "        next_tag = tags[0] if len(tags) == 1 else tags[1]\n",
    "        \n",
    "        if prev_tag != next_tag:\n",
    "            if prev_tag:\n",
    "                text_convert += '</' + html_tag + '>'\n",
    "\n",
    "            html_tag = LIST_TAGS[REPRESEN_TAGS.index(next_tag)]\n",
    "            prev_tag = next_tag\n",
    "            trigger_tag = not(trigger_tag)\n",
    "\n",
    "            if trigger_tag:\n",
    "                text_convert += '<' + html_tag + '>'\n",
    "            else:\n",
    "                text_convert += '<' + html_tag + '>'\n",
    "\n",
    "        text_convert += word\n",
    "    text_convert += '</'+ LIST_TAGS[REPRESEN_TAGS.index(prev_tag)]+'>'\n",
    "    text_convert = text_convert.replace('<o>', '').replace('</o>', '')\n",
    "            \n",
    "    return text_convert"
   ]
  },
  {
   "cell_type": "code",
   "execution_count": 15,
   "metadata": {},
   "outputs": [],
   "source": [
    "def predict_text(text):\n",
    "    predict_text = []\n",
    "    temp = []\n",
    "    text_token = word_tokenize(text)\n",
    "    text_token = [word if word.strip() != '' else '_' for word in text_token]\n",
    "    predictions, raw_outputs = test_ner.predict([text_token], split_on_space=False)\n",
    "    # convert [{}] to [()] and convert B_D to B-d\n",
    "    for pred_dict in predictions[0]:\n",
    "        for word, label in pred_dict.items():\n",
    "             label = label.capitalize().replace('_', '-')\n",
    "             predict_text.append((word, label))\n",
    "    predict_text = [(word, label) if word != '_' else (' ', label) for word, label in predict_text]\n",
    "    return predict_text, tag_html_format(predict_text)"
   ]
  },
  {
   "cell_type": "code",
   "execution_count": 18,
   "metadata": {},
   "outputs": [
    {
     "data": {
      "application/vnd.jupyter.widget-view+json": {
       "model_id": "1f653ff1ddb546f8a8af26c463b85672",
       "version_major": 2,
       "version_minor": 0
      },
      "text/plain": [
       "  0%|          | 0/1 [00:00<?, ?it/s]"
      ]
     },
     "metadata": {},
     "output_type": "display_data"
    },
    {
     "data": {
      "application/vnd.jupyter.widget-view+json": {
       "model_id": "eecf7586bf694d729549c54b3c4d0279",
       "version_major": 2,
       "version_minor": 0
      },
      "text/plain": [
       "Running Prediction:   0%|          | 0/1 [00:00<?, ?it/s]"
      ]
     },
     "metadata": {},
     "output_type": "display_data"
    },
    {
     "name": "stdout",
     "output_type": "stream",
     "text": [
      "[('ใน', 'O'), ('ช่วง', 'O'), ('ต้นเดือน', 'O'), ('พฤศจิกายน', 'O'), (' ', 'O'), ('2014', 'O'), (' ', 'O'), ('\"', 'O'), ('รายการ', 'O'), ('ราคา', 'O'), ('\"', 'O'), (' ', 'O'), ('ที่', 'O'), ('น่ากลัว', 'O'), ('สำหรับ', 'O'), ('สตรี', 'O'), ('ยา', 'O'), ('ซิ', 'O'), ('ดี', 'O'), ('และ', 'O'), ('คริสเตียน', 'O'), ('ปรากฏ', 'O'), ('ขึ้น', 'O'), ('ทาง', 'O'), ('ออนไลน์', 'O')]\n",
      "----\n",
      "ในช่วงต้นเดือนพฤศจิกายน 2014 \"รายการราคา\" ที่น่ากลัวสำหรับสตรียาซิดีและคริสเตียนปรากฏขึ้นทางออนไลน์\n"
     ]
    }
   ],
   "source": [
    "from pythainlp.tokenize import word_tokenize\n",
    "\n",
    "text = 'ในช่วงต้นเดือนพฤศจิกายน 2014 \"รายการราคา\" ที่น่ากลัวสำหรับสตรียาซิดีและคริสเตียนปรากฏขึ้นทางออนไลน์'\n",
    "\n",
    "pred_text, pred_tag = predict_text(text)\n",
    "print(pred_text)\n",
    "print(\"----\")\n",
    "print(pred_tag)"
   ]
  },
  {
   "cell_type": "code",
   "execution_count": 17,
   "metadata": {},
   "outputs": [
    {
     "name": "stdout",
     "output_type": "stream",
     "text": [
      "['ทาง', 'ตะวันออก', 'ของ', 'แร็งส์', ' ', 'กองทัพ', 'ที่สี่', 'ของ', 'ฝรั่งเศส', 'ได้', 'เตรียม', 'การป้องกัน', 'อย่าง', 'เชี่ยวชาญ', 'ใน', 'เชิง', 'ลึก', 'เพื่อ', 'ตอบโต้', 'การ', 'ทิ้ง', 'ระเบิด', 'ที่', 'รุนแรง', 'และ', 'การ', 'แทรกซึม', 'ของ', 'ทหารราบ']\n"
     ]
    }
   ],
   "source": [
    "text = \"ทางตะวันออกของแร็งส์ กองทัพที่สี่ของฝรั่งเศสได้เตรียมการป้องกันอย่างเชี่ยวชาญในเชิงลึกเพื่อตอบโต้การทิ้งระเบิดที่รุนแรงและการแทรกซึมของทหารราบ\"\n",
    "text_token = word_tokenize(text)\n",
    "print(text_token)"
   ]
  },
  {
   "cell_type": "code",
   "execution_count": null,
   "metadata": {},
   "outputs": [],
   "source": [
    "การชุมนุมของแนวร่วมประชาธิปไตยต่อต้านเผด็จการแห่งชาติ พ.ศ. 2553 เริ่มตั้งแต่วันที่ 12 มีนาคม พ.ศ. 2553 มีเป้าหมายเรียกร้องให้อภิสิทธิ์ เวชชาชีวะ นายกรัฐมนตรีไทย ประกาศการยุบสภาผู้แทนราษฎร และจัดการเลือกตั้งใหม่ ต่อมา มีการสร้างสถานการณ์โดยกลุ่มผู้ชุมนุม จนทำให้มีผู้เสียชีวิต 91 ศพ"
   ]
  }
 ],
 "metadata": {
  "interpreter": {
   "hash": "a6dc3a5d5e5e7987cc7d18355d6f408e2f42f41b0aca7d07c9009e9d98d8dd16"
  },
  "kernelspec": {
   "display_name": "Python 3 (ipykernel)",
   "language": "python",
   "name": "python3"
  },
  "language_info": {
   "codemirror_mode": {
    "name": "ipython",
    "version": 3
   },
   "file_extension": ".py",
   "mimetype": "text/x-python",
   "name": "python",
   "nbconvert_exporter": "python",
   "pygments_lexer": "ipython3",
   "version": "3.7.13"
  }
 },
 "nbformat": 4,
 "nbformat_minor": 2
}
