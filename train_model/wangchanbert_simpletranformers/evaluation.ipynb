{
 "cells": [
  {
   "cell_type": "code",
   "execution_count": 1,
   "metadata": {},
   "outputs": [],
   "source": [
    "import dill\n",
    "import pandas as pd\n",
    "from sklearn.model_selection import train_test_split"
   ]
  },
  {
   "cell_type": "code",
   "execution_count": 2,
   "metadata": {},
   "outputs": [
    {
     "name": "stdout",
     "output_type": "stream",
     "text": [
      "3999\n",
      "1000\n"
     ]
    }
   ],
   "source": [
    "path_name = \"../../dataset/data/\"\n",
    "\n",
    "# อ่านข้อมูลจากไฟล์\n",
    "with open(path_name + 'biased-pos.data', 'rb') as file:\n",
    "    datatofile = dill.load(file)\n",
    "\n",
    "# แบ่งข้อมูลเป็น train และ test\n",
    "tagged_sents = []\n",
    "for data in datatofile:\n",
    "    text_inside = []\n",
    "    for word, pos, label in data:\n",
    "        if word.strip() == '': # ถ้า word เป็นช่องว่าง ให้แทนที่ด้วย _\n",
    "            text_inside.append(('_', label))\n",
    "        else:\n",
    "            text_inside.append((word, label))\n",
    "    tagged_sents.append(text_inside)\n",
    "\n",
    "train_sents, test_sents = train_test_split(tagged_sents, test_size=0.2, random_state=42)\n",
    "print(len(train_sents))\n",
    "print(len(test_sents))"
   ]
  },
  {
   "cell_type": "code",
   "execution_count": 3,
   "metadata": {},
   "outputs": [],
   "source": [
    "# ทำให้ข้อมูลอยู่ในรูปที่สามารถใช้กับ Simple transformers ได้\n",
    "# format : [\"sentence_id\", \"words\", \"labels\"]\n",
    "def convert_to_simple_transformer_format(sentences):\n",
    "    sentence_id = []\n",
    "    words = []\n",
    "    labels = []\n",
    "\n",
    "    for idx, sents in enumerate(sentences):\n",
    "        for word, label in sents:\n",
    "            label = label.upper().replace(\"-\", \"_\")\n",
    "            sentence_id.append(idx)\n",
    "            words.append(word)\n",
    "            labels.append(label)\n",
    "    return pd.DataFrame(\n",
    "        {\"sentence_id\": sentence_id, \"words\": words, \"labels\": labels}\n",
    "    )    "
   ]
  },
  {
   "cell_type": "code",
   "execution_count": 4,
   "metadata": {},
   "outputs": [
    {
     "data": {
      "text/html": [
       "<div>\n",
       "<style scoped>\n",
       "    .dataframe tbody tr th:only-of-type {\n",
       "        vertical-align: middle;\n",
       "    }\n",
       "\n",
       "    .dataframe tbody tr th {\n",
       "        vertical-align: top;\n",
       "    }\n",
       "\n",
       "    .dataframe thead th {\n",
       "        text-align: right;\n",
       "    }\n",
       "</style>\n",
       "<table border=\"1\" class=\"dataframe\">\n",
       "  <thead>\n",
       "    <tr style=\"text-align: right;\">\n",
       "      <th></th>\n",
       "      <th>sentence_id</th>\n",
       "      <th>words</th>\n",
       "      <th>labels</th>\n",
       "    </tr>\n",
       "  </thead>\n",
       "  <tbody>\n",
       "    <tr>\n",
       "      <th>0</th>\n",
       "      <td>0</td>\n",
       "      <td>Michael</td>\n",
       "      <td>O</td>\n",
       "    </tr>\n",
       "    <tr>\n",
       "      <th>1</th>\n",
       "      <td>0</td>\n",
       "      <td>_</td>\n",
       "      <td>O</td>\n",
       "    </tr>\n",
       "    <tr>\n",
       "      <th>2</th>\n",
       "      <td>0</td>\n",
       "      <td>McDowell</td>\n",
       "      <td>O</td>\n",
       "    </tr>\n",
       "    <tr>\n",
       "      <th>3</th>\n",
       "      <td>0</td>\n",
       "      <td>_</td>\n",
       "      <td>O</td>\n",
       "    </tr>\n",
       "    <tr>\n",
       "      <th>4</th>\n",
       "      <td>0</td>\n",
       "      <td>เกิด</td>\n",
       "      <td>O</td>\n",
       "    </tr>\n",
       "    <tr>\n",
       "      <th>...</th>\n",
       "      <td>...</td>\n",
       "      <td>...</td>\n",
       "      <td>...</td>\n",
       "    </tr>\n",
       "    <tr>\n",
       "      <th>133451</th>\n",
       "      <td>3998</td>\n",
       "      <td>และ</td>\n",
       "      <td>O</td>\n",
       "    </tr>\n",
       "    <tr>\n",
       "      <th>133452</th>\n",
       "      <td>3998</td>\n",
       "      <td>ทำให้</td>\n",
       "      <td>O</td>\n",
       "    </tr>\n",
       "    <tr>\n",
       "      <th>133453</th>\n",
       "      <td>3998</td>\n",
       "      <td>ไดรฟ์</td>\n",
       "      <td>O</td>\n",
       "    </tr>\n",
       "    <tr>\n",
       "      <th>133454</th>\n",
       "      <td>3998</td>\n",
       "      <td>มีชีวิต</td>\n",
       "      <td>O</td>\n",
       "    </tr>\n",
       "    <tr>\n",
       "      <th>133455</th>\n",
       "      <td>3998</td>\n",
       "      <td>อยู่</td>\n",
       "      <td>O</td>\n",
       "    </tr>\n",
       "  </tbody>\n",
       "</table>\n",
       "<p>133456 rows × 3 columns</p>\n",
       "</div>"
      ],
      "text/plain": [
       "        sentence_id     words labels\n",
       "0                 0   Michael      O\n",
       "1                 0         _      O\n",
       "2                 0  McDowell      O\n",
       "3                 0         _      O\n",
       "4                 0      เกิด      O\n",
       "...             ...       ...    ...\n",
       "133451         3998       และ      O\n",
       "133452         3998     ทำให้      O\n",
       "133453         3998     ไดรฟ์      O\n",
       "133454         3998   มีชีวิต      O\n",
       "133455         3998      อยู่      O\n",
       "\n",
       "[133456 rows x 3 columns]"
      ]
     },
     "execution_count": 4,
     "metadata": {},
     "output_type": "execute_result"
    }
   ],
   "source": [
    "train_ = convert_to_simple_transformer_format(train_sents)\n",
    "test_ = convert_to_simple_transformer_format(test_sents)\n",
    "train_"
   ]
  },
  {
   "cell_type": "code",
   "execution_count": 5,
   "metadata": {},
   "outputs": [
    {
     "name": "stderr",
     "output_type": "stream",
     "text": [
      "C:\\Users\\kitti\\.conda\\envs\\bias_py37\\lib\\site-packages\\simpletransformers\\ner\\ner_model.py:379: UserWarning: use_multiprocessing automatically disabled as CamemBERT fails when using multiprocessing for feature conversion.\n",
      "  \"use_multiprocessing automatically disabled as CamemBERT\"\n"
     ]
    }
   ],
   "source": [
    "import torch\n",
    "from simpletransformers.ner import NERModel, NERArgs\n",
    "\n",
    "# Configure the model for evaluation\n",
    "_NER_TAGS = [\"O\", \"B_D\", \"B_E\", \"I_D\", \"I_E\"]\n",
    "ner_args = NERArgs()\n",
    "# ner_args.max_seq_length = 256\n",
    "test_ner = NERModel(\"camembert\", \"kittisak612/bias-tagger\", args=ner_args, use_cuda=torch.cuda.is_available(), labels=_NER_TAGS)"
   ]
  },
  {
   "cell_type": "code",
   "execution_count": 6,
   "metadata": {},
   "outputs": [
    {
     "data": {
      "application/vnd.jupyter.widget-view+json": {
       "model_id": "ae92693ebadd43548431ce36ebeb4d52",
       "version_major": 2,
       "version_minor": 0
      },
      "text/plain": [
       "  0%|          | 0/1 [00:00<?, ?it/s]"
      ]
     },
     "metadata": {},
     "output_type": "display_data"
    },
    {
     "data": {
      "application/vnd.jupyter.widget-view+json": {
       "model_id": "8fd49a7681424971adb2ddd9f8d022ac",
       "version_major": 2,
       "version_minor": 0
      },
      "text/plain": [
       "Running Prediction:   0%|          | 0/1 [00:00<?, ?it/s]"
      ]
     },
     "metadata": {},
     "output_type": "display_data"
    },
    {
     "name": "stdout",
     "output_type": "stream",
     "text": [
      "[{'ใน': 'O'}, {'วันที่': 'O'}, {'_': 'O'}, {'19': 'O'}, {'_': 'O'}, {'พฤษภาคม': 'O'}, {'_': 'O'}, {'2016': 'O'}, {'_': 'O'}, {'หนึ่ง': 'O'}, {'วันก่อน': 'O'}, {'ดร.': 'O'}, {'_': 'O'}, {'Tsai': 'O'}, {'_': 'O'}, {'Ing-Wen': 'O'}, {'_': 'O'}, {'สันนิษฐาน': 'O'}, {'ว่า': 'O'}, {'ประธานาธิบดี': 'O'}, {'ที่': 'O'}, {'ได้รับ': 'O'}, {'การเลือกตั้ง': 'O'}, {'จาก': 'O'}, {'ประชาธิปไตย': 'O'}, {'ของ': 'O'}, {'ไต้หวัน': 'O'}, {'สหรัฐอเมริกา': 'O'}, {'_': 'O'}, {'วุฒิสมาชิก': 'O'}, {'มาร': 'O'}, {'์': 'O'}, {'โก': 'O'}, {'รู': 'O'}, {'บิ': 'O'}, {'โอ': 'O'}, {'_': 'O'}, {'(': 'O'}, {'R-FL': 'O'}, {')': 'O'}, {'_': 'O'}, {'สมาชิก': 'O'}, {'ของ': 'O'}, {'คณะกรรมการ': 'O'}, {'ความสัมพันธ์': 'O'}, {'ระหว่างประเทศ': 'O'}, {'ของ': 'O'}, {'วุฒิสภา': 'O'}, {'และ': 'O'}, {'คณะกรรมการ': 'O'}, {'วุฒิสภา': 'O'}, {'เลือก': 'O'}, {'คณะ': 'O'}, {'ข่าวกรอง': 'O'}, {'และ': 'O'}, {'_': 'O'}, {'Bob': 'O'}, {'_': 'O'}, {'Menendez': 'O'}]\n"
     ]
    }
   ],
   "source": [
    "# predict word label from test\n",
    "idx = 1\n",
    "test_pred = (list(map(lambda word_lable: word_lable[0], test_sents[idx])))\n",
    "predictions, raw_outputs = test_ner.predict([test_pred], split_on_space=False)\n",
    "print(predictions[0]) "
   ]
  },
  {
   "cell_type": "code",
   "execution_count": 7,
   "metadata": {},
   "outputs": [
    {
     "data": {
      "application/vnd.jupyter.widget-view+json": {
       "model_id": "954d6784600244f7b1bad3b26767f713",
       "version_major": 2,
       "version_minor": 0
      },
      "text/plain": [
       "  0%|          | 0/1 [00:00<?, ?it/s]"
      ]
     },
     "metadata": {},
     "output_type": "display_data"
    },
    {
     "data": {
      "application/vnd.jupyter.widget-view+json": {
       "model_id": "93762a2ffc344a22a9b3a6557109db9a",
       "version_major": 2,
       "version_minor": 0
      },
      "text/plain": [
       "Running Prediction:   0%|          | 0/1 [00:00<?, ?it/s]"
      ]
     },
     "metadata": {},
     "output_type": "display_data"
    },
    {
     "name": "stdout",
     "output_type": "stream",
     "text": [
      "[{'ที่นั่น': 'O'}, {'เขา': 'O'}, {'อาศัย': 'O'}, {'อยู่': 'O'}, {'ใน': 'O'}, {'แฟลต': 'O'}, {'ห้อง': 'O'}, {'เดี่ยว': 'O'}, {'ที่': 'O'}, {'ตลาด': 'O'}, {' ': 'O'}, {'anarkali': 'O'}, {'ที่': 'B_D'}, {'มีชื่อเสียง': 'I_D'}, {'ลา': 'O'}, {'ฮอร์': 'O'}]\n"
     ]
    }
   ],
   "source": [
    "# predict word label from text input\n",
    "from pythainlp.tokenize import word_tokenize\n",
    "\n",
    "text = \"ที่นั่นเขาอาศัยอยู่ในแฟลตห้องเดี่ยวที่ตลาด anarkaliที่มีชื่อเสียงลาฮอร์\"\n",
    "text_token = word_tokenize(text)\n",
    "predictions, raw_outputs = test_ner.predict([text_token], split_on_space=False)\n",
    "print(predictions[0]) "
   ]
  },
  {
   "cell_type": "code",
   "execution_count": 8,
   "metadata": {},
   "outputs": [
    {
     "name": "stdout",
     "output_type": "stream",
     "text": [
      "['O', 'O', 'O', 'O', 'O', 'O', 'O', 'O', 'O', 'O', 'O', 'O', 'O', 'O', 'O', 'O', 'O', 'O', 'O', 'O', 'O', 'O', 'O', 'O', 'O', 'O', 'O', 'B_D', 'O', 'O', 'O', 'O']\n",
      "['Jerry', '_', 'Douglas', '_', '(', 'เกิด', 'ที่', '_', 'Warren', ',', '_', 'Ohio', '_', 'เมื่อ', 'วันที่', '_', '28', '_', 'พฤษภาคม', '_', '1956', ')', '_', 'เป็น', 'ผู้', 'เล่น', '_', 'Virtuoso', 'Dobro', '_', 'ชาว', 'อเมริกัน']\n"
     ]
    }
   ],
   "source": [
    "# get label test list\n",
    "y_test = []\n",
    "y_test_words = []\n",
    "for sent in test_sents:\n",
    "    labels = []\n",
    "    words = []\n",
    "    for word, label in sent:\n",
    "        label = label.upper().replace(\"-\", \"_\")\n",
    "        labels.append(label)\n",
    "        words.append(word)\n",
    "    y_test.append(labels)\n",
    "    y_test_words.append(words)\n",
    "    \n",
    "print(y_test[4])\n",
    "print(y_test_words[4])"
   ]
  },
  {
   "cell_type": "code",
   "execution_count": 9,
   "metadata": {},
   "outputs": [
    {
     "data": {
      "application/vnd.jupyter.widget-view+json": {
       "model_id": "e1357de38623460cbb2213f436519ff3",
       "version_major": 2,
       "version_minor": 0
      },
      "text/plain": [
       "  0%|          | 0/1000 [00:00<?, ?it/s]"
      ]
     },
     "metadata": {},
     "output_type": "display_data"
    },
    {
     "data": {
      "application/vnd.jupyter.widget-view+json": {
       "model_id": "44ff261f1ade4c1e9251f28625d7558e",
       "version_major": 2,
       "version_minor": 0
      },
      "text/plain": [
       "Running Prediction:   0%|          | 0/125 [00:00<?, ?it/s]"
      ]
     },
     "metadata": {},
     "output_type": "display_data"
    },
    {
     "name": "stdout",
     "output_type": "stream",
     "text": [
      "['O', 'O', 'O', 'O', 'O', 'O', 'O', 'O', 'O', 'O', 'O', 'O', 'O', 'O', 'O', 'O', 'O', 'O', 'O', 'O', 'O', 'O', 'O', 'O', 'O', 'O', 'O', 'B_D', 'O', 'O', 'O', 'O']\n",
      "['Jerry', '_', 'Douglas', '_', '(', 'เกิด', 'ที่', '_', 'Warren', ',', '_', 'Ohio', '_', 'เมื่อ', 'วันที่', '_', '28', '_', 'พฤษภาคม', '_', '1956', ')', '_', 'เป็น', 'ผู้', 'เล่น', '_', 'Virtuoso', 'Dobro', '_', 'ชาว', 'อเมริกัน']\n",
      "['O', 'O', 'O', 'O', 'O', 'O', 'O', 'O', 'O', 'O', 'O', 'O', 'O', 'O', 'O', 'O', 'O', 'O', 'O', 'O', 'O', 'O', 'O', 'O', 'O', 'O', 'O', 'O', 'O', 'O', 'O', 'O']\n"
     ]
    }
   ],
   "source": [
    "# get label pred list\n",
    "test_list = []\n",
    "for sent in test_sents:\n",
    "    words = []\n",
    "    for word, label in sent:\n",
    "        words.append(word)\n",
    "    test_list.append(words)\n",
    "\n",
    "predictions, raw_outputs = test_ner.predict(test_list, split_on_space=False)\n",
    "\n",
    "y_pred = []\n",
    "for preds in predictions:\n",
    "    y_pred.append([list(pred.items())[0][1] for pred in preds])\n",
    "\n",
    "print(y_test[4])\n",
    "print(y_test_words[4])\n",
    "print(y_pred[4])"
   ]
  },
  {
   "cell_type": "code",
   "execution_count": 11,
   "metadata": {},
   "outputs": [
    {
     "name": "stdout",
     "output_type": "stream",
     "text": [
      "['O', 'O', 'B_D', 'O', 'O', 'O', 'O', 'O', 'O', 'O', 'O', 'O', 'O']\n"
     ]
    }
   ],
   "source": [
    "# get label to list\n",
    "y_pred_ = []\n",
    "y_test_ = []\n",
    "for i in range(len(y_test)):\n",
    "    if len(y_pred[i]) != len(y_test[i]):\n",
    "        continue;\n",
    "    y_pred_.append(y_pred[i])\n",
    "    y_test_.append(y_test[i])\n",
    "print(y_test_[1])"
   ]
  },
  {
   "cell_type": "code",
   "execution_count": 12,
   "metadata": {},
   "outputs": [
    {
     "name": "stdout",
     "output_type": "stream",
     "text": [
      "['O', 'O', 'B-d', 'O', 'O', 'O', 'O', 'O', 'O', 'O', 'O', 'O', 'O']\n"
     ]
    }
   ],
   "source": [
    "# convert label format \n",
    "#from B_D to B-d\n",
    "def convert_format_lable(list_lable):\n",
    "    result = []\n",
    "    for list_ in list_lable:\n",
    "        result.append(list(map(lambda lable: lable.lower().capitalize().replace(\"_\", \"-\"), list_)))\n",
    "    return result\n",
    "\n",
    "y_test_ = convert_format_lable(y_test_)\n",
    "y_pred_ = convert_format_lable(y_pred_)\n",
    "print(y_test_[1])"
   ]
  },
  {
   "cell_type": "code",
   "execution_count": 57,
   "metadata": {},
   "outputs": [
    {
     "name": "stdout",
     "output_type": "stream",
     "text": [
      "accuracy 0.8937643500127556\n",
      "              precision    recall  f1-score   support\n",
      "\n",
      "         B-d       0.36      0.34      0.35       488\n",
      "         B-e       0.20      0.01      0.02       968\n",
      "         I-d       0.32      0.41      0.36       394\n",
      "         I-e       0.00      0.00      0.00       997\n",
      "\n",
      "   micro avg       0.33      0.12      0.17      2847\n",
      "   macro avg       0.22      0.19      0.18      2847\n",
      "weighted avg       0.18      0.12      0.12      2847\n",
      " samples avg       0.01      0.01      0.01      2847\n",
      "\n"
     ]
    }
   ],
   "source": [
    "# การประเมินในระดับคำ\n",
    "from sklearn.metrics import classification_report, confusion_matrix\n",
    "from sklearn.metrics import accuracy_score\n",
    "from sklearn.preprocessing import LabelBinarizer\n",
    "from itertools import chain\n",
    "\n",
    "def pos_classification_report(y_true, y_pred):\n",
    " \n",
    "    lb = LabelBinarizer()\n",
    "    y_true_combined = lb.fit_transform(list(chain.from_iterable(y_true)))\n",
    "    y_pred_combined = lb.transform(list(chain.from_iterable(y_pred)))\n",
    "    print(\"accuracy\",accuracy_score(y_true_combined, y_pred_combined))\n",
    "    tagset = list(sorted(set(lb.classes_)))\n",
    "    del tagset[len(tagset)-1] # del O\n",
    "    class_indices = {cls: idx for idx, cls in enumerate(lb.classes_)}\n",
    "    return classification_report(\n",
    "        y_true_combined,\n",
    "        y_pred_combined,\n",
    "        labels = [class_indices[cls] for cls in tagset if cls!=\"O\"],\n",
    "        target_names = tagset,\n",
    "        zero_division=0\n",
    "    )\n",
    "print(pos_classification_report(y_test_,y_pred_))"
   ]
  },
  {
   "cell_type": "code",
   "execution_count": 58,
   "metadata": {},
   "outputs": [
    {
     "name": "stdout",
     "output_type": "stream",
     "text": [
      "accuracy: 0.8937643500127556\n",
      "              precision    recall  f1-score   support\n",
      "\n",
      "           d       0.26      0.28      0.27       489\n",
      "           e       0.10      0.01      0.01       969\n",
      "\n",
      "   micro avg       0.25      0.10      0.14      1458\n",
      "   macro avg       0.18      0.14      0.14      1458\n",
      "weighted avg       0.15      0.10      0.10      1458\n",
      "\n"
     ]
    }
   ],
   "source": [
    "# การประเมินในระดับประโยค\n",
    "from seqeval.metrics import accuracy_score\n",
    "from seqeval.metrics import classification_report\n",
    "\n",
    "print(\"accuracy:\" ,accuracy_score(y_test_, y_pred_))\n",
    "print(classification_report(y_test_, y_pred_))"
   ]
  },
  {
   "cell_type": "code",
   "execution_count": null,
   "metadata": {},
   "outputs": [],
   "source": []
  }
 ],
 "metadata": {
  "interpreter": {
   "hash": "018e0a3ac4678c6eee4f5b6012f6866bd583f46fe819b31cdc8524b9233bdcf3"
  },
  "kernelspec": {
   "display_name": "Python 3 (ipykernel)",
   "language": "python",
   "name": "python3"
  },
  "language_info": {
   "codemirror_mode": {
    "name": "ipython",
    "version": 3
   },
   "file_extension": ".py",
   "mimetype": "text/x-python",
   "name": "python",
   "nbconvert_exporter": "python",
   "pygments_lexer": "ipython3",
   "version": "3.7.13"
  }
 },
 "nbformat": 4,
 "nbformat_minor": 2
}
