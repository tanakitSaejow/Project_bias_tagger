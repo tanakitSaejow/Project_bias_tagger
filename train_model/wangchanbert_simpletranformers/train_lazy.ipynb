{
 "cells": [
  {
   "cell_type": "markdown",
   "metadata": {},
   "source": [
    "# Train Lazy "
   ]
  },
  {
   "cell_type": "code",
   "execution_count": 1,
   "metadata": {},
   "outputs": [
    {
     "name": "stderr",
     "output_type": "stream",
     "text": [
      "C:\\Users\\kitti\\.conda\\envs\\bias_py37\\lib\\site-packages\\simpletransformers\\ner\\ner_model.py:379: UserWarning: use_multiprocessing automatically disabled as CamemBERT fails when using multiprocessing for feature conversion.\n",
      "  \"use_multiprocessing automatically disabled as CamemBERT\"\n",
      "C:\\Users\\kitti\\.conda\\envs\\bias_py37\\lib\\site-packages\\transformers\\optimization.py:309: FutureWarning: This implementation of AdamW is deprecated and will be removed in a future version. Use the PyTorch implementation torch.optim.AdamW instead, or set `no_deprecation_warning=True` to disable this warning\n",
      "  FutureWarning,\n"
     ]
    },
    {
     "data": {
      "application/vnd.jupyter.widget-view+json": {
       "model_id": "fd48a81f57c446579601df9c98aae15b",
       "version_major": 2,
       "version_minor": 0
      },
      "text/plain": [
       "Epoch:   0%|          | 0/50 [00:00<?, ?it/s]"
      ]
     },
     "metadata": {},
     "output_type": "display_data"
    },
    {
     "data": {
      "application/vnd.jupyter.widget-view+json": {
       "model_id": "bfb2f6e8c92f45caa647ac09cfb3fd90",
       "version_major": 2,
       "version_minor": 0
      },
      "text/plain": [
       "Running Epoch 0 of 50:   0%|          | 0/250 [00:00<?, ?it/s]"
      ]
     },
     "metadata": {},
     "output_type": "display_data"
    },
    {
     "data": {
      "application/vnd.jupyter.widget-view+json": {
       "model_id": "d7265a85e36642eaa05a299ef1f2be03",
       "version_major": 2,
       "version_minor": 0
      },
      "text/plain": [
       "Running Evaluation:   0%|          | 0/125 [00:00<?, ?it/s]"
      ]
     },
     "metadata": {},
     "output_type": "display_data"
    },
    {
     "name": "stderr",
     "output_type": "stream",
     "text": [
      "C:\\Users\\kitti\\.conda\\envs\\bias_py37\\lib\\site-packages\\seqeval\\metrics\\sequence_labeling.py:171: UserWarning: B_E seems not to be NE tag.\n",
      "  warnings.warn('{} seems not to be NE tag.'.format(chunk))\n",
      "C:\\Users\\kitti\\.conda\\envs\\bias_py37\\lib\\site-packages\\seqeval\\metrics\\sequence_labeling.py:171: UserWarning: I_E seems not to be NE tag.\n",
      "  warnings.warn('{} seems not to be NE tag.'.format(chunk))\n",
      "C:\\Users\\kitti\\.conda\\envs\\bias_py37\\lib\\site-packages\\seqeval\\metrics\\sequence_labeling.py:171: UserWarning: B_D seems not to be NE tag.\n",
      "  warnings.warn('{} seems not to be NE tag.'.format(chunk))\n",
      "C:\\Users\\kitti\\.conda\\envs\\bias_py37\\lib\\site-packages\\seqeval\\metrics\\sequence_labeling.py:171: UserWarning: I_D seems not to be NE tag.\n",
      "  warnings.warn('{} seems not to be NE tag.'.format(chunk))\n"
     ]
    },
    {
     "data": {
      "application/vnd.jupyter.widget-view+json": {
       "model_id": "2b6207252a7c48f7a3e06d6adf614908",
       "version_major": 2,
       "version_minor": 0
      },
      "text/plain": [
       "Running Epoch 1 of 50:   0%|          | 0/250 [00:00<?, ?it/s]"
      ]
     },
     "metadata": {},
     "output_type": "display_data"
    },
    {
     "data": {
      "application/vnd.jupyter.widget-view+json": {
       "model_id": "564ca52a7eec4de0b54edaa049eff7bd",
       "version_major": 2,
       "version_minor": 0
      },
      "text/plain": [
       "Running Evaluation:   0%|          | 0/125 [00:00<?, ?it/s]"
      ]
     },
     "metadata": {},
     "output_type": "display_data"
    },
    {
     "data": {
      "application/vnd.jupyter.widget-view+json": {
       "model_id": "f2e2f4c4152845cbb4037823767b97a5",
       "version_major": 2,
       "version_minor": 0
      },
      "text/plain": [
       "Running Epoch 2 of 50:   0%|          | 0/250 [00:00<?, ?it/s]"
      ]
     },
     "metadata": {},
     "output_type": "display_data"
    },
    {
     "data": {
      "application/vnd.jupyter.widget-view+json": {
       "model_id": "5a6baebc40ef4d518cfd33c4b94fa2c7",
       "version_major": 2,
       "version_minor": 0
      },
      "text/plain": [
       "Running Evaluation:   0%|          | 0/125 [00:00<?, ?it/s]"
      ]
     },
     "metadata": {},
     "output_type": "display_data"
    },
    {
     "data": {
      "application/vnd.jupyter.widget-view+json": {
       "model_id": "88a9123bdc5a435097b63483ff442ced",
       "version_major": 2,
       "version_minor": 0
      },
      "text/plain": [
       "Running Epoch 3 of 50:   0%|          | 0/250 [00:00<?, ?it/s]"
      ]
     },
     "metadata": {},
     "output_type": "display_data"
    },
    {
     "data": {
      "application/vnd.jupyter.widget-view+json": {
       "model_id": "599147dbd6e84e22bdea3462f617a71e",
       "version_major": 2,
       "version_minor": 0
      },
      "text/plain": [
       "Running Evaluation:   0%|          | 0/125 [00:00<?, ?it/s]"
      ]
     },
     "metadata": {},
     "output_type": "display_data"
    },
    {
     "data": {
      "application/vnd.jupyter.widget-view+json": {
       "model_id": "8bcf54e933894641b56ba7f0a6b18e11",
       "version_major": 2,
       "version_minor": 0
      },
      "text/plain": [
       "Running Epoch 4 of 50:   0%|          | 0/250 [00:00<?, ?it/s]"
      ]
     },
     "metadata": {},
     "output_type": "display_data"
    },
    {
     "data": {
      "application/vnd.jupyter.widget-view+json": {
       "model_id": "cf0bb9fa89f34f4b8407a819c7ecc1b0",
       "version_major": 2,
       "version_minor": 0
      },
      "text/plain": [
       "Running Evaluation:   0%|          | 0/125 [00:00<?, ?it/s]"
      ]
     },
     "metadata": {},
     "output_type": "display_data"
    },
    {
     "data": {
      "application/vnd.jupyter.widget-view+json": {
       "model_id": "d3f9791464bd4c9e8c47a34d6cf1b89e",
       "version_major": 2,
       "version_minor": 0
      },
      "text/plain": [
       "Running Epoch 5 of 50:   0%|          | 0/250 [00:00<?, ?it/s]"
      ]
     },
     "metadata": {},
     "output_type": "display_data"
    },
    {
     "data": {
      "application/vnd.jupyter.widget-view+json": {
       "model_id": "0b621acea4ea48fc8616650f08f90dfd",
       "version_major": 2,
       "version_minor": 0
      },
      "text/plain": [
       "Running Evaluation:   0%|          | 0/125 [00:00<?, ?it/s]"
      ]
     },
     "metadata": {},
     "output_type": "display_data"
    },
    {
     "data": {
      "application/vnd.jupyter.widget-view+json": {
       "model_id": "8005bbfd450f4ec3a4f17817dee908d6",
       "version_major": 2,
       "version_minor": 0
      },
      "text/plain": [
       "Running Epoch 6 of 50:   0%|          | 0/250 [00:00<?, ?it/s]"
      ]
     },
     "metadata": {},
     "output_type": "display_data"
    },
    {
     "data": {
      "application/vnd.jupyter.widget-view+json": {
       "model_id": "465c4820b559405e87031946f8f18e9d",
       "version_major": 2,
       "version_minor": 0
      },
      "text/plain": [
       "Running Evaluation:   0%|          | 0/125 [00:00<?, ?it/s]"
      ]
     },
     "metadata": {},
     "output_type": "display_data"
    },
    {
     "data": {
      "application/vnd.jupyter.widget-view+json": {
       "model_id": "c901c7e99f1b48c2bbd8e91cf79d353e",
       "version_major": 2,
       "version_minor": 0
      },
      "text/plain": [
       "Running Epoch 7 of 50:   0%|          | 0/250 [00:00<?, ?it/s]"
      ]
     },
     "metadata": {},
     "output_type": "display_data"
    },
    {
     "data": {
      "application/vnd.jupyter.widget-view+json": {
       "model_id": "9290d3c8fd084382a79d959d2066ae28",
       "version_major": 2,
       "version_minor": 0
      },
      "text/plain": [
       "Running Evaluation:   0%|          | 0/125 [00:00<?, ?it/s]"
      ]
     },
     "metadata": {},
     "output_type": "display_data"
    },
    {
     "data": {
      "application/vnd.jupyter.widget-view+json": {
       "model_id": "cb30235920364f4db692b2c730c2e10d",
       "version_major": 2,
       "version_minor": 0
      },
      "text/plain": [
       "Running Evaluation:   0%|          | 0/125 [00:00<?, ?it/s]"
      ]
     },
     "metadata": {},
     "output_type": "display_data"
    },
    {
     "data": {
      "application/vnd.jupyter.widget-view+json": {
       "model_id": "38f8d2e155d64e6f8c63bae5f34aafc9",
       "version_major": 2,
       "version_minor": 0
      },
      "text/plain": [
       "Running Epoch 8 of 50:   0%|          | 0/250 [00:00<?, ?it/s]"
      ]
     },
     "metadata": {},
     "output_type": "display_data"
    },
    {
     "data": {
      "application/vnd.jupyter.widget-view+json": {
       "model_id": "f8b7133c586e4d83bfa06ad9725d000b",
       "version_major": 2,
       "version_minor": 0
      },
      "text/plain": [
       "Running Evaluation:   0%|          | 0/125 [00:00<?, ?it/s]"
      ]
     },
     "metadata": {},
     "output_type": "display_data"
    },
    {
     "data": {
      "application/vnd.jupyter.widget-view+json": {
       "model_id": "1254dffa6e9c4a3eb74895483acab874",
       "version_major": 2,
       "version_minor": 0
      },
      "text/plain": [
       "Running Epoch 9 of 50:   0%|          | 0/250 [00:00<?, ?it/s]"
      ]
     },
     "metadata": {},
     "output_type": "display_data"
    },
    {
     "data": {
      "application/vnd.jupyter.widget-view+json": {
       "model_id": "d0552d3683f74c19b89d033170867eb8",
       "version_major": 2,
       "version_minor": 0
      },
      "text/plain": [
       "Running Evaluation:   0%|          | 0/125 [00:00<?, ?it/s]"
      ]
     },
     "metadata": {},
     "output_type": "display_data"
    },
    {
     "data": {
      "application/vnd.jupyter.widget-view+json": {
       "model_id": "882df0d626e445c2aa921255cdad18f3",
       "version_major": 2,
       "version_minor": 0
      },
      "text/plain": [
       "Running Epoch 10 of 50:   0%|          | 0/250 [00:00<?, ?it/s]"
      ]
     },
     "metadata": {},
     "output_type": "display_data"
    },
    {
     "data": {
      "application/vnd.jupyter.widget-view+json": {
       "model_id": "c351a83a6a1540d2a5afb3fc51efec85",
       "version_major": 2,
       "version_minor": 0
      },
      "text/plain": [
       "Running Evaluation:   0%|          | 0/125 [00:00<?, ?it/s]"
      ]
     },
     "metadata": {},
     "output_type": "display_data"
    },
    {
     "data": {
      "application/vnd.jupyter.widget-view+json": {
       "model_id": "13983121fae941a3934c380e4e104423",
       "version_major": 2,
       "version_minor": 0
      },
      "text/plain": [
       "Running Epoch 11 of 50:   0%|          | 0/250 [00:00<?, ?it/s]"
      ]
     },
     "metadata": {},
     "output_type": "display_data"
    },
    {
     "data": {
      "application/vnd.jupyter.widget-view+json": {
       "model_id": "02d6d7cd1b454fc2bf9857e6ecdababa",
       "version_major": 2,
       "version_minor": 0
      },
      "text/plain": [
       "Running Evaluation:   0%|          | 0/125 [00:00<?, ?it/s]"
      ]
     },
     "metadata": {},
     "output_type": "display_data"
    },
    {
     "data": {
      "application/vnd.jupyter.widget-view+json": {
       "model_id": "fcdc85b4dd3e4835858d37756144a962",
       "version_major": 2,
       "version_minor": 0
      },
      "text/plain": [
       "Running Epoch 12 of 50:   0%|          | 0/250 [00:00<?, ?it/s]"
      ]
     },
     "metadata": {},
     "output_type": "display_data"
    },
    {
     "data": {
      "application/vnd.jupyter.widget-view+json": {
       "model_id": "1b85e82d4440475ca92dab1a2a9fca26",
       "version_major": 2,
       "version_minor": 0
      },
      "text/plain": [
       "Running Evaluation:   0%|          | 0/125 [00:00<?, ?it/s]"
      ]
     },
     "metadata": {},
     "output_type": "display_data"
    },
    {
     "data": {
      "application/vnd.jupyter.widget-view+json": {
       "model_id": "0e1df06fff314ce3b310189ba902ca55",
       "version_major": 2,
       "version_minor": 0
      },
      "text/plain": [
       "Running Epoch 13 of 50:   0%|          | 0/250 [00:00<?, ?it/s]"
      ]
     },
     "metadata": {},
     "output_type": "display_data"
    },
    {
     "data": {
      "application/vnd.jupyter.widget-view+json": {
       "model_id": "c45255bcd03e4e608e155115f3cb4a8e",
       "version_major": 2,
       "version_minor": 0
      },
      "text/plain": [
       "Running Evaluation:   0%|          | 0/125 [00:00<?, ?it/s]"
      ]
     },
     "metadata": {},
     "output_type": "display_data"
    },
    {
     "data": {
      "application/vnd.jupyter.widget-view+json": {
       "model_id": "aeee4eb99ce648e6b75a5e0093425837",
       "version_major": 2,
       "version_minor": 0
      },
      "text/plain": [
       "Running Epoch 14 of 50:   0%|          | 0/250 [00:00<?, ?it/s]"
      ]
     },
     "metadata": {},
     "output_type": "display_data"
    },
    {
     "data": {
      "application/vnd.jupyter.widget-view+json": {
       "model_id": "6b39726d4f3c480ca9564d45dfb3878a",
       "version_major": 2,
       "version_minor": 0
      },
      "text/plain": [
       "Running Evaluation:   0%|          | 0/125 [00:00<?, ?it/s]"
      ]
     },
     "metadata": {},
     "output_type": "display_data"
    },
    {
     "data": {
      "application/vnd.jupyter.widget-view+json": {
       "model_id": "f75b88fd79e3437686a6c74f1e0e2b8f",
       "version_major": 2,
       "version_minor": 0
      },
      "text/plain": [
       "Running Epoch 15 of 50:   0%|          | 0/250 [00:00<?, ?it/s]"
      ]
     },
     "metadata": {},
     "output_type": "display_data"
    },
    {
     "data": {
      "application/vnd.jupyter.widget-view+json": {
       "model_id": "61e99966d9654811a033661ebb4d65e1",
       "version_major": 2,
       "version_minor": 0
      },
      "text/plain": [
       "Running Evaluation:   0%|          | 0/125 [00:00<?, ?it/s]"
      ]
     },
     "metadata": {},
     "output_type": "display_data"
    },
    {
     "data": {
      "application/vnd.jupyter.widget-view+json": {
       "model_id": "d4a2a26375924f36b4309f59e8e3c5c1",
       "version_major": 2,
       "version_minor": 0
      },
      "text/plain": [
       "Running Evaluation:   0%|          | 0/125 [00:00<?, ?it/s]"
      ]
     },
     "metadata": {},
     "output_type": "display_data"
    },
    {
     "data": {
      "application/vnd.jupyter.widget-view+json": {
       "model_id": "ee8a99c2a09340188197139eaaee6242",
       "version_major": 2,
       "version_minor": 0
      },
      "text/plain": [
       "Running Epoch 16 of 50:   0%|          | 0/250 [00:00<?, ?it/s]"
      ]
     },
     "metadata": {},
     "output_type": "display_data"
    },
    {
     "data": {
      "application/vnd.jupyter.widget-view+json": {
       "model_id": "2dfff62567424b51984a13f7a7feda99",
       "version_major": 2,
       "version_minor": 0
      },
      "text/plain": [
       "Running Evaluation:   0%|          | 0/125 [00:00<?, ?it/s]"
      ]
     },
     "metadata": {},
     "output_type": "display_data"
    },
    {
     "data": {
      "application/vnd.jupyter.widget-view+json": {
       "model_id": "b1224c4e6afa44f996445f2febfb2818",
       "version_major": 2,
       "version_minor": 0
      },
      "text/plain": [
       "Running Epoch 17 of 50:   0%|          | 0/250 [00:00<?, ?it/s]"
      ]
     },
     "metadata": {},
     "output_type": "display_data"
    },
    {
     "data": {
      "application/vnd.jupyter.widget-view+json": {
       "model_id": "c3ba337140a640fda491238a6ded2904",
       "version_major": 2,
       "version_minor": 0
      },
      "text/plain": [
       "Running Evaluation:   0%|          | 0/125 [00:00<?, ?it/s]"
      ]
     },
     "metadata": {},
     "output_type": "display_data"
    },
    {
     "data": {
      "application/vnd.jupyter.widget-view+json": {
       "model_id": "f2fa7f55c7f8490bae154754bc11ade3",
       "version_major": 2,
       "version_minor": 0
      },
      "text/plain": [
       "Running Epoch 18 of 50:   0%|          | 0/250 [00:00<?, ?it/s]"
      ]
     },
     "metadata": {},
     "output_type": "display_data"
    },
    {
     "data": {
      "application/vnd.jupyter.widget-view+json": {
       "model_id": "af1638c0cfb142898c723cb48c9cb6c6",
       "version_major": 2,
       "version_minor": 0
      },
      "text/plain": [
       "Running Evaluation:   0%|          | 0/125 [00:00<?, ?it/s]"
      ]
     },
     "metadata": {},
     "output_type": "display_data"
    },
    {
     "data": {
      "application/vnd.jupyter.widget-view+json": {
       "model_id": "dbc07315b13647c3872f68456bf4ab47",
       "version_major": 2,
       "version_minor": 0
      },
      "text/plain": [
       "Running Epoch 19 of 50:   0%|          | 0/250 [00:00<?, ?it/s]"
      ]
     },
     "metadata": {},
     "output_type": "display_data"
    },
    {
     "data": {
      "application/vnd.jupyter.widget-view+json": {
       "model_id": "fb13bcb4fd5947d8966878fe7694c9ff",
       "version_major": 2,
       "version_minor": 0
      },
      "text/plain": [
       "Running Evaluation:   0%|          | 0/125 [00:00<?, ?it/s]"
      ]
     },
     "metadata": {},
     "output_type": "display_data"
    },
    {
     "data": {
      "application/vnd.jupyter.widget-view+json": {
       "model_id": "91201b83eb3e4e209591aef2a8ea45e6",
       "version_major": 2,
       "version_minor": 0
      },
      "text/plain": [
       "Running Epoch 20 of 50:   0%|          | 0/250 [00:00<?, ?it/s]"
      ]
     },
     "metadata": {},
     "output_type": "display_data"
    },
    {
     "data": {
      "application/vnd.jupyter.widget-view+json": {
       "model_id": "db0d422ca6334117ae0f758af6a0288b",
       "version_major": 2,
       "version_minor": 0
      },
      "text/plain": [
       "Running Evaluation:   0%|          | 0/125 [00:00<?, ?it/s]"
      ]
     },
     "metadata": {},
     "output_type": "display_data"
    },
    {
     "data": {
      "application/vnd.jupyter.widget-view+json": {
       "model_id": "1ff1e3088fc34066a6fefa01026c9f28",
       "version_major": 2,
       "version_minor": 0
      },
      "text/plain": [
       "Running Epoch 21 of 50:   0%|          | 0/250 [00:00<?, ?it/s]"
      ]
     },
     "metadata": {},
     "output_type": "display_data"
    },
    {
     "data": {
      "application/vnd.jupyter.widget-view+json": {
       "model_id": "7c639a179e3844dfa14d558da7de3098",
       "version_major": 2,
       "version_minor": 0
      },
      "text/plain": [
       "Running Evaluation:   0%|          | 0/125 [00:00<?, ?it/s]"
      ]
     },
     "metadata": {},
     "output_type": "display_data"
    },
    {
     "data": {
      "application/vnd.jupyter.widget-view+json": {
       "model_id": "8731391a35c7455faf320861467e39f8",
       "version_major": 2,
       "version_minor": 0
      },
      "text/plain": [
       "Running Epoch 22 of 50:   0%|          | 0/250 [00:00<?, ?it/s]"
      ]
     },
     "metadata": {},
     "output_type": "display_data"
    },
    {
     "data": {
      "application/vnd.jupyter.widget-view+json": {
       "model_id": "ea5430dccde94cf6a59ee9395738c623",
       "version_major": 2,
       "version_minor": 0
      },
      "text/plain": [
       "Running Evaluation:   0%|          | 0/125 [00:00<?, ?it/s]"
      ]
     },
     "metadata": {},
     "output_type": "display_data"
    },
    {
     "data": {
      "application/vnd.jupyter.widget-view+json": {
       "model_id": "213cd5d4c4954f3ba8fe008331d98f17",
       "version_major": 2,
       "version_minor": 0
      },
      "text/plain": [
       "Running Epoch 23 of 50:   0%|          | 0/250 [00:00<?, ?it/s]"
      ]
     },
     "metadata": {},
     "output_type": "display_data"
    },
    {
     "data": {
      "application/vnd.jupyter.widget-view+json": {
       "model_id": "be1f168809534d8b91ee81dafdba27f0",
       "version_major": 2,
       "version_minor": 0
      },
      "text/plain": [
       "Running Evaluation:   0%|          | 0/125 [00:00<?, ?it/s]"
      ]
     },
     "metadata": {},
     "output_type": "display_data"
    },
    {
     "data": {
      "application/vnd.jupyter.widget-view+json": {
       "model_id": "4c40b2acc60b49c5ab745e10a1db066e",
       "version_major": 2,
       "version_minor": 0
      },
      "text/plain": [
       "Running Evaluation:   0%|          | 0/125 [00:00<?, ?it/s]"
      ]
     },
     "metadata": {},
     "output_type": "display_data"
    },
    {
     "data": {
      "application/vnd.jupyter.widget-view+json": {
       "model_id": "6881909a19a64f90952b197ec9be047b",
       "version_major": 2,
       "version_minor": 0
      },
      "text/plain": [
       "Running Epoch 24 of 50:   0%|          | 0/250 [00:00<?, ?it/s]"
      ]
     },
     "metadata": {},
     "output_type": "display_data"
    },
    {
     "data": {
      "application/vnd.jupyter.widget-view+json": {
       "model_id": "323d02cef39640269b60d01d3f17ad59",
       "version_major": 2,
       "version_minor": 0
      },
      "text/plain": [
       "Running Evaluation:   0%|          | 0/125 [00:00<?, ?it/s]"
      ]
     },
     "metadata": {},
     "output_type": "display_data"
    },
    {
     "data": {
      "application/vnd.jupyter.widget-view+json": {
       "model_id": "08905272626149cdab5db7612abf3e75",
       "version_major": 2,
       "version_minor": 0
      },
      "text/plain": [
       "Running Epoch 25 of 50:   0%|          | 0/250 [00:00<?, ?it/s]"
      ]
     },
     "metadata": {},
     "output_type": "display_data"
    },
    {
     "data": {
      "application/vnd.jupyter.widget-view+json": {
       "model_id": "c1841ec8b5d6415cbf6b1fbb62c2aa6d",
       "version_major": 2,
       "version_minor": 0
      },
      "text/plain": [
       "Running Evaluation:   0%|          | 0/125 [00:00<?, ?it/s]"
      ]
     },
     "metadata": {},
     "output_type": "display_data"
    },
    {
     "data": {
      "application/vnd.jupyter.widget-view+json": {
       "model_id": "b09cce9f9a7f4cb8886828b1abdf7f9f",
       "version_major": 2,
       "version_minor": 0
      },
      "text/plain": [
       "Running Epoch 26 of 50:   0%|          | 0/250 [00:00<?, ?it/s]"
      ]
     },
     "metadata": {},
     "output_type": "display_data"
    },
    {
     "data": {
      "application/vnd.jupyter.widget-view+json": {
       "model_id": "0f5a1a5ef4714c1baee8bbddbaeb03f3",
       "version_major": 2,
       "version_minor": 0
      },
      "text/plain": [
       "Running Evaluation:   0%|          | 0/125 [00:00<?, ?it/s]"
      ]
     },
     "metadata": {},
     "output_type": "display_data"
    },
    {
     "data": {
      "application/vnd.jupyter.widget-view+json": {
       "model_id": "3f4069d719d74ac0a85de13b7636dae7",
       "version_major": 2,
       "version_minor": 0
      },
      "text/plain": [
       "Running Epoch 27 of 50:   0%|          | 0/250 [00:00<?, ?it/s]"
      ]
     },
     "metadata": {},
     "output_type": "display_data"
    },
    {
     "data": {
      "application/vnd.jupyter.widget-view+json": {
       "model_id": "046e4306987a493d8a2ae10b768375a2",
       "version_major": 2,
       "version_minor": 0
      },
      "text/plain": [
       "Running Evaluation:   0%|          | 0/125 [00:00<?, ?it/s]"
      ]
     },
     "metadata": {},
     "output_type": "display_data"
    },
    {
     "data": {
      "application/vnd.jupyter.widget-view+json": {
       "model_id": "636e778428d043cbb72dd32e54c27d0e",
       "version_major": 2,
       "version_minor": 0
      },
      "text/plain": [
       "Running Epoch 28 of 50:   0%|          | 0/250 [00:00<?, ?it/s]"
      ]
     },
     "metadata": {},
     "output_type": "display_data"
    },
    {
     "data": {
      "application/vnd.jupyter.widget-view+json": {
       "model_id": "fa6412f4ee0c409b90ed192e50607425",
       "version_major": 2,
       "version_minor": 0
      },
      "text/plain": [
       "Running Evaluation:   0%|          | 0/125 [00:00<?, ?it/s]"
      ]
     },
     "metadata": {},
     "output_type": "display_data"
    },
    {
     "data": {
      "application/vnd.jupyter.widget-view+json": {
       "model_id": "8c2ce8e9ab3248b88fe4bf10bd4ddb55",
       "version_major": 2,
       "version_minor": 0
      },
      "text/plain": [
       "Running Epoch 29 of 50:   0%|          | 0/250 [00:00<?, ?it/s]"
      ]
     },
     "metadata": {},
     "output_type": "display_data"
    },
    {
     "data": {
      "application/vnd.jupyter.widget-view+json": {
       "model_id": "97c09eb383804b07ab55a8d726135b98",
       "version_major": 2,
       "version_minor": 0
      },
      "text/plain": [
       "Running Evaluation:   0%|          | 0/125 [00:00<?, ?it/s]"
      ]
     },
     "metadata": {},
     "output_type": "display_data"
    },
    {
     "data": {
      "application/vnd.jupyter.widget-view+json": {
       "model_id": "b13bb51860a2470880c3d6af82365624",
       "version_major": 2,
       "version_minor": 0
      },
      "text/plain": [
       "Running Epoch 30 of 50:   0%|          | 0/250 [00:00<?, ?it/s]"
      ]
     },
     "metadata": {},
     "output_type": "display_data"
    },
    {
     "data": {
      "application/vnd.jupyter.widget-view+json": {
       "model_id": "7339b2c89c4b4f47b835441cbfd757f0",
       "version_major": 2,
       "version_minor": 0
      },
      "text/plain": [
       "Running Evaluation:   0%|          | 0/125 [00:00<?, ?it/s]"
      ]
     },
     "metadata": {},
     "output_type": "display_data"
    },
    {
     "data": {
      "application/vnd.jupyter.widget-view+json": {
       "model_id": "d1fec76f8f1b4966a32f81673c85ba02",
       "version_major": 2,
       "version_minor": 0
      },
      "text/plain": [
       "Running Epoch 31 of 50:   0%|          | 0/250 [00:00<?, ?it/s]"
      ]
     },
     "metadata": {},
     "output_type": "display_data"
    },
    {
     "data": {
      "application/vnd.jupyter.widget-view+json": {
       "model_id": "d4b8bebc2c6148dbbb172aeba11b07b7",
       "version_major": 2,
       "version_minor": 0
      },
      "text/plain": [
       "Running Evaluation:   0%|          | 0/125 [00:00<?, ?it/s]"
      ]
     },
     "metadata": {},
     "output_type": "display_data"
    },
    {
     "data": {
      "application/vnd.jupyter.widget-view+json": {
       "model_id": "0b77ff3a13d240858e3c9385ac7cead8",
       "version_major": 2,
       "version_minor": 0
      },
      "text/plain": [
       "Running Evaluation:   0%|          | 0/125 [00:00<?, ?it/s]"
      ]
     },
     "metadata": {},
     "output_type": "display_data"
    },
    {
     "data": {
      "application/vnd.jupyter.widget-view+json": {
       "model_id": "cfab90d0d6e046cc8d80816942d705d6",
       "version_major": 2,
       "version_minor": 0
      },
      "text/plain": [
       "Running Epoch 32 of 50:   0%|          | 0/250 [00:00<?, ?it/s]"
      ]
     },
     "metadata": {},
     "output_type": "display_data"
    },
    {
     "data": {
      "application/vnd.jupyter.widget-view+json": {
       "model_id": "0b3234ef94d04a478f579339cad69cd1",
       "version_major": 2,
       "version_minor": 0
      },
      "text/plain": [
       "Running Evaluation:   0%|          | 0/125 [00:00<?, ?it/s]"
      ]
     },
     "metadata": {},
     "output_type": "display_data"
    },
    {
     "data": {
      "application/vnd.jupyter.widget-view+json": {
       "model_id": "261140e3d6aa44b1b973e562143405df",
       "version_major": 2,
       "version_minor": 0
      },
      "text/plain": [
       "Running Epoch 33 of 50:   0%|          | 0/250 [00:00<?, ?it/s]"
      ]
     },
     "metadata": {},
     "output_type": "display_data"
    },
    {
     "data": {
      "application/vnd.jupyter.widget-view+json": {
       "model_id": "10d81989504d413cb91a232dc81889de",
       "version_major": 2,
       "version_minor": 0
      },
      "text/plain": [
       "Running Evaluation:   0%|          | 0/125 [00:00<?, ?it/s]"
      ]
     },
     "metadata": {},
     "output_type": "display_data"
    },
    {
     "data": {
      "application/vnd.jupyter.widget-view+json": {
       "model_id": "83c6448a363945fb842caab5c56c19b6",
       "version_major": 2,
       "version_minor": 0
      },
      "text/plain": [
       "Running Epoch 34 of 50:   0%|          | 0/250 [00:00<?, ?it/s]"
      ]
     },
     "metadata": {},
     "output_type": "display_data"
    },
    {
     "data": {
      "application/vnd.jupyter.widget-view+json": {
       "model_id": "bb5ef3ce163b46e3bf26302093fa1b04",
       "version_major": 2,
       "version_minor": 0
      },
      "text/plain": [
       "Running Evaluation:   0%|          | 0/125 [00:00<?, ?it/s]"
      ]
     },
     "metadata": {},
     "output_type": "display_data"
    },
    {
     "data": {
      "application/vnd.jupyter.widget-view+json": {
       "model_id": "82cde65966c44096bd7437b00075def3",
       "version_major": 2,
       "version_minor": 0
      },
      "text/plain": [
       "Running Epoch 35 of 50:   0%|          | 0/250 [00:00<?, ?it/s]"
      ]
     },
     "metadata": {},
     "output_type": "display_data"
    },
    {
     "data": {
      "application/vnd.jupyter.widget-view+json": {
       "model_id": "1babfa0f4f354b7ab8c90638ed7b84e3",
       "version_major": 2,
       "version_minor": 0
      },
      "text/plain": [
       "Running Evaluation:   0%|          | 0/125 [00:00<?, ?it/s]"
      ]
     },
     "metadata": {},
     "output_type": "display_data"
    },
    {
     "data": {
      "application/vnd.jupyter.widget-view+json": {
       "model_id": "ba4c6549dd524d91b34e5fe89aae0bed",
       "version_major": 2,
       "version_minor": 0
      },
      "text/plain": [
       "Running Epoch 36 of 50:   0%|          | 0/250 [00:00<?, ?it/s]"
      ]
     },
     "metadata": {},
     "output_type": "display_data"
    },
    {
     "data": {
      "application/vnd.jupyter.widget-view+json": {
       "model_id": "d55e2a0c11f74cad9229a49364251e08",
       "version_major": 2,
       "version_minor": 0
      },
      "text/plain": [
       "Running Evaluation:   0%|          | 0/125 [00:00<?, ?it/s]"
      ]
     },
     "metadata": {},
     "output_type": "display_data"
    },
    {
     "data": {
      "application/vnd.jupyter.widget-view+json": {
       "model_id": "98add6dc3bb444598048f17ff09560c0",
       "version_major": 2,
       "version_minor": 0
      },
      "text/plain": [
       "Running Epoch 37 of 50:   0%|          | 0/250 [00:00<?, ?it/s]"
      ]
     },
     "metadata": {},
     "output_type": "display_data"
    },
    {
     "data": {
      "application/vnd.jupyter.widget-view+json": {
       "model_id": "3110a1a9f1684de9a8aa3695f96da1f8",
       "version_major": 2,
       "version_minor": 0
      },
      "text/plain": [
       "Running Evaluation:   0%|          | 0/125 [00:00<?, ?it/s]"
      ]
     },
     "metadata": {},
     "output_type": "display_data"
    },
    {
     "data": {
      "application/vnd.jupyter.widget-view+json": {
       "model_id": "ec317138a4134c569c13bbe7b1488f7b",
       "version_major": 2,
       "version_minor": 0
      },
      "text/plain": [
       "Running Epoch 38 of 50:   0%|          | 0/250 [00:00<?, ?it/s]"
      ]
     },
     "metadata": {},
     "output_type": "display_data"
    },
    {
     "data": {
      "application/vnd.jupyter.widget-view+json": {
       "model_id": "53a099d194614a1e9ce7a5913fda47f0",
       "version_major": 2,
       "version_minor": 0
      },
      "text/plain": [
       "Running Evaluation:   0%|          | 0/125 [00:00<?, ?it/s]"
      ]
     },
     "metadata": {},
     "output_type": "display_data"
    },
    {
     "data": {
      "application/vnd.jupyter.widget-view+json": {
       "model_id": "0d5deaae818e4e41a2ddbd89edc75c9c",
       "version_major": 2,
       "version_minor": 0
      },
      "text/plain": [
       "Running Epoch 39 of 50:   0%|          | 0/250 [00:00<?, ?it/s]"
      ]
     },
     "metadata": {},
     "output_type": "display_data"
    },
    {
     "data": {
      "application/vnd.jupyter.widget-view+json": {
       "model_id": "a393b0d334074c069ce15415900a5eab",
       "version_major": 2,
       "version_minor": 0
      },
      "text/plain": [
       "Running Evaluation:   0%|          | 0/125 [00:00<?, ?it/s]"
      ]
     },
     "metadata": {},
     "output_type": "display_data"
    },
    {
     "data": {
      "application/vnd.jupyter.widget-view+json": {
       "model_id": "adacbaa41bec4b119504398ff5c5b42b",
       "version_major": 2,
       "version_minor": 0
      },
      "text/plain": [
       "Running Evaluation:   0%|          | 0/125 [00:00<?, ?it/s]"
      ]
     },
     "metadata": {},
     "output_type": "display_data"
    },
    {
     "data": {
      "application/vnd.jupyter.widget-view+json": {
       "model_id": "09e63320f62449bfa9193677ad1b7333",
       "version_major": 2,
       "version_minor": 0
      },
      "text/plain": [
       "Running Epoch 40 of 50:   0%|          | 0/250 [00:00<?, ?it/s]"
      ]
     },
     "metadata": {},
     "output_type": "display_data"
    },
    {
     "data": {
      "application/vnd.jupyter.widget-view+json": {
       "model_id": "e63dab4753c84d46b9062237ba4f7251",
       "version_major": 2,
       "version_minor": 0
      },
      "text/plain": [
       "Running Evaluation:   0%|          | 0/125 [00:00<?, ?it/s]"
      ]
     },
     "metadata": {},
     "output_type": "display_data"
    },
    {
     "data": {
      "application/vnd.jupyter.widget-view+json": {
       "model_id": "6fd6a528d0ce4e61ba91a5ad4fd5949c",
       "version_major": 2,
       "version_minor": 0
      },
      "text/plain": [
       "Running Epoch 41 of 50:   0%|          | 0/250 [00:00<?, ?it/s]"
      ]
     },
     "metadata": {},
     "output_type": "display_data"
    },
    {
     "data": {
      "application/vnd.jupyter.widget-view+json": {
       "model_id": "16bdbb95770a4251ab89a4c31c9cfcf9",
       "version_major": 2,
       "version_minor": 0
      },
      "text/plain": [
       "Running Evaluation:   0%|          | 0/125 [00:00<?, ?it/s]"
      ]
     },
     "metadata": {},
     "output_type": "display_data"
    },
    {
     "data": {
      "application/vnd.jupyter.widget-view+json": {
       "model_id": "13c1557bceb24a62a9cf65e1d37e9ef7",
       "version_major": 2,
       "version_minor": 0
      },
      "text/plain": [
       "Running Epoch 42 of 50:   0%|          | 0/250 [00:00<?, ?it/s]"
      ]
     },
     "metadata": {},
     "output_type": "display_data"
    },
    {
     "data": {
      "application/vnd.jupyter.widget-view+json": {
       "model_id": "1b6c2a4fb67f440da19776f32ec2607d",
       "version_major": 2,
       "version_minor": 0
      },
      "text/plain": [
       "Running Evaluation:   0%|          | 0/125 [00:00<?, ?it/s]"
      ]
     },
     "metadata": {},
     "output_type": "display_data"
    },
    {
     "data": {
      "application/vnd.jupyter.widget-view+json": {
       "model_id": "78b61ab0ed914b06a0d936911887a21c",
       "version_major": 2,
       "version_minor": 0
      },
      "text/plain": [
       "Running Epoch 43 of 50:   0%|          | 0/250 [00:00<?, ?it/s]"
      ]
     },
     "metadata": {},
     "output_type": "display_data"
    },
    {
     "data": {
      "application/vnd.jupyter.widget-view+json": {
       "model_id": "e285b52f4aa744c0a790145b162e50ee",
       "version_major": 2,
       "version_minor": 0
      },
      "text/plain": [
       "Running Evaluation:   0%|          | 0/125 [00:00<?, ?it/s]"
      ]
     },
     "metadata": {},
     "output_type": "display_data"
    },
    {
     "data": {
      "application/vnd.jupyter.widget-view+json": {
       "model_id": "9b51b175f8244ceebc63af2b3a38f6c3",
       "version_major": 2,
       "version_minor": 0
      },
      "text/plain": [
       "Running Epoch 44 of 50:   0%|          | 0/250 [00:00<?, ?it/s]"
      ]
     },
     "metadata": {},
     "output_type": "display_data"
    },
    {
     "data": {
      "application/vnd.jupyter.widget-view+json": {
       "model_id": "2bac0e408ce441779ad371a854755d7e",
       "version_major": 2,
       "version_minor": 0
      },
      "text/plain": [
       "Running Evaluation:   0%|          | 0/125 [00:00<?, ?it/s]"
      ]
     },
     "metadata": {},
     "output_type": "display_data"
    },
    {
     "data": {
      "application/vnd.jupyter.widget-view+json": {
       "model_id": "a940d3c60bae455bab3b4c0e30706d6b",
       "version_major": 2,
       "version_minor": 0
      },
      "text/plain": [
       "Running Epoch 45 of 50:   0%|          | 0/250 [00:00<?, ?it/s]"
      ]
     },
     "metadata": {},
     "output_type": "display_data"
    },
    {
     "data": {
      "application/vnd.jupyter.widget-view+json": {
       "model_id": "0c3370793a4b4b66af7b02d503b23d3b",
       "version_major": 2,
       "version_minor": 0
      },
      "text/plain": [
       "Running Evaluation:   0%|          | 0/125 [00:00<?, ?it/s]"
      ]
     },
     "metadata": {},
     "output_type": "display_data"
    },
    {
     "data": {
      "application/vnd.jupyter.widget-view+json": {
       "model_id": "6f37034474a94ce88d76cf27b7ae97bd",
       "version_major": 2,
       "version_minor": 0
      },
      "text/plain": [
       "Running Epoch 46 of 50:   0%|          | 0/250 [00:00<?, ?it/s]"
      ]
     },
     "metadata": {},
     "output_type": "display_data"
    },
    {
     "data": {
      "application/vnd.jupyter.widget-view+json": {
       "model_id": "0bbb6329865944ee885abbb37fae7102",
       "version_major": 2,
       "version_minor": 0
      },
      "text/plain": [
       "Running Evaluation:   0%|          | 0/125 [00:00<?, ?it/s]"
      ]
     },
     "metadata": {},
     "output_type": "display_data"
    },
    {
     "data": {
      "application/vnd.jupyter.widget-view+json": {
       "model_id": "bd2e2852707c45fc96cb4fee47cb50db",
       "version_major": 2,
       "version_minor": 0
      },
      "text/plain": [
       "Running Epoch 47 of 50:   0%|          | 0/250 [00:00<?, ?it/s]"
      ]
     },
     "metadata": {},
     "output_type": "display_data"
    },
    {
     "data": {
      "application/vnd.jupyter.widget-view+json": {
       "model_id": "55bc3e0676ac4234bca46ff123523946",
       "version_major": 2,
       "version_minor": 0
      },
      "text/plain": [
       "Running Evaluation:   0%|          | 0/125 [00:00<?, ?it/s]"
      ]
     },
     "metadata": {},
     "output_type": "display_data"
    },
    {
     "data": {
      "application/vnd.jupyter.widget-view+json": {
       "model_id": "14e12dbee7f842b2b3d3afd03514a2b0",
       "version_major": 2,
       "version_minor": 0
      },
      "text/plain": [
       "Running Evaluation:   0%|          | 0/125 [00:00<?, ?it/s]"
      ]
     },
     "metadata": {},
     "output_type": "display_data"
    },
    {
     "data": {
      "application/vnd.jupyter.widget-view+json": {
       "model_id": "04c3da2b9c6c46ffbb573ebde054f997",
       "version_major": 2,
       "version_minor": 0
      },
      "text/plain": [
       "Running Epoch 48 of 50:   0%|          | 0/250 [00:00<?, ?it/s]"
      ]
     },
     "metadata": {},
     "output_type": "display_data"
    },
    {
     "data": {
      "application/vnd.jupyter.widget-view+json": {
       "model_id": "cb81fe523fcb46b48ef08d02610000fb",
       "version_major": 2,
       "version_minor": 0
      },
      "text/plain": [
       "Running Evaluation:   0%|          | 0/125 [00:00<?, ?it/s]"
      ]
     },
     "metadata": {},
     "output_type": "display_data"
    },
    {
     "data": {
      "application/vnd.jupyter.widget-view+json": {
       "model_id": "da41755d7c414411999470939b243e5b",
       "version_major": 2,
       "version_minor": 0
      },
      "text/plain": [
       "Running Epoch 49 of 50:   0%|          | 0/250 [00:00<?, ?it/s]"
      ]
     },
     "metadata": {},
     "output_type": "display_data"
    },
    {
     "data": {
      "application/vnd.jupyter.widget-view+json": {
       "model_id": "015a4ace978e43c4a3cfb64b846b42b7",
       "version_major": 2,
       "version_minor": 0
      },
      "text/plain": [
       "Running Evaluation:   0%|          | 0/125 [00:00<?, ?it/s]"
      ]
     },
     "metadata": {},
     "output_type": "display_data"
    },
    {
     "data": {
      "text/plain": [
       "(12500,\n",
       " defaultdict(list,\n",
       "             {'global_step': [250,\n",
       "               500,\n",
       "               750,\n",
       "               1000,\n",
       "               1250,\n",
       "               1500,\n",
       "               1750,\n",
       "               2000,\n",
       "               2000,\n",
       "               2250,\n",
       "               2500,\n",
       "               2750,\n",
       "               3000,\n",
       "               3250,\n",
       "               3500,\n",
       "               3750,\n",
       "               4000,\n",
       "               4000,\n",
       "               4250,\n",
       "               4500,\n",
       "               4750,\n",
       "               5000,\n",
       "               5250,\n",
       "               5500,\n",
       "               5750,\n",
       "               6000,\n",
       "               6000,\n",
       "               6250,\n",
       "               6500,\n",
       "               6750,\n",
       "               7000,\n",
       "               7250,\n",
       "               7500,\n",
       "               7750,\n",
       "               8000,\n",
       "               8000,\n",
       "               8250,\n",
       "               8500,\n",
       "               8750,\n",
       "               9000,\n",
       "               9250,\n",
       "               9500,\n",
       "               9750,\n",
       "               10000,\n",
       "               10000,\n",
       "               10250,\n",
       "               10500,\n",
       "               10750,\n",
       "               11000,\n",
       "               11250,\n",
       "               11500,\n",
       "               11750,\n",
       "               12000,\n",
       "               12000,\n",
       "               12250,\n",
       "               12500],\n",
       "              'train_loss': [0.45785701274871826,\n",
       "               0.37663522362709045,\n",
       "               0.3746977746486664,\n",
       "               0.30052804946899414,\n",
       "               0.25467368960380554,\n",
       "               0.27120161056518555,\n",
       "               0.20876118540763855,\n",
       "               0.25465601682662964,\n",
       "               0.25465601682662964,\n",
       "               0.1519126147031784,\n",
       "               0.20078825950622559,\n",
       "               0.11361066997051239,\n",
       "               0.13823285698890686,\n",
       "               0.08725805580615997,\n",
       "               0.07543829083442688,\n",
       "               0.06268040835857391,\n",
       "               0.10835250467061996,\n",
       "               0.10835250467061996,\n",
       "               0.02367994748055935,\n",
       "               0.013798277825117111,\n",
       "               0.032028332352638245,\n",
       "               0.026752043515443802,\n",
       "               0.042158886790275574,\n",
       "               0.0703030452132225,\n",
       "               0.03709452226758003,\n",
       "               0.047371238470077515,\n",
       "               0.047371238470077515,\n",
       "               0.024849457666277885,\n",
       "               0.01715400256216526,\n",
       "               0.030591841787099838,\n",
       "               0.0416240431368351,\n",
       "               0.026884576305747032,\n",
       "               0.019834475591778755,\n",
       "               0.018223272636532784,\n",
       "               0.02303438074886799,\n",
       "               0.02303438074886799,\n",
       "               0.008811958134174347,\n",
       "               0.01591460593044758,\n",
       "               0.009951800107955933,\n",
       "               0.012636907398700714,\n",
       "               0.002361175138503313,\n",
       "               0.02891414612531662,\n",
       "               0.02734232321381569,\n",
       "               0.045351263135671616,\n",
       "               0.045351263135671616,\n",
       "               0.03166491910815239,\n",
       "               0.0058618695475161076,\n",
       "               0.024486128240823746,\n",
       "               0.017627928406000137,\n",
       "               0.04122381657361984,\n",
       "               0.056079085916280746,\n",
       "               0.04933393746614456,\n",
       "               0.009088417515158653,\n",
       "               0.009088417515158653,\n",
       "               0.022241579368710518,\n",
       "               0.014741749502718449],\n",
       "              'eval_loss': [0.38103235244750977,\n",
       "               0.36842880690097807,\n",
       "               0.3648139649629593,\n",
       "               0.36739517080783846,\n",
       "               0.38849450945854186,\n",
       "               0.4033234888315201,\n",
       "               0.45181628262996676,\n",
       "               0.4739880459308624,\n",
       "               0.4739880459308624,\n",
       "               0.5016915624141693,\n",
       "               0.5295582661628723,\n",
       "               0.6026919894218444,\n",
       "               0.6272445573806763,\n",
       "               0.6735912311077118,\n",
       "               0.7300623388290405,\n",
       "               0.7343403298854828,\n",
       "               0.7593429040908813,\n",
       "               0.7593429040908813,\n",
       "               0.8088266351222992,\n",
       "               0.8461936995983124,\n",
       "               0.8585432577133179,\n",
       "               0.8543931741714478,\n",
       "               0.9005326931476593,\n",
       "               0.8836700232028961,\n",
       "               0.9173534820079804,\n",
       "               0.9335911977291107,\n",
       "               0.9335911977291107,\n",
       "               0.898354323387146,\n",
       "               0.9753087825775146,\n",
       "               0.9529084546566009,\n",
       "               0.9421363477706909,\n",
       "               0.9842339546680451,\n",
       "               0.9687098214626312,\n",
       "               1.0142328627109527,\n",
       "               1.0030494837760926,\n",
       "               1.0030494837760926,\n",
       "               1.0164530630111694,\n",
       "               1.0571000130176544,\n",
       "               1.0349048869609834,\n",
       "               1.031039173603058,\n",
       "               1.0600990397930146,\n",
       "               1.0518878240585328,\n",
       "               1.0426143350601196,\n",
       "               1.0524168264865876,\n",
       "               1.0524168264865876,\n",
       "               1.0552105169296264,\n",
       "               1.0671930365562439,\n",
       "               1.0842209899425506,\n",
       "               1.0802199065685272,\n",
       "               1.0789289152622223,\n",
       "               1.0732569372653962,\n",
       "               1.0780650935173035,\n",
       "               1.086055882692337,\n",
       "               1.086055882692337,\n",
       "               1.0899645624160768,\n",
       "               1.0950911502838134],\n",
       "              'precision': [0.3476923076923077,\n",
       "               0.35809018567639256,\n",
       "               0.3049403747870528,\n",
       "               0.27232142857142855,\n",
       "               0.3174872665534805,\n",
       "               0.22657342657342658,\n",
       "               0.2742782152230971,\n",
       "               0.17880794701986755,\n",
       "               0.17880794701986755,\n",
       "               0.19119025304592316,\n",
       "               0.16027280477408354,\n",
       "               0.2100656455142232,\n",
       "               0.16321243523316062,\n",
       "               0.16523972602739725,\n",
       "               0.19826652221018418,\n",
       "               0.15415549597855227,\n",
       "               0.161106590724166,\n",
       "               0.161106590724166,\n",
       "               0.17366255144032922,\n",
       "               0.18289353958143767,\n",
       "               0.20182555780933062,\n",
       "               0.19126637554585152,\n",
       "               0.20594713656387664,\n",
       "               0.18725490196078431,\n",
       "               0.19642857142857142,\n",
       "               0.1750392464678179,\n",
       "               0.1750392464678179,\n",
       "               0.15658657829328915,\n",
       "               0.19132893496701225,\n",
       "               0.1593724194880264,\n",
       "               0.16429840142095914,\n",
       "               0.17439703153988867,\n",
       "               0.17854077253218884,\n",
       "               0.19961612284069097,\n",
       "               0.18077601410934743,\n",
       "               0.18077601410934743,\n",
       "               0.1875532821824382,\n",
       "               0.19699812382739212,\n",
       "               0.19261213720316622,\n",
       "               0.1854912764003673,\n",
       "               0.2049102927289896,\n",
       "               0.20097560975609757,\n",
       "               0.18461538461538463,\n",
       "               0.1806797853309481,\n",
       "               0.1806797853309481,\n",
       "               0.19175455417066156,\n",
       "               0.20095693779904306,\n",
       "               0.19017288444040037,\n",
       "               0.18547681539807523,\n",
       "               0.19923371647509577,\n",
       "               0.20118343195266272,\n",
       "               0.2062374245472837,\n",
       "               0.19532710280373833,\n",
       "               0.19532710280373833,\n",
       "               0.2,\n",
       "               0.20492610837438424],\n",
       "              'recall': [0.07115869017632241,\n",
       "               0.08501259445843828,\n",
       "               0.11272040302267003,\n",
       "               0.11523929471032746,\n",
       "               0.11775818639798488,\n",
       "               0.10201511335012595,\n",
       "               0.13161209068010077,\n",
       "               0.10201511335012595,\n",
       "               0.10201511335012595,\n",
       "               0.12846347607052896,\n",
       "               0.11838790931989925,\n",
       "               0.12090680100755667,\n",
       "               0.1190176322418136,\n",
       "               0.12153652392947104,\n",
       "               0.11523929471032746,\n",
       "               0.14483627204030228,\n",
       "               0.12468513853904283,\n",
       "               0.12468513853904283,\n",
       "               0.13287153652392947,\n",
       "               0.1265743073047859,\n",
       "               0.1253148614609572,\n",
       "               0.13790931989924432,\n",
       "               0.11775818639798488,\n",
       "               0.12027707808564232,\n",
       "               0.11775818639798488,\n",
       "               0.14042821158690177,\n",
       "               0.14042821158690177,\n",
       "               0.1190176322418136,\n",
       "               0.12783375314861462,\n",
       "               0.12153652392947104,\n",
       "               0.11649874055415617,\n",
       "               0.11838790931989925,\n",
       "               0.1309823677581864,\n",
       "               0.1309823677581864,\n",
       "               0.12909319899244331,\n",
       "               0.12909319899244331,\n",
       "               0.1385390428211587,\n",
       "               0.13224181360201512,\n",
       "               0.13790931989924432,\n",
       "               0.12720403022670027,\n",
       "               0.13664987405541562,\n",
       "               0.1297229219143577,\n",
       "               0.12846347607052896,\n",
       "               0.12720403022670027,\n",
       "               0.12720403022670027,\n",
       "               0.12594458438287154,\n",
       "               0.13224181360201512,\n",
       "               0.13161209068010077,\n",
       "               0.13350125944584382,\n",
       "               0.1309823677581864,\n",
       "               0.12846347607052896,\n",
       "               0.12909319899244331,\n",
       "               0.13161209068010077,\n",
       "               0.13161209068010077,\n",
       "               0.13350125944584382,\n",
       "               0.1309823677581864],\n",
       "              'f1_score': [0.11813904861474123,\n",
       "               0.13740458015267176,\n",
       "               0.1645977011494253,\n",
       "               0.16194690265486725,\n",
       "               0.17179604960955444,\n",
       "               0.14068606165870604,\n",
       "               0.1778723404255319,\n",
       "               0.12991178829190056,\n",
       "               0.12991178829190056,\n",
       "               0.1536723163841808,\n",
       "               0.13618254255704454,\n",
       "               0.15347721822541965,\n",
       "               0.1376547705753824,\n",
       "               0.14005805515239478,\n",
       "               0.14575866188769415,\n",
       "               0.14935064935064937,\n",
       "               0.14057507987220447,\n",
       "               0.14057507987220447,\n",
       "               0.1505529789511238,\n",
       "               0.14960922962411613,\n",
       "               0.15462315462315462,\n",
       "               0.1602634467618002,\n",
       "               0.14983974358974358,\n",
       "               0.14647239263803682,\n",
       "               0.14724409448818895,\n",
       "               0.15583508036338226,\n",
       "               0.15583508036338226,\n",
       "               0.13524150268336313,\n",
       "               0.15326538316345792,\n",
       "               0.13790639514112182,\n",
       "               0.1363301400147384,\n",
       "               0.1410352588147037,\n",
       "               0.15110788231020705,\n",
       "               0.15817490494296577,\n",
       "               0.1506245407788391,\n",
       "               0.1506245407788391,\n",
       "               0.1593625498007968,\n",
       "               0.1582516955538809,\n",
       "               0.16073394495412843,\n",
       "               0.15091520358610386,\n",
       "               0.1639591990933132,\n",
       "               0.15767317259854574,\n",
       "               0.15150389899740066,\n",
       "               0.1492978566149298,\n",
       "               0.1492978566149298,\n",
       "               0.15203344735841887,\n",
       "               0.15951386251424232,\n",
       "               0.15556382582806105,\n",
       "               0.15525448553643353,\n",
       "               0.15805471124620057,\n",
       "               0.15680245964642583,\n",
       "               0.15879163439194424,\n",
       "               0.15726109857035367,\n",
       "               0.15726109857035367,\n",
       "               0.16012084592145012,\n",
       "               0.15981559738762965]}))"
      ]
     },
     "execution_count": 1,
     "metadata": {},
     "output_type": "execute_result"
    }
   ],
   "source": [
    "\"\"\"\n",
    "The data must be input as a path to a file in the CoNLL format to use lazy loading\n",
    "\n",
    "\"\"\"\n",
    "import torch\n",
    "from simpletransformers.ner import NERModel, NERArgs\n",
    "\n",
    "train_data = \"../../dataset/CoNLL2002-dataset/train_CONLL_BERT.txt\"\n",
    "test_data = \"../../dataset/CoNLL2002-dataset/test_CONLL_BERT.txt\"\n",
    "_NER_TAGS = [\"O\", \"B_D\", \"B_E\", \"I_D\", \"I_E\"]\n",
    "\n",
    "# Configure the model\n",
    "ner_args = NERArgs()\n",
    "ner_args.evaluate_during_training = True\n",
    "ner_args.overwrite_output_dir = True\n",
    "ner_args.train_batch_size = 16\n",
    "# ner_args.max_seq_length = 256\n",
    "ner_args.num_train_epochs = 50 #10\n",
    "ner_args.lazy_loading = True\n",
    "ner_args.save_model_every_epoch = False\n",
    "\n",
    "model = NERModel(\n",
    "    \"camembert\", \"airesearch/wangchanberta-base-att-spm-uncased\", args=ner_args, use_cuda=torch.cuda.is_available(), labels=_NER_TAGS\n",
    ")\n",
    "\n",
    "# Train the modelk\n",
    "model.train_model(train_data,eval_data=test_data)"
   ]
  },
  {
   "cell_type": "code",
   "execution_count": null,
   "metadata": {},
   "outputs": [],
   "source": []
  }
 ],
 "metadata": {
  "interpreter": {
   "hash": "a6dc3a5d5e5e7987cc7d18355d6f408e2f42f41b0aca7d07c9009e9d98d8dd16"
  },
  "kernelspec": {
   "display_name": "Python 3 (ipykernel)",
   "language": "python",
   "name": "python3"
  },
  "language_info": {
   "codemirror_mode": {
    "name": "ipython",
    "version": 3
   },
   "file_extension": ".py",
   "mimetype": "text/x-python",
   "name": "python",
   "nbconvert_exporter": "python",
   "pygments_lexer": "ipython3",
   "version": "3.7.13"
  }
 },
 "nbformat": 4,
 "nbformat_minor": 2
}
