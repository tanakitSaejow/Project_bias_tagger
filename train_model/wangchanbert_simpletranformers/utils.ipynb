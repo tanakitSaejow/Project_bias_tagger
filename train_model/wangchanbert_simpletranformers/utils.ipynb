{
 "cells": [
  {
   "cell_type": "code",
   "execution_count": 1,
   "metadata": {},
   "outputs": [],
   "source": [
    "from transformers import AutoTokenizer, AutoModelForTokenClassification, TokenClassificationPipeline\n",
    "from pythainlp.tokenize import word_tokenize\n",
    "\n",
    "model_path = 'kittisak612/bias-tagger'\n",
    "\n",
    "tokenizer = AutoTokenizer.from_pretrained(model_path,  model_max_length=512)\n",
    "model = AutoModelForTokenClassification.from_pretrained(model_path)\n",
    "pipe = TokenClassificationPipeline(model=model, tokenizer=tokenizer)\n"
   ]
  },
  {
   "cell_type": "code",
   "execution_count": 2,
   "metadata": {},
   "outputs": [],
   "source": [
    "def predict(text):\n",
    "    # word tokenize\n",
    "    text_token = word_tokenize(text)\n",
    "    print(text_token)\n",
    "    text_token = ' '.join(text_token)\n",
    "    prediction = pipe(text_token, grouped_entities=True, ignore_labels=[])\n",
    "#     print(prediction)\n",
    "    # covert predict to html tag\n",
    "    text_pred = \"\"\n",
    "    for dict_pred in prediction:\n",
    "        print(dict_pred)\n",
    "        open_tag = f\"<{dict_pred['entity_group'].lower()}>\"\n",
    "        close_tag = f\"</{dict_pred['entity_group'].lower()}>\"\n",
    "        group_word = dict_pred['word']\n",
    "\n",
    "        if group_word.strip() == \"\":\n",
    "            text_pred += group_word\n",
    "        elif open_tag == \"<o>\":\n",
    "            text_pred += ''.join(group_word.split(\" \"))\n",
    "        else:\n",
    "            group_word = ''.join(group_word.split(\" \"))\n",
    "            text_pred += open_tag + group_word + close_tag\n",
    "    return text_pred"
   ]
  },
  {
   "cell_type": "code",
   "execution_count": 6,
   "metadata": {},
   "outputs": [
    {
     "name": "stdout",
     "output_type": "stream",
     "text": [
      "['ใน', 'เดือน', 'พฤศจิกายน', ' ', '2555', ' ', 'ฮา', 'ร์ต', 'ได้', 'รับรอง', ' ', 'mitt', ' ', 'romney', ' ', 'ให้', 'เป็น', 'ประธานาธิบดี', ' ', 'อย่าง', 'น่าเสียดาย']\n",
      "{'entity_group': 'O', 'score': 0.956949, 'word': 'ใน เดือน พฤศจิกายน 2555 ฮา ร์ต ได้ รับรอง mitt romney ให้ เป็น ประธานาธิบ', 'start': 0, 'end': 83}\n",
      "{'entity_group': 'DELETE', 'score': 0.42201674, 'word': 'ดี', 'start': 83, 'end': 85}\n",
      "{'entity_group': 'DELETE', 'score': 0.95574135, 'word': '', 'start': 87, 'end': 88}\n",
      "{'entity_group': 'DELETE', 'score': 0.7673953, 'word': 'อย่าง น่าเสียดาย', 'start': 88, 'end': 104}\n"
     ]
    },
    {
     "data": {
      "text/plain": [
       "'ในเดือนพฤศจิกายน2555ฮาร์ตได้รับรองmittromneyให้เป็นประธานาธิบ<delete>ดี</delete><delete>อย่างน่าเสียดาย</delete>'"
      ]
     },
     "execution_count": 6,
     "metadata": {},
     "output_type": "execute_result"
    }
   ],
   "source": [
    "\n",
    "text = '''ในเดือนพฤศจิกายน 2555 ฮาร์ตได้รับรอง mitt romney ให้เป็นประธานาธิบดี อย่างน่าเสียดาย'''\n",
    "\n",
    "predict(text)"
   ]
  },
  {
   "cell_type": "code",
   "execution_count": null,
   "metadata": {},
   "outputs": [],
   "source": []
  }
 ],
 "metadata": {
  "interpreter": {
   "hash": "018e0a3ac4678c6eee4f5b6012f6866bd583f46fe819b31cdc8524b9233bdcf3"
  },
  "kernelspec": {
   "display_name": "Python 3 (ipykernel)",
   "language": "python",
   "name": "python3"
  },
  "language_info": {
   "codemirror_mode": {
    "name": "ipython",
    "version": 3
   },
   "file_extension": ".py",
   "mimetype": "text/x-python",
   "name": "python",
   "nbconvert_exporter": "python",
   "pygments_lexer": "ipython3",
   "version": "3.7.13"
  }
 },
 "nbformat": 4,
 "nbformat_minor": 2
}
